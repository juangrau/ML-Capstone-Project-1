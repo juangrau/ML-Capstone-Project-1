{
 "cells": [
  {
   "cell_type": "markdown",
   "metadata": {
    "id": "GXLdtr9bO6Jk"
   },
   "source": [
    "# Machine Learning Zoomcamp - Capstone Project 1 - Terrain Image Classification\n",
    "\n",
    "As described on the Readme.md file, in this project we'll train and tune a Convolutional Neural Network model to classify image terraings.\n",
    "\n",
    "The dataset is available at Zenodo.org at [this address]('https://zenodo.org/records/7711810/files/EuroSAT_RGB.zip?download=1')\n",
    "\n",
    "Lets download the dataset"
   ]
  },
  {
   "cell_type": "markdown",
   "metadata": {
    "id": "db_V3jYYyWwh"
   },
   "source": [
    "## Download dataset"
   ]
  },
  {
   "cell_type": "code",
   "execution_count": 1,
   "metadata": {
    "execution": {
     "iopub.execute_input": "2024-12-27T19:23:21.731577Z",
     "iopub.status.busy": "2024-12-27T19:23:21.731282Z",
     "iopub.status.idle": "2024-12-27T19:23:31.983578Z",
     "shell.execute_reply": "2024-12-27T19:23:31.982484Z",
     "shell.execute_reply.started": "2024-12-27T19:23:21.731543Z"
    },
    "id": "o5f4RtwfNzG0",
    "outputId": "c4b499b5-18a2-4005-9831-7b9f7048b412",
    "trusted": true
   },
   "outputs": [
    {
     "name": "stdout",
     "output_type": "stream",
     "text": [
      "--2024-12-27 19:23:21--  https://zenodo.org/records/7711810/files/EuroSAT_RGB.zip\n",
      "Resolving zenodo.org (zenodo.org)... 188.185.45.92, 188.185.48.194, 188.185.43.25, ...\n",
      "Connecting to zenodo.org (zenodo.org)|188.185.45.92|:443... connected.\n",
      "HTTP request sent, awaiting response... 200 OK\n",
      "Length: 94658721 (90M) [application/octet-stream]\n",
      "Saving to: ‘EuroSAT_RGB.zip’\n",
      "\n",
      "EuroSAT_RGB.zip     100%[===================>]  90.27M  10.9MB/s    in 9.4s    \n",
      "\n",
      "2024-12-27 19:23:31 (9.62 MB/s) - ‘EuroSAT_RGB.zip’ saved [94658721/94658721]\n",
      "\n"
     ]
    }
   ],
   "source": [
    "!wget https://zenodo.org/records/7711810/files/EuroSAT_RGB.zip"
   ]
  },
  {
   "cell_type": "markdown",
   "metadata": {
    "id": "DdGAjvY4E9ur"
   },
   "source": [
    "After downloading the file, lets see the content of the directory:"
   ]
  },
  {
   "cell_type": "code",
   "execution_count": null,
   "metadata": {
    "execution": {
     "iopub.execute_input": "2024-12-26T16:43:01.753391Z",
     "iopub.status.busy": "2024-12-26T16:43:01.753030Z",
     "iopub.status.idle": "2024-12-26T16:43:01.874465Z",
     "shell.execute_reply": "2024-12-26T16:43:01.873377Z",
     "shell.execute_reply.started": "2024-12-26T16:43:01.753358Z"
    },
    "id": "roH2HA9WXM-u",
    "outputId": "9b90aadd-949b-4061-e53f-cd72afbb74f6",
    "trusted": true
   },
   "outputs": [],
   "source": [
    "!ls"
   ]
  },
  {
   "cell_type": "markdown",
   "metadata": {
    "id": "lIO5KuN6FPk8"
   },
   "source": [
    "We extract the data from the zip file downloaded"
   ]
  },
  {
   "cell_type": "code",
   "execution_count": 2,
   "metadata": {
    "execution": {
     "iopub.execute_input": "2024-12-27T19:23:35.191073Z",
     "iopub.status.busy": "2024-12-27T19:23:35.190805Z",
     "iopub.status.idle": "2024-12-27T19:23:37.366189Z",
     "shell.execute_reply": "2024-12-27T19:23:37.365273Z",
     "shell.execute_reply.started": "2024-12-27T19:23:35.191053Z"
    },
    "id": "co2a42RnXP4G",
    "outputId": "011bfba9-55bd-445e-af97-54d49bd9532e",
    "trusted": true
   },
   "outputs": [],
   "source": [
    "!unzip -q EuroSAT_RGB.zip"
   ]
  },
  {
   "cell_type": "markdown",
   "metadata": {
    "id": "OhpZFdOlFSJ1"
   },
   "source": [
    "Lets take a look again at the folder and the content of the folder we just extracted"
   ]
  },
  {
   "cell_type": "code",
   "execution_count": null,
   "metadata": {
    "execution": {
     "iopub.execute_input": "2024-12-26T16:43:08.872175Z",
     "iopub.status.busy": "2024-12-26T16:43:08.871841Z",
     "iopub.status.idle": "2024-12-26T16:43:08.989418Z",
     "shell.execute_reply": "2024-12-26T16:43:08.988383Z",
     "shell.execute_reply.started": "2024-12-26T16:43:08.872148Z"
    },
    "id": "6lkD4NreLQWA",
    "outputId": "39c5f444-19e7-4a4e-bb89-bd53b4648b7a",
    "trusted": true
   },
   "outputs": [],
   "source": [
    "!ls"
   ]
  },
  {
   "cell_type": "code",
   "execution_count": null,
   "metadata": {
    "execution": {
     "iopub.execute_input": "2024-12-26T16:43:10.215330Z",
     "iopub.status.busy": "2024-12-26T16:43:10.215001Z",
     "iopub.status.idle": "2024-12-26T16:43:10.332494Z",
     "shell.execute_reply": "2024-12-26T16:43:10.331686Z",
     "shell.execute_reply.started": "2024-12-26T16:43:10.215303Z"
    },
    "id": "SqtlOacCXjpX",
    "outputId": "fd6f02da-75d4-44df-f80a-837ef0a883e2",
    "trusted": true
   },
   "outputs": [],
   "source": [
    "!ls EuroSAT_RGB"
   ]
  },
  {
   "cell_type": "markdown",
   "metadata": {
    "id": "m-_JVT7oXyee"
   },
   "source": [
    "We can see there are 10 different classes of terrain, but the images are not yet distributed as train, test and validation, so we need to do that"
   ]
  },
  {
   "cell_type": "markdown",
   "metadata": {
    "id": "cZQ355l3YAiN"
   },
   "source": [
    "## Data Preparation and split"
   ]
  },
  {
   "cell_type": "code",
   "execution_count": 3,
   "metadata": {
    "execution": {
     "iopub.execute_input": "2024-12-27T19:23:39.434467Z",
     "iopub.status.busy": "2024-12-27T19:23:39.434110Z",
     "iopub.status.idle": "2024-12-27T19:23:39.960249Z",
     "shell.execute_reply": "2024-12-27T19:23:39.959548Z",
     "shell.execute_reply.started": "2024-12-27T19:23:39.434439Z"
    },
    "id": "Xm43lR6iXwMP",
    "trusted": true
   },
   "outputs": [],
   "source": [
    "import os\n",
    "import shutil\n",
    "from sklearn.model_selection import train_test_split\n"
   ]
  },
  {
   "cell_type": "code",
   "execution_count": 4,
   "metadata": {
    "execution": {
     "iopub.execute_input": "2024-12-27T19:23:43.131905Z",
     "iopub.status.busy": "2024-12-27T19:23:43.131470Z",
     "iopub.status.idle": "2024-12-27T19:23:43.140400Z",
     "shell.execute_reply": "2024-12-27T19:23:43.139739Z",
     "shell.execute_reply.started": "2024-12-27T19:23:43.131876Z"
    },
    "id": "tvhM-53MBqdI",
    "outputId": "4a3047df-7e00-410b-f4b6-0699b837b416",
    "trusted": true
   },
   "outputs": [
    {
     "data": {
      "text/plain": [
       "['SeaLake',\n",
       " 'River',\n",
       " 'Forest',\n",
       " 'HerbaceousVegetation',\n",
       " 'AnnualCrop',\n",
       " 'Industrial',\n",
       " 'Pasture',\n",
       " 'Residential',\n",
       " 'PermanentCrop',\n",
       " 'Highway']"
      ]
     },
     "execution_count": 4,
     "metadata": {},
     "output_type": "execute_result"
    }
   ],
   "source": [
    "categories = os.listdir('EuroSAT_RGB')\n",
    "categories"
   ]
  },
  {
   "cell_type": "markdown",
   "metadata": {
    "id": "5c2XJt_zFgYT"
   },
   "source": [
    "For our model training, we need to create folders for train, test and evaluation.\n",
    "\n",
    "Additionally, as we have 10 different classes of terrain, we need to create folders with these classes inside the training, testing and evaluation forlder"
   ]
  },
  {
   "cell_type": "code",
   "execution_count": 5,
   "metadata": {
    "execution": {
     "iopub.execute_input": "2024-12-27T19:23:46.314668Z",
     "iopub.status.busy": "2024-12-27T19:23:46.314350Z",
     "iopub.status.idle": "2024-12-27T19:23:46.320320Z",
     "shell.execute_reply": "2024-12-27T19:23:46.319560Z",
     "shell.execute_reply.started": "2024-12-27T19:23:46.314643Z"
    },
    "id": "buxsPSxAUNOK",
    "trusted": true
   },
   "outputs": [],
   "source": [
    "for dir_name in ['train', 'val', 'test']:\n",
    "    for cat in categories:\n",
    "      os.makedirs(dir_name, exist_ok=True)\n",
    "      os.makedirs(os.path.join(dir_name, cat), exist_ok=True)"
   ]
  },
  {
   "cell_type": "code",
   "execution_count": null,
   "metadata": {
    "execution": {
     "iopub.execute_input": "2024-12-26T16:43:27.230229Z",
     "iopub.status.busy": "2024-12-26T16:43:27.229914Z",
     "iopub.status.idle": "2024-12-26T16:43:27.351269Z",
     "shell.execute_reply": "2024-12-26T16:43:27.350045Z",
     "shell.execute_reply.started": "2024-12-26T16:43:27.230203Z"
    },
    "id": "mavJhK8bUyy0",
    "outputId": "df81af14-d6bb-4bb6-c395-533f5a1e06dd",
    "trusted": true
   },
   "outputs": [],
   "source": [
    "!ls"
   ]
  },
  {
   "cell_type": "markdown",
   "metadata": {
    "id": "Dp23YeNWFw_s"
   },
   "source": [
    "If we look inside the train folder we should see folders for each of the categories"
   ]
  },
  {
   "cell_type": "code",
   "execution_count": null,
   "metadata": {
    "execution": {
     "iopub.execute_input": "2024-12-26T16:43:30.201147Z",
     "iopub.status.busy": "2024-12-26T16:43:30.200798Z",
     "iopub.status.idle": "2024-12-26T16:43:30.321032Z",
     "shell.execute_reply": "2024-12-26T16:43:30.320166Z",
     "shell.execute_reply.started": "2024-12-26T16:43:30.201103Z"
    },
    "id": "_ZTKrq5jUXIW",
    "outputId": "82f478f2-58fc-433f-e0ed-be6cc7486d72",
    "trusted": true
   },
   "outputs": [],
   "source": [
    "!ls train"
   ]
  },
  {
   "cell_type": "markdown",
   "metadata": {
    "id": "crOo38IQF30z"
   },
   "source": [
    "Now we do the train, test, validation split, meaning that we are making a distribution of the images of each of the 10 classes available, inside the train, test and validation folders and subfolders."
   ]
  },
  {
   "cell_type": "code",
   "execution_count": 6,
   "metadata": {
    "execution": {
     "iopub.execute_input": "2024-12-27T19:23:50.230105Z",
     "iopub.status.busy": "2024-12-27T19:23:50.229824Z",
     "iopub.status.idle": "2024-12-27T19:23:52.678884Z",
     "shell.execute_reply": "2024-12-27T19:23:52.678277Z",
     "shell.execute_reply.started": "2024-12-27T19:23:50.230084Z"
    },
    "id": "iSDM6kbhU8y0",
    "outputId": "fd42d310-7197-489f-f2dd-fefcdcf6bd3f",
    "trusted": true
   },
   "outputs": [
    {
     "name": "stdout",
     "output_type": "stream",
     "text": [
      "SeaLake 3000\n",
      "River 2500\n",
      "Forest 3000\n",
      "HerbaceousVegetation 3000\n",
      "AnnualCrop 3000\n",
      "Industrial 2500\n",
      "Pasture 2000\n",
      "Residential 3000\n",
      "PermanentCrop 2500\n",
      "Highway 2500\n"
     ]
    }
   ],
   "source": [
    "for cat in categories:\n",
    "  image_paths = []\n",
    "  for img in os.listdir(os.path.join('EuroSAT_RGB/', cat)):\n",
    "    image_paths.append(os.path.join('EuroSAT_RGB/', cat, img))\n",
    "  print(cat, len(image_paths))\n",
    "  full_train_paths, test_paths = train_test_split(image_paths, test_size=0.2, random_state=42)\n",
    "  train_paths, val_paths = train_test_split(full_train_paths, test_size=0.25, random_state=42)\n",
    "  for path in train_paths:\n",
    "    image = path.split('/')[-1]\n",
    "    shutil.copy(path, os.path.join('train', cat, image))\n",
    "  for path in val_paths:\n",
    "    image = path.split('/')[-1]\n",
    "    shutil.copy(path, os.path.join('val', cat, image))\n",
    "  for path in test_paths:\n",
    "    image = path.split('/')[-1]\n",
    "    shutil.copy(path, os.path.join('test', cat, image))"
   ]
  },
  {
   "cell_type": "markdown",
   "metadata": {
    "id": "bYJM8VqrGHck"
   },
   "source": [
    "Just to make sure the images are splitted right, we can list and get the number of files per folder/subfolder. Lets take the AnnualCrop subfolder as an example."
   ]
  },
  {
   "cell_type": "code",
   "execution_count": null,
   "metadata": {
    "execution": {
     "iopub.execute_input": "2024-12-26T16:43:39.865961Z",
     "iopub.status.busy": "2024-12-26T16:43:39.865675Z",
     "iopub.status.idle": "2024-12-26T16:43:39.998462Z",
     "shell.execute_reply": "2024-12-26T16:43:39.997419Z",
     "shell.execute_reply.started": "2024-12-26T16:43:39.865940Z"
    },
    "id": "5vMp2zI5Xg_8",
    "outputId": "53855b71-5cd3-4bf8-b0f4-25cf200ac0dc",
    "trusted": true
   },
   "outputs": [],
   "source": [
    "!ls -l test/AnnualCrop|wc -l"
   ]
  },
  {
   "cell_type": "code",
   "execution_count": null,
   "metadata": {
    "execution": {
     "iopub.execute_input": "2024-12-23T03:28:18.124677Z",
     "iopub.status.busy": "2024-12-23T03:28:18.124364Z",
     "iopub.status.idle": "2024-12-23T03:28:18.265212Z",
     "shell.execute_reply": "2024-12-23T03:28:18.264307Z",
     "shell.execute_reply.started": "2024-12-23T03:28:18.124651Z"
    },
    "id": "BwDyOAYYYMXr",
    "outputId": "00b07ee2-c6d3-4d26-db7f-213d9a015c1e",
    "trusted": true
   },
   "outputs": [],
   "source": [
    "!ls -l train/AnnualCrop|wc -l"
   ]
  },
  {
   "cell_type": "code",
   "execution_count": null,
   "metadata": {
    "execution": {
     "iopub.execute_input": "2024-12-23T03:28:21.391545Z",
     "iopub.status.busy": "2024-12-23T03:28:21.391256Z",
     "iopub.status.idle": "2024-12-23T03:28:21.520094Z",
     "shell.execute_reply": "2024-12-23T03:28:21.519079Z",
     "shell.execute_reply.started": "2024-12-23T03:28:21.391524Z"
    },
    "id": "Usjqmk8WfTle",
    "outputId": "f1e7d606-9b32-43d8-be7c-dffe2bb83563",
    "trusted": true
   },
   "outputs": [],
   "source": [
    "!ls -l val/AnnualCrop|wc -l"
   ]
  },
  {
   "cell_type": "markdown",
   "metadata": {
    "id": "Pjt-bSuhHoo2"
   },
   "source": [
    "As it can be seen the distribution of files is right in terms of train, test, val"
   ]
  },
  {
   "cell_type": "markdown",
   "metadata": {
    "id": "cnc3Tr3ea6jl"
   },
   "source": [
    "## Training and Tunning the Model\n",
    "\n",
    "For training and tunning the model we'll use three parameters:\n",
    "- Learning rate\n",
    "- Dropout rate\n",
    "- Data augmentation"
   ]
  },
  {
   "cell_type": "code",
   "execution_count": null,
   "metadata": {
    "execution": {
     "iopub.execute_input": "2024-12-27T19:23:57.982310Z",
     "iopub.status.busy": "2024-12-27T19:23:57.982004Z",
     "iopub.status.idle": "2024-12-27T19:24:05.931709Z",
     "shell.execute_reply": "2024-12-27T19:24:05.930859Z",
     "shell.execute_reply.started": "2024-12-27T19:23:57.982287Z"
    },
    "id": "IT4ctlIffgYP",
    "trusted": true
   },
   "outputs": [],
   "source": [
    "# Lets import the libraries\n",
    "import numpy as np\n",
    "import tensorflow as tf\n",
    "from tensorflow import keras\n",
    "from tensorflow.keras.preprocessing.image import ImageDataGenerator\n",
    "from tensorflow.keras.models import Sequential\n",
    "from tensorflow.keras.layers import Conv2D, MaxPooling2D, Flatten, Dense, Dropout\n",
    "from tensorflow.keras.optimizers import Adam"
   ]
  },
  {
   "cell_type": "code",
   "execution_count": null,
   "metadata": {
    "execution": {
     "iopub.execute_input": "2024-12-26T17:04:24.634654Z",
     "iopub.status.busy": "2024-12-26T17:04:24.634018Z",
     "iopub.status.idle": "2024-12-26T17:04:24.771649Z",
     "shell.execute_reply": "2024-12-26T17:04:24.770490Z",
     "shell.execute_reply.started": "2024-12-26T17:04:24.634622Z"
    },
    "trusted": true
   },
   "outputs": [],
   "source": [
    "!python --version"
   ]
  },
  {
   "cell_type": "code",
   "execution_count": null,
   "metadata": {
    "execution": {
     "iopub.execute_input": "2024-12-26T17:04:26.897905Z",
     "iopub.status.busy": "2024-12-26T17:04:26.897595Z",
     "iopub.status.idle": "2024-12-26T17:04:26.903546Z",
     "shell.execute_reply": "2024-12-26T17:04:26.902770Z",
     "shell.execute_reply.started": "2024-12-26T17:04:26.897882Z"
    },
    "trusted": true
   },
   "outputs": [],
   "source": [
    "tf.__version__"
   ]
  },
  {
   "cell_type": "markdown",
   "metadata": {
    "id": "UR7U2YghIrQ_"
   },
   "source": [
    "### Basic parameters"
   ]
  },
  {
   "cell_type": "code",
   "execution_count": 8,
   "metadata": {
    "execution": {
     "iopub.execute_input": "2024-12-27T19:24:05.933621Z",
     "iopub.status.busy": "2024-12-27T19:24:05.932990Z",
     "iopub.status.idle": "2024-12-27T19:24:05.938448Z",
     "shell.execute_reply": "2024-12-27T19:24:05.937521Z",
     "shell.execute_reply.started": "2024-12-27T19:24:05.933587Z"
    },
    "id": "Eti7_Npff24E",
    "trusted": true
   },
   "outputs": [],
   "source": [
    "# Define paths and parameters\n",
    "main_dir = os.getcwd()\n",
    "train_dir = os.path.join(main_dir, 'train')\n",
    "test_dir = os.path.join(main_dir, 'test')\n",
    "val_dir = os.path.join(main_dir, 'val')\n",
    "img_width, img_height = 150, 150\n",
    "batch_size = 32\n",
    "num_classes = 10  # Adjust based on the number of classes\n",
    "epochs = 35"
   ]
  },
  {
   "cell_type": "markdown",
   "metadata": {
    "id": "DfnGIzPHI5nh"
   },
   "source": [
    "### Image preparation"
   ]
  },
  {
   "cell_type": "code",
   "execution_count": null,
   "metadata": {
    "execution": {
     "iopub.execute_input": "2024-12-26T17:04:37.357924Z",
     "iopub.status.busy": "2024-12-26T17:04:37.357631Z",
     "iopub.status.idle": "2024-12-26T17:04:37.362187Z",
     "shell.execute_reply": "2024-12-26T17:04:37.361152Z",
     "shell.execute_reply.started": "2024-12-26T17:04:37.357902Z"
    },
    "id": "KncJ0ae7Io4t",
    "trusted": true
   },
   "outputs": [],
   "source": [
    "# Create ImageDataGenerator objects\n",
    "train_datagen = ImageDataGenerator(rescale=1./255)\n",
    "test_datagen = ImageDataGenerator(rescale=1./255)\n",
    "validation_datagen = ImageDataGenerator(rescale=1./255)"
   ]
  },
  {
   "cell_type": "code",
   "execution_count": null,
   "metadata": {
    "execution": {
     "iopub.execute_input": "2024-12-26T17:04:40.268202Z",
     "iopub.status.busy": "2024-12-26T17:04:40.267848Z",
     "iopub.status.idle": "2024-12-26T17:04:40.794136Z",
     "shell.execute_reply": "2024-12-26T17:04:40.793225Z",
     "shell.execute_reply.started": "2024-12-26T17:04:40.268173Z"
    },
    "id": "YLHZcmJdgjzk",
    "outputId": "a94e24c3-6e6c-48b5-a4b2-8319e6197ce7",
    "trusted": true
   },
   "outputs": [],
   "source": [
    "# Load and preprocess data\n",
    "train_generator = train_datagen.flow_from_directory(\n",
    "    train_dir,\n",
    "    target_size=(img_width, img_height),\n",
    "    batch_size=batch_size,\n",
    "    class_mode='categorical')\n",
    "\n",
    "test_generator = test_datagen.flow_from_directory(\n",
    "    test_dir,\n",
    "    target_size=(img_width, img_height),\n",
    "    batch_size=batch_size,\n",
    "    class_mode='categorical')\n",
    "\n",
    "validation_generator = validation_datagen.flow_from_directory(\n",
    "    val_dir,\n",
    "    target_size=(img_width, img_height),\n",
    "    batch_size=batch_size,\n",
    "    class_mode='categorical')"
   ]
  },
  {
   "cell_type": "markdown",
   "metadata": {
    "id": "53KDe502JAHk"
   },
   "source": [
    "### Make Model function\n",
    "\n",
    "In order to make it easy to test and tune the parameters, we are going to define a function that actually create the model considering the parameters indicated previously (learning rate, dropout rate, data augmentation)\n"
   ]
  },
  {
   "cell_type": "code",
   "execution_count": null,
   "metadata": {
    "execution": {
     "iopub.execute_input": "2024-12-27T18:29:33.199301Z",
     "iopub.status.busy": "2024-12-27T18:29:33.198918Z",
     "iopub.status.idle": "2024-12-27T18:29:33.204710Z",
     "shell.execute_reply": "2024-12-27T18:29:33.203837Z",
     "shell.execute_reply.started": "2024-12-27T18:29:33.199273Z"
    },
    "id": "AYbovSRrgsez",
    "trusted": true
   },
   "outputs": [],
   "source": [
    "def make_model(learning_rate, dropout_rate=0.5):\n",
    "  optimizer = Adam(learning_rate=learning_rate)  # Set your desired learning rate here\n",
    "  model = Sequential()\n",
    "  model.add(Conv2D(32, (3, 3), input_shape=(img_width, img_height, 3), activation='relu'))\n",
    "  model.add(MaxPooling2D(pool_size=(2, 2)))\n",
    "  model.add(Conv2D(64, (3, 3), activation='relu'))\n",
    "  model.add(MaxPooling2D(pool_size=(2, 2)))\n",
    "  model.add(Flatten())\n",
    "  model.add(Dense(128, activation='relu'))\n",
    "  model.add(Dropout(dropout_rate))\n",
    "  model.add(Dense(num_classes, activation='softmax'))\n",
    "\n",
    "  model.compile(loss='categorical_crossentropy',\n",
    "                optimizer=optimizer,\n",
    "                metrics=['accuracy'])\n",
    "  return model"
   ]
  },
  {
   "cell_type": "markdown",
   "metadata": {
    "id": "H61jATyJL_T4"
   },
   "source": [
    "### Checkpoints\n",
    "\n",
    "We are also going to setup checkpoints to save the best accuracy models.\n",
    "\n",
    "As we are goint to make different tests based on changing the tunning parameters, we'll be saving the model with different versions, depending on the parameter we are testing.\n",
    "\n",
    "In this case v1 will be related to the tunning of the learning_rate"
   ]
  },
  {
   "cell_type": "code",
   "execution_count": null,
   "metadata": {
    "execution": {
     "iopub.execute_input": "2024-12-23T15:30:15.927140Z",
     "iopub.status.busy": "2024-12-23T15:30:15.926827Z",
     "iopub.status.idle": "2024-12-23T15:30:15.931483Z",
     "shell.execute_reply": "2024-12-23T15:30:15.930520Z",
     "shell.execute_reply.started": "2024-12-23T15:30:15.927120Z"
    },
    "id": "YOzrnrdjL-MG",
    "trusted": true
   },
   "outputs": [],
   "source": [
    "checkpoint = keras.callbacks.ModelCheckpoint(\n",
    "    'model_v1_{epoch:02d}_{val_accuracy:.3f}.h5.keras',\n",
    "    save_best_only=True,\n",
    "    monitor='val_accuracy',\n",
    "    mode='max'\n",
    ")"
   ]
  },
  {
   "cell_type": "markdown",
   "metadata": {
    "id": "KssQ2L28KKZH"
   },
   "source": [
    "We are going to store the results of each model fit in a dictionary (scores) so we can have all the data at hand and select the best parameters"
   ]
  },
  {
   "cell_type": "code",
   "execution_count": null,
   "metadata": {
    "execution": {
     "iopub.execute_input": "2024-12-23T15:30:44.766059Z",
     "iopub.status.busy": "2024-12-23T15:30:44.765740Z",
     "iopub.status.idle": "2024-12-23T15:39:48.892098Z",
     "shell.execute_reply": "2024-12-23T15:39:48.891393Z",
     "shell.execute_reply.started": "2024-12-23T15:30:44.766034Z"
    },
    "id": "s3zBJ8AoKEij",
    "outputId": "47625317-ea61-43d5-d916-48128b618ba5",
    "trusted": true
   },
   "outputs": [],
   "source": [
    "scores_lr = {}\n",
    "for lr in [0.0001, 0.001]:\n",
    "  print(lr)\n",
    "  model = make_model(learning_rate=lr)\n",
    "  history = model.fit(\n",
    "    train_generator,\n",
    "    steps_per_epoch=train_generator.samples // batch_size,\n",
    "    epochs=epochs,\n",
    "    validation_data=validation_generator,\n",
    "    validation_steps=validation_generator.samples // batch_size,\n",
    "    callbacks=[checkpoint])\n",
    "  scores_lr[lr] = history.history\n",
    "  test_loss, test_acc = model.evaluate(test_generator, steps=test_generator.samples // batch_size)\n",
    "  print('Test accuracy:', test_acc)"
   ]
  },
  {
   "cell_type": "code",
   "execution_count": null,
   "metadata": {
    "execution": {
     "iopub.execute_input": "2024-12-26T17:04:56.097271Z",
     "iopub.status.busy": "2024-12-26T17:04:56.096943Z",
     "iopub.status.idle": "2024-12-26T17:04:56.100829Z",
     "shell.execute_reply": "2024-12-26T17:04:56.100096Z",
     "shell.execute_reply.started": "2024-12-26T17:04:56.097245Z"
    },
    "id": "5zq0UjYHrWd-",
    "trusted": true
   },
   "outputs": [],
   "source": [
    "from matplotlib import pyplot as plt"
   ]
  },
  {
   "cell_type": "code",
   "execution_count": null,
   "metadata": {
    "execution": {
     "iopub.execute_input": "2024-12-23T15:43:45.467421Z",
     "iopub.status.busy": "2024-12-23T15:43:45.467131Z",
     "iopub.status.idle": "2024-12-23T15:43:45.783422Z",
     "shell.execute_reply": "2024-12-23T15:43:45.782517Z",
     "shell.execute_reply.started": "2024-12-23T15:43:45.467399Z"
    },
    "id": "YbezCtCGrZYb",
    "outputId": "e8e07624-f310-42f1-d791-ecaf9734ba7f",
    "trusted": true
   },
   "outputs": [],
   "source": [
    "for lr, hist in scores_lr.items():\n",
    "  plt.plot(hist['val_accuracy'], label=lr)\n",
    "  plt.title(\"Validation Accuracy by Learning Rate\")\n",
    "  plt.xlabel(\"Epochs\")\n",
    "  plt.ylabel(\"Accuracy\")\n",
    "  plt.legend()"
   ]
  },
  {
   "cell_type": "markdown",
   "metadata": {
    "id": "zTvUF6oJrkvU"
   },
   "source": [
    "Based on this result, the best learning rate would be **0.001** as it shows more stable"
   ]
  },
  {
   "cell_type": "markdown",
   "metadata": {
    "id": "RYDcYAdYsX3R"
   },
   "source": [
    "### Dropout Rate\n",
    "Now we'll try different values for the dropout rate\n"
   ]
  },
  {
   "cell_type": "code",
   "execution_count": null,
   "metadata": {
    "execution": {
     "iopub.execute_input": "2024-12-26T17:08:19.136339Z",
     "iopub.status.busy": "2024-12-26T17:08:19.135954Z",
     "iopub.status.idle": "2024-12-26T17:08:19.140231Z",
     "shell.execute_reply": "2024-12-26T17:08:19.139398Z",
     "shell.execute_reply.started": "2024-12-26T17:08:19.136312Z"
    },
    "id": "HjnHG4uKs_A4",
    "trusted": true
   },
   "outputs": [],
   "source": [
    "checkpoint = keras.callbacks.ModelCheckpoint(\n",
    "    'model_v2_{epoch:02d}_{val_accuracy:.3f}.h5.keras',\n",
    "    save_best_only=True,\n",
    "    monitor='val_accuracy',\n",
    "    mode='max'\n",
    ")"
   ]
  },
  {
   "cell_type": "code",
   "execution_count": null,
   "metadata": {
    "execution": {
     "iopub.execute_input": "2024-12-26T17:08:23.030347Z",
     "iopub.status.busy": "2024-12-26T17:08:23.030001Z",
     "iopub.status.idle": "2024-12-26T17:20:15.337284Z",
     "shell.execute_reply": "2024-12-26T17:20:15.336373Z",
     "shell.execute_reply.started": "2024-12-26T17:08:23.030321Z"
    },
    "id": "qqoyXE4mtE7e",
    "outputId": "d10fad3f-87a9-4062-af70-ae4c03ebd801",
    "trusted": true
   },
   "outputs": [],
   "source": [
    "learning_rate = 0.001\n",
    "scores_dr = {}\n",
    "\n",
    "for dr in [0, 0.1, 0.5]:\n",
    "    print(dr)\n",
    "    history = model.fit(\n",
    "        train_generator,\n",
    "        steps_per_epoch=train_generator.samples // batch_size,\n",
    "        epochs=epochs,\n",
    "        validation_data=validation_generator,\n",
    "        validation_steps=validation_generator.samples // batch_size,\n",
    "        callbacks=[checkpoint])\n",
    "    scores_dr[dr] = history.history\n",
    "    test_loss, test_acc = model.evaluate(test_generator, steps=test_generator.samples // batch_size)\n",
    "    print('Test accuracy:', test_acc)"
   ]
  },
  {
   "cell_type": "code",
   "execution_count": null,
   "metadata": {
    "execution": {
     "iopub.execute_input": "2024-12-26T17:20:35.734072Z",
     "iopub.status.busy": "2024-12-26T17:20:35.733733Z",
     "iopub.status.idle": "2024-12-26T17:20:36.242406Z",
     "shell.execute_reply": "2024-12-26T17:20:36.241589Z",
     "shell.execute_reply.started": "2024-12-26T17:20:35.734028Z"
    },
    "id": "Tr8djDoj-lXk",
    "outputId": "e0f4b02f-c028-4dd3-b2f6-de655d14eff0",
    "trusted": true
   },
   "outputs": [],
   "source": [
    "for dr, hist in scores_dr.items():\n",
    "  if (dr in [0, 0.1, 0.5]):\n",
    "    plt.plot(hist['val_accuracy'], label=dr)\n",
    "    plt.title(\"Validation Accuracy by Dropout rate\")\n",
    "    plt.xlabel(\"Epochs\")\n",
    "    plt.ylabel(\"Accuracy\")\n",
    "    plt.legend()"
   ]
  },
  {
   "cell_type": "markdown",
   "metadata": {
    "id": "qBXHU0Io9fxm"
   },
   "source": [
    "Based on these results, at lower epochs the best **Dropout rate** is 0.1, but at higher epochs we get better results with Dropout rates of 0 and 0.1. For the final decision, we use the Test Accuracy result which was better with a **Dropout Rate of 0.1**"
   ]
  },
  {
   "cell_type": "markdown",
   "metadata": {
    "id": "HUCWI0dM9rZu"
   },
   "source": [
    "### Data Augmentation\n",
    "\n",
    "The final step of the tunning of the model would be based on data augmentation.\n",
    "\n",
    "For this we are going to include additional parameters at the moment when we use the ImageDataGenerator at the training data"
   ]
  },
  {
   "cell_type": "code",
   "execution_count": null,
   "metadata": {
    "execution": {
     "iopub.execute_input": "2024-12-26T17:23:27.709513Z",
     "iopub.status.busy": "2024-12-26T17:23:27.709192Z",
     "iopub.status.idle": "2024-12-26T17:23:27.713931Z",
     "shell.execute_reply": "2024-12-26T17:23:27.713060Z",
     "shell.execute_reply.started": "2024-12-26T17:23:27.709490Z"
    },
    "id": "TasHDgtTldt0",
    "trusted": true
   },
   "outputs": [],
   "source": [
    "train_datagen = ImageDataGenerator(\n",
    "    rescale=1./255,\n",
    "    zoom_range=0.05,\n",
    "    rotation_range=20,    \n",
    "    horizontal_flip=True)\n"
   ]
  },
  {
   "cell_type": "code",
   "execution_count": null,
   "metadata": {
    "execution": {
     "iopub.execute_input": "2024-12-26T17:23:30.834525Z",
     "iopub.status.busy": "2024-12-26T17:23:30.834200Z",
     "iopub.status.idle": "2024-12-26T17:23:31.355748Z",
     "shell.execute_reply": "2024-12-26T17:23:31.355116Z",
     "shell.execute_reply.started": "2024-12-26T17:23:30.834498Z"
    },
    "id": "QFpqyMD8-UGT",
    "outputId": "b6542bc8-c589-4f9b-ee76-e3f1f3b6dc0b",
    "trusted": true
   },
   "outputs": [],
   "source": [
    "# Load and preprocess data\n",
    "train_generator = train_datagen.flow_from_directory(\n",
    "    train_dir,\n",
    "    target_size=(img_width, img_height),\n",
    "    batch_size=batch_size,\n",
    "    class_mode='categorical')\n",
    "\n",
    "test_generator = test_datagen.flow_from_directory(\n",
    "    test_dir,\n",
    "    target_size=(img_width, img_height),\n",
    "    batch_size=batch_size,\n",
    "    class_mode='categorical')\n",
    "\n",
    "validation_generator = validation_datagen.flow_from_directory(\n",
    "    val_dir,\n",
    "    target_size=(img_width, img_height),\n",
    "    batch_size=batch_size,\n",
    "    class_mode='categorical')"
   ]
  },
  {
   "cell_type": "code",
   "execution_count": null,
   "metadata": {
    "execution": {
     "iopub.execute_input": "2024-12-26T17:23:36.707406Z",
     "iopub.status.busy": "2024-12-26T17:23:36.707078Z",
     "iopub.status.idle": "2024-12-26T17:23:36.711207Z",
     "shell.execute_reply": "2024-12-26T17:23:36.710256Z",
     "shell.execute_reply.started": "2024-12-26T17:23:36.707379Z"
    },
    "id": "Jr5KgXau-bKy",
    "trusted": true
   },
   "outputs": [],
   "source": [
    "checkpoint = keras.callbacks.ModelCheckpoint(\n",
    "    'model_v3_{epoch:02d}_{val_accuracy:.3f}.h5.keras',\n",
    "    save_best_only=True,\n",
    "    monitor='val_accuracy',\n",
    "    mode='max'\n",
    ")"
   ]
  },
  {
   "cell_type": "code",
   "execution_count": null,
   "metadata": {
    "execution": {
     "iopub.execute_input": "2024-12-26T17:23:58.945204Z",
     "iopub.status.busy": "2024-12-26T17:23:58.944852Z",
     "iopub.status.idle": "2024-12-26T17:47:09.272988Z",
     "shell.execute_reply": "2024-12-26T17:47:09.272112Z",
     "shell.execute_reply.started": "2024-12-26T17:23:58.945175Z"
    },
    "id": "F9k7gp2w-bKz",
    "outputId": "eeed3377-9bd1-40cd-d7ac-04003b9bdece",
    "trusted": true
   },
   "outputs": [],
   "source": [
    "learning_rate = 0.0001\n",
    "dropout_rate = 0.1\n",
    "batch_size = 32\n",
    "scores_aug = {}\n",
    "\n",
    "model = make_model(learning_rate=learning_rate, dropout_rate=dropout_rate)\n",
    "history = model.fit(\n",
    "  train_generator,\n",
    "  steps_per_epoch=train_generator.samples // batch_size,\n",
    "  epochs=epochs,\n",
    "  validation_data=validation_generator,\n",
    "  validation_steps=validation_generator.samples // batch_size,\n",
    "  callbacks=[checkpoint])\n",
    "scores_aug['augment'] = history.history\n",
    "test_loss, test_acc = model.evaluate(test_generator, steps=test_generator.samples // batch_size)\n",
    "print('Test accuracy:', test_acc)"
   ]
  },
  {
   "cell_type": "code",
   "execution_count": null,
   "metadata": {
    "execution": {
     "iopub.execute_input": "2024-12-26T17:47:18.987374Z",
     "iopub.status.busy": "2024-12-26T17:47:18.987065Z",
     "iopub.status.idle": "2024-12-26T17:47:19.189899Z",
     "shell.execute_reply": "2024-12-26T17:47:19.189026Z",
     "shell.execute_reply.started": "2024-12-26T17:47:18.987349Z"
    },
    "id": "Tr8djDoj-lXk",
    "outputId": "e0f4b02f-c028-4dd3-b2f6-de655d14eff0",
    "trusted": true
   },
   "outputs": [],
   "source": [
    "for aug, hist in scores_aug.items():\n",
    "    plt.plot(hist['val_accuracy'])\n",
    "    plt.title(\"Validation Accuracy by Dropout rate\")\n",
    "    plt.xlabel(\"Epochs\")\n",
    "    plt.ylabel(\"Accuracy\")\n",
    "    plt.legend()"
   ]
  },
  {
   "cell_type": "markdown",
   "metadata": {},
   "source": [
    "We got good validation results after augmenting the data at higher epochs and got good validation accuracy"
   ]
  },
  {
   "cell_type": "markdown",
   "metadata": {},
   "source": [
    "## Final model definition\n",
    "\n",
    "We'll train once again the model with the final parameters"
   ]
  },
  {
   "cell_type": "code",
   "execution_count": null,
   "metadata": {
    "execution": {
     "iopub.execute_input": "2024-12-23T06:03:39.361345Z",
     "iopub.status.busy": "2024-12-23T06:03:39.360982Z",
     "iopub.status.idle": "2024-12-23T06:03:39.365106Z",
     "shell.execute_reply": "2024-12-23T06:03:39.364166Z",
     "shell.execute_reply.started": "2024-12-23T06:03:39.361313Z"
    },
    "trusted": true
   },
   "outputs": [],
   "source": [
    "del model"
   ]
  },
  {
   "cell_type": "code",
   "execution_count": 9,
   "metadata": {
    "execution": {
     "iopub.execute_input": "2024-12-27T19:24:40.807971Z",
     "iopub.status.busy": "2024-12-27T19:24:40.807661Z",
     "iopub.status.idle": "2024-12-27T19:24:40.811606Z",
     "shell.execute_reply": "2024-12-27T19:24:40.810815Z",
     "shell.execute_reply.started": "2024-12-27T19:24:40.807948Z"
    },
    "id": "TasHDgtTldt0",
    "trusted": true
   },
   "outputs": [],
   "source": [
    "train_datagen = ImageDataGenerator(\n",
    "    rescale=1./255,\n",
    "    zoom_range=0.02,\n",
    "    rotation_range=15,    \n",
    "    horizontal_flip=True)\n"
   ]
  },
  {
   "cell_type": "code",
   "execution_count": 10,
   "metadata": {
    "execution": {
     "iopub.execute_input": "2024-12-27T19:24:43.711424Z",
     "iopub.status.busy": "2024-12-27T19:24:43.711076Z",
     "iopub.status.idle": "2024-12-27T19:24:43.715427Z",
     "shell.execute_reply": "2024-12-27T19:24:43.714446Z",
     "shell.execute_reply.started": "2024-12-27T19:24:43.711393Z"
    },
    "id": "KncJ0ae7Io4t",
    "trusted": true
   },
   "outputs": [],
   "source": [
    "# Create ImageDataGenerator objects\n",
    "train_datagen = ImageDataGenerator(rescale=1./255)\n",
    "test_datagen = ImageDataGenerator(rescale=1./255)\n",
    "validation_datagen = ImageDataGenerator(rescale=1./255)"
   ]
  },
  {
   "cell_type": "code",
   "execution_count": 11,
   "metadata": {
    "execution": {
     "iopub.execute_input": "2024-12-27T19:24:46.198150Z",
     "iopub.status.busy": "2024-12-27T19:24:46.197872Z",
     "iopub.status.idle": "2024-12-27T19:24:46.747676Z",
     "shell.execute_reply": "2024-12-27T19:24:46.746873Z",
     "shell.execute_reply.started": "2024-12-27T19:24:46.198130Z"
    },
    "id": "YLHZcmJdgjzk",
    "outputId": "a94e24c3-6e6c-48b5-a4b2-8319e6197ce7",
    "trusted": true
   },
   "outputs": [
    {
     "name": "stdout",
     "output_type": "stream",
     "text": [
      "Found 16200 images belonging to 10 classes.\n",
      "Found 5400 images belonging to 10 classes.\n",
      "Found 5400 images belonging to 10 classes.\n"
     ]
    }
   ],
   "source": [
    "# Load and preprocess data\n",
    "train_generator = train_datagen.flow_from_directory(\n",
    "    train_dir,\n",
    "    target_size=(img_width, img_height),\n",
    "    batch_size=batch_size,\n",
    "    class_mode='categorical')\n",
    "\n",
    "test_generator = test_datagen.flow_from_directory(\n",
    "    test_dir,\n",
    "    target_size=(img_width, img_height),\n",
    "    batch_size=batch_size,\n",
    "    class_mode='categorical')\n",
    "\n",
    "validation_generator = validation_datagen.flow_from_directory(\n",
    "    val_dir,\n",
    "    target_size=(img_width, img_height),\n",
    "    batch_size=batch_size,\n",
    "    class_mode='categorical')"
   ]
  },
  {
   "cell_type": "code",
   "execution_count": 12,
   "metadata": {
    "execution": {
     "iopub.execute_input": "2024-12-27T19:24:49.909351Z",
     "iopub.status.busy": "2024-12-27T19:24:49.909001Z",
     "iopub.status.idle": "2024-12-27T19:24:49.913112Z",
     "shell.execute_reply": "2024-12-27T19:24:49.912292Z",
     "shell.execute_reply.started": "2024-12-27T19:24:49.909321Z"
    },
    "id": "Jr5KgXau-bKy",
    "trusted": true
   },
   "outputs": [],
   "source": [
    "checkpoint = keras.callbacks.ModelCheckpoint(\n",
    "    'model_vf_{epoch:02d}_{val_accuracy:.3f}.h5.keras',\n",
    "    save_best_only=True,\n",
    "    monitor='val_accuracy',\n",
    "    mode='max'\n",
    ")"
   ]
  },
  {
   "cell_type": "code",
   "execution_count": 13,
   "metadata": {
    "execution": {
     "iopub.execute_input": "2024-12-27T19:25:46.433193Z",
     "iopub.status.busy": "2024-12-27T19:25:46.432852Z",
     "iopub.status.idle": "2024-12-27T19:25:46.441141Z",
     "shell.execute_reply": "2024-12-27T19:25:46.440185Z",
     "shell.execute_reply.started": "2024-12-27T19:25:46.433165Z"
    },
    "trusted": true
   },
   "outputs": [],
   "source": [
    "def make_model(learning_rate, dropout_rate=0.5):\n",
    "    optimizer = Adam(learning_rate=learning_rate)\n",
    "    model = Sequential()\n",
    "\n",
    "    # First convolutional block\n",
    "    model.add(Conv2D(32, (3, 3), input_shape=(img_width, img_height, 3), activation='relu', padding='same')) \n",
    "    model.add(MaxPooling2D(pool_size=(2, 2)))\n",
    "\n",
    "    # Second convolutional block\n",
    "    model.add(Conv2D(64, (3, 3), activation='relu', padding='same')) \n",
    "    model.add(MaxPooling2D(pool_size=(2, 2)))\n",
    "\n",
    "    # Third convolutional block (optional, for deeper models)\n",
    "    model.add(Conv2D(128, (3, 3), activation='relu', padding='same')) \n",
    "    model.add(MaxPooling2D(pool_size=(2, 2))) \n",
    "\n",
    "    model.add(Flatten())\n",
    "    model.add(Dense(128, activation='relu'))\n",
    "    model.add(Dropout(dropout_rate))\n",
    "    model.add(Dense(num_classes, activation='softmax'))\n",
    "\n",
    "    model.compile(loss='categorical_crossentropy',\n",
    "                  optimizer=optimizer,\n",
    "                  metrics=['accuracy'])\n",
    "    return model"
   ]
  },
  {
   "cell_type": "code",
   "execution_count": 14,
   "metadata": {
    "execution": {
     "iopub.execute_input": "2024-12-27T19:25:55.309520Z",
     "iopub.status.busy": "2024-12-27T19:25:55.309154Z",
     "iopub.status.idle": "2024-12-27T19:31:53.391000Z",
     "shell.execute_reply": "2024-12-27T19:31:53.390286Z",
     "shell.execute_reply.started": "2024-12-27T19:25:55.309492Z"
    },
    "id": "F9k7gp2w-bKz",
    "outputId": "eeed3377-9bd1-40cd-d7ac-04003b9bdece",
    "trusted": true
   },
   "outputs": [
    {
     "name": "stderr",
     "output_type": "stream",
     "text": [
      "/usr/local/lib/python3.10/dist-packages/keras/src/layers/convolutional/base_conv.py:107: UserWarning: Do not pass an `input_shape`/`input_dim` argument to a layer. When using Sequential models, prefer using an `Input(shape)` object as the first layer in the model instead.\n",
      "  super().__init__(activity_regularizer=activity_regularizer, **kwargs)\n"
     ]
    },
    {
     "name": "stdout",
     "output_type": "stream",
     "text": [
      "Epoch 1/35\n"
     ]
    },
    {
     "name": "stderr",
     "output_type": "stream",
     "text": [
      "/usr/local/lib/python3.10/dist-packages/keras/src/trainers/data_adapters/py_dataset_adapter.py:121: UserWarning: Your `PyDataset` class should call `super().__init__(**kwargs)` in its constructor. `**kwargs` can include `workers`, `use_multiprocessing`, `max_queue_size`. Do not pass these arguments to `fit()`, as they will be ignored.\n",
      "  self._warn_if_super_not_called()\n"
     ]
    },
    {
     "name": "stdout",
     "output_type": "stream",
     "text": [
      "\u001b[1m506/506\u001b[0m \u001b[32m━━━━━━━━━━━━━━━━━━━━\u001b[0m\u001b[37m\u001b[0m \u001b[1m32s\u001b[0m 46ms/step - accuracy: 0.2926 - loss: 1.8168 - val_accuracy: 0.6168 - val_loss: 1.0061\n",
      "Epoch 2/35\n",
      "\u001b[1m  1/506\u001b[0m \u001b[37m━━━━━━━━━━━━━━━━━━━━\u001b[0m \u001b[1m15s\u001b[0m 31ms/step - accuracy: 0.5938 - loss: 1.1767"
     ]
    },
    {
     "name": "stderr",
     "output_type": "stream",
     "text": [
      "/usr/lib/python3.10/contextlib.py:153: UserWarning: Your input ran out of data; interrupting training. Make sure that your dataset or generator can generate at least `steps_per_epoch * epochs` batches. You may need to use the `.repeat()` function when building your dataset.\n",
      "  self.gen.throw(typ, value, traceback)\n"
     ]
    },
    {
     "name": "stdout",
     "output_type": "stream",
     "text": [
      "\u001b[1m506/506\u001b[0m \u001b[32m━━━━━━━━━━━━━━━━━━━━\u001b[0m\u001b[37m\u001b[0m \u001b[1m2s\u001b[0m 3ms/step - accuracy: 0.5938 - loss: 1.1767 - val_accuracy: 0.6250 - val_loss: 1.0654\n",
      "Epoch 3/35\n",
      "\u001b[1m506/506\u001b[0m \u001b[32m━━━━━━━━━━━━━━━━━━━━\u001b[0m\u001b[37m\u001b[0m \u001b[1m19s\u001b[0m 37ms/step - accuracy: 0.6403 - loss: 0.9674 - val_accuracy: 0.7770 - val_loss: 0.6530\n",
      "Epoch 4/35\n",
      "\u001b[1m506/506\u001b[0m \u001b[32m━━━━━━━━━━━━━━━━━━━━\u001b[0m\u001b[37m\u001b[0m \u001b[1m0s\u001b[0m 730us/step - accuracy: 0.7188 - loss: 0.7326 - val_accuracy: 0.8333 - val_loss: 0.5321\n",
      "Epoch 5/35\n",
      "\u001b[1m506/506\u001b[0m \u001b[32m━━━━━━━━━━━━━━━━━━━━\u001b[0m\u001b[37m\u001b[0m \u001b[1m19s\u001b[0m 37ms/step - accuracy: 0.7853 - loss: 0.6060 - val_accuracy: 0.7948 - val_loss: 0.5756\n",
      "Epoch 6/35\n",
      "\u001b[1m506/506\u001b[0m \u001b[32m━━━━━━━━━━━━━━━━━━━━\u001b[0m\u001b[37m\u001b[0m \u001b[1m0s\u001b[0m 41us/step - accuracy: 0.7812 - loss: 0.5273 - val_accuracy: 0.7500 - val_loss: 0.6865\n",
      "Epoch 7/35\n",
      "\u001b[1m506/506\u001b[0m \u001b[32m━━━━━━━━━━━━━━━━━━━━\u001b[0m\u001b[37m\u001b[0m \u001b[1m19s\u001b[0m 37ms/step - accuracy: 0.8426 - loss: 0.4499 - val_accuracy: 0.7801 - val_loss: 0.6390\n",
      "Epoch 8/35\n",
      "\u001b[1m506/506\u001b[0m \u001b[32m━━━━━━━━━━━━━━━━━━━━\u001b[0m\u001b[37m\u001b[0m \u001b[1m0s\u001b[0m 43us/step - accuracy: 0.8125 - loss: 0.4117 - val_accuracy: 0.7500 - val_loss: 0.5711\n",
      "Epoch 9/35\n",
      "\u001b[1m506/506\u001b[0m \u001b[32m━━━━━━━━━━━━━━━━━━━━\u001b[0m\u001b[37m\u001b[0m \u001b[1m19s\u001b[0m 37ms/step - accuracy: 0.8866 - loss: 0.3338 - val_accuracy: 0.8088 - val_loss: 0.6472\n",
      "Epoch 10/35\n",
      "\u001b[1m506/506\u001b[0m \u001b[32m━━━━━━━━━━━━━━━━━━━━\u001b[0m\u001b[37m\u001b[0m \u001b[1m0s\u001b[0m 725us/step - accuracy: 0.8750 - loss: 0.2747 - val_accuracy: 0.8750 - val_loss: 0.4153\n",
      "Epoch 11/35\n",
      "\u001b[1m506/506\u001b[0m \u001b[32m━━━━━━━━━━━━━━━━━━━━\u001b[0m\u001b[37m\u001b[0m \u001b[1m19s\u001b[0m 37ms/step - accuracy: 0.9248 - loss: 0.2263 - val_accuracy: 0.8121 - val_loss: 0.6731\n",
      "Epoch 12/35\n",
      "\u001b[1m506/506\u001b[0m \u001b[32m━━━━━━━━━━━━━━━━━━━━\u001b[0m\u001b[37m\u001b[0m \u001b[1m0s\u001b[0m 42us/step - accuracy: 0.9688 - loss: 0.1929 - val_accuracy: 0.7917 - val_loss: 0.7198\n",
      "Epoch 13/35\n",
      "\u001b[1m506/506\u001b[0m \u001b[32m━━━━━━━━━━━━━━━━━━━━\u001b[0m\u001b[37m\u001b[0m \u001b[1m19s\u001b[0m 36ms/step - accuracy: 0.9481 - loss: 0.1501 - val_accuracy: 0.7831 - val_loss: 0.8635\n",
      "Epoch 14/35\n",
      "\u001b[1m506/506\u001b[0m \u001b[32m━━━━━━━━━━━━━━━━━━━━\u001b[0m\u001b[37m\u001b[0m \u001b[1m0s\u001b[0m 34us/step - accuracy: 1.0000 - loss: 0.0547 - val_accuracy: 0.8750 - val_loss: 0.3899\n",
      "Epoch 15/35\n",
      "\u001b[1m506/506\u001b[0m \u001b[32m━━━━━━━━━━━━━━━━━━━━\u001b[0m\u001b[37m\u001b[0m \u001b[1m19s\u001b[0m 37ms/step - accuracy: 0.9602 - loss: 0.1224 - val_accuracy: 0.8080 - val_loss: 0.8318\n",
      "Epoch 16/35\n",
      "\u001b[1m506/506\u001b[0m \u001b[32m━━━━━━━━━━━━━━━━━━━━\u001b[0m\u001b[37m\u001b[0m \u001b[1m0s\u001b[0m 35us/step - accuracy: 0.9375 - loss: 0.2342 - val_accuracy: 0.8750 - val_loss: 0.5253\n",
      "Epoch 17/35\n",
      "\u001b[1m506/506\u001b[0m \u001b[32m━━━━━━━━━━━━━━━━━━━━\u001b[0m\u001b[37m\u001b[0m \u001b[1m19s\u001b[0m 37ms/step - accuracy: 0.9663 - loss: 0.1018 - val_accuracy: 0.7956 - val_loss: 0.9732\n",
      "Epoch 18/35\n",
      "\u001b[1m506/506\u001b[0m \u001b[32m━━━━━━━━━━━━━━━━━━━━\u001b[0m\u001b[37m\u001b[0m \u001b[1m0s\u001b[0m 35us/step - accuracy: 0.9062 - loss: 0.2194 - val_accuracy: 0.8750 - val_loss: 0.7595\n",
      "Epoch 19/35\n",
      "\u001b[1m506/506\u001b[0m \u001b[32m━━━━━━━━━━━━━━━━━━━━\u001b[0m\u001b[37m\u001b[0m \u001b[1m19s\u001b[0m 37ms/step - accuracy: 0.9760 - loss: 0.0719 - val_accuracy: 0.7939 - val_loss: 1.0893\n",
      "Epoch 20/35\n",
      "\u001b[1m506/506\u001b[0m \u001b[32m━━━━━━━━━━━━━━━━━━━━\u001b[0m\u001b[37m\u001b[0m \u001b[1m0s\u001b[0m 42us/step - accuracy: 0.9688 - loss: 0.0495 - val_accuracy: 0.7917 - val_loss: 0.8840\n",
      "Epoch 21/35\n",
      "\u001b[1m506/506\u001b[0m \u001b[32m━━━━━━━━━━━━━━━━━━━━\u001b[0m\u001b[37m\u001b[0m \u001b[1m19s\u001b[0m 37ms/step - accuracy: 0.9784 - loss: 0.0697 - val_accuracy: 0.7747 - val_loss: 1.2048\n",
      "Epoch 22/35\n",
      "\u001b[1m506/506\u001b[0m \u001b[32m━━━━━━━━━━━━━━━━━━━━\u001b[0m\u001b[37m\u001b[0m \u001b[1m0s\u001b[0m 42us/step - accuracy: 0.9688 - loss: 0.1803 - val_accuracy: 0.6667 - val_loss: 2.0631\n",
      "Epoch 23/35\n",
      "\u001b[1m506/506\u001b[0m \u001b[32m━━━━━━━━━━━━━━━━━━━━\u001b[0m\u001b[37m\u001b[0m \u001b[1m19s\u001b[0m 37ms/step - accuracy: 0.9704 - loss: 0.0965 - val_accuracy: 0.8013 - val_loss: 1.0796\n",
      "Epoch 24/35\n",
      "\u001b[1m506/506\u001b[0m \u001b[32m━━━━━━━━━━━━━━━━━━━━\u001b[0m\u001b[37m\u001b[0m \u001b[1m0s\u001b[0m 718us/step - accuracy: 0.9688 - loss: 0.0698 - val_accuracy: 0.9583 - val_loss: 0.5981\n",
      "Epoch 25/35\n",
      "\u001b[1m506/506\u001b[0m \u001b[32m━━━━━━━━━━━━━━━━━━━━\u001b[0m\u001b[37m\u001b[0m \u001b[1m19s\u001b[0m 37ms/step - accuracy: 0.9799 - loss: 0.0618 - val_accuracy: 0.7972 - val_loss: 1.0452\n",
      "Epoch 26/35\n",
      "\u001b[1m506/506\u001b[0m \u001b[32m━━━━━━━━━━━━━━━━━━━━\u001b[0m\u001b[37m\u001b[0m \u001b[1m0s\u001b[0m 50us/step - accuracy: 0.9688 - loss: 0.1278 - val_accuracy: 0.8750 - val_loss: 0.4363\n",
      "Epoch 27/35\n",
      "\u001b[1m506/506\u001b[0m \u001b[32m━━━━━━━━━━━━━━━━━━━━\u001b[0m\u001b[37m\u001b[0m \u001b[1m19s\u001b[0m 37ms/step - accuracy: 0.9842 - loss: 0.0531 - val_accuracy: 0.8039 - val_loss: 1.0871\n",
      "Epoch 28/35\n",
      "\u001b[1m506/506\u001b[0m \u001b[32m━━━━━━━━━━━━━━━━━━━━\u001b[0m\u001b[37m\u001b[0m \u001b[1m0s\u001b[0m 43us/step - accuracy: 0.9688 - loss: 0.0686 - val_accuracy: 0.7917 - val_loss: 1.0297\n",
      "Epoch 29/35\n",
      "\u001b[1m506/506\u001b[0m \u001b[32m━━━━━━━━━━━━━━━━━━━━\u001b[0m\u001b[37m\u001b[0m \u001b[1m19s\u001b[0m 37ms/step - accuracy: 0.9848 - loss: 0.0440 - val_accuracy: 0.7952 - val_loss: 1.3275\n",
      "Epoch 30/35\n",
      "\u001b[1m506/506\u001b[0m \u001b[32m━━━━━━━━━━━━━━━━━━━━\u001b[0m\u001b[37m\u001b[0m \u001b[1m0s\u001b[0m 35us/step - accuracy: 1.0000 - loss: 0.0241 - val_accuracy: 0.7083 - val_loss: 3.4432\n",
      "Epoch 31/35\n",
      "\u001b[1m506/506\u001b[0m \u001b[32m━━━━━━━━━━━━━━━━━━━━\u001b[0m\u001b[37m\u001b[0m \u001b[1m19s\u001b[0m 37ms/step - accuracy: 0.9832 - loss: 0.0513 - val_accuracy: 0.7753 - val_loss: 1.5851\n",
      "Epoch 32/35\n",
      "\u001b[1m506/506\u001b[0m \u001b[32m━━━━━━━━━━━━━━━━━━━━\u001b[0m\u001b[37m\u001b[0m \u001b[1m0s\u001b[0m 36us/step - accuracy: 1.0000 - loss: 0.0098 - val_accuracy: 0.5833 - val_loss: 3.1194\n",
      "Epoch 33/35\n",
      "\u001b[1m506/506\u001b[0m \u001b[32m━━━━━━━━━━━━━━━━━━━━\u001b[0m\u001b[37m\u001b[0m \u001b[1m19s\u001b[0m 36ms/step - accuracy: 0.9842 - loss: 0.0461 - val_accuracy: 0.7926 - val_loss: 1.2931\n",
      "Epoch 34/35\n",
      "\u001b[1m506/506\u001b[0m \u001b[32m━━━━━━━━━━━━━━━━━━━━\u001b[0m\u001b[37m\u001b[0m \u001b[1m0s\u001b[0m 35us/step - accuracy: 0.9688 - loss: 0.0915 - val_accuracy: 0.7500 - val_loss: 2.1171\n",
      "Epoch 35/35\n",
      "\u001b[1m506/506\u001b[0m \u001b[32m━━━━━━━━━━━━━━━━━━━━\u001b[0m\u001b[37m\u001b[0m \u001b[1m19s\u001b[0m 37ms/step - accuracy: 0.9839 - loss: 0.0499 - val_accuracy: 0.7948 - val_loss: 1.3052\n",
      "\u001b[1m168/168\u001b[0m \u001b[32m━━━━━━━━━━━━━━━━━━━━\u001b[0m\u001b[37m\u001b[0m \u001b[1m3s\u001b[0m 19ms/step - accuracy: 0.7940 - loss: 1.3892\n",
      "Test accuracy: 0.8072916865348816\n"
     ]
    }
   ],
   "source": [
    "learning_rate = 0.001\n",
    "dropout_rate = 0.1\n",
    "batch_size = 32\n",
    "scores = {}\n",
    "\n",
    "model = make_model(learning_rate=learning_rate, dropout_rate=dropout_rate)\n",
    "history = model.fit(\n",
    "  train_generator,\n",
    "  steps_per_epoch=train_generator.samples // batch_size,\n",
    "  epochs=epochs,\n",
    "  validation_data=validation_generator,\n",
    "  validation_steps=validation_generator.samples // batch_size,\n",
    "  callbacks=[checkpoint])\n",
    "scores['final'] = history.history\n",
    "test_loss, test_acc = model.evaluate(test_generator, steps=test_generator.samples // batch_size)\n",
    "print('Test accuracy:', test_acc)"
   ]
  },
  {
   "cell_type": "markdown",
   "metadata": {},
   "source": [
    "After running these epochs I got the best choice through a checkpoint where the **val_accuracy** was **0.958**\n",
    "\n",
    "Now that we got the final model, let us take the class_indices for future model predictions"
   ]
  },
  {
   "cell_type": "code",
   "execution_count": 15,
   "metadata": {
    "execution": {
     "iopub.execute_input": "2024-12-27T19:31:56.539754Z",
     "iopub.status.busy": "2024-12-27T19:31:56.539434Z",
     "iopub.status.idle": "2024-12-27T19:31:56.545172Z",
     "shell.execute_reply": "2024-12-27T19:31:56.544384Z",
     "shell.execute_reply.started": "2024-12-27T19:31:56.539726Z"
    },
    "trusted": true
   },
   "outputs": [
    {
     "data": {
      "text/plain": [
       "{'AnnualCrop': 0,\n",
       " 'Forest': 1,\n",
       " 'HerbaceousVegetation': 2,\n",
       " 'Highway': 3,\n",
       " 'Industrial': 4,\n",
       " 'Pasture': 5,\n",
       " 'PermanentCrop': 6,\n",
       " 'Residential': 7,\n",
       " 'River': 8,\n",
       " 'SeaLake': 9}"
      ]
     },
     "execution_count": 15,
     "metadata": {},
     "output_type": "execute_result"
    }
   ],
   "source": [
    "class_indices = train_generator.class_indices\n",
    "class_indices"
   ]
  },
  {
   "cell_type": "markdown",
   "metadata": {},
   "source": [
    "## Converting the model to TF-Lite\n",
    "\n",
    "In order to deploy the service we convert the model to tf-lite"
   ]
  },
  {
   "cell_type": "code",
   "execution_count": 5,
   "metadata": {},
   "outputs": [],
   "source": [
    "import numpy as np\n",
    "import tensorflow as tf"
   ]
  },
  {
   "cell_type": "code",
   "execution_count": 6,
   "metadata": {},
   "outputs": [
    {
     "ename": "NameError",
     "evalue": "name 'model' is not defined",
     "output_type": "error",
     "traceback": [
      "\u001b[0;31m---------------------------------------------------------------------------\u001b[0m",
      "\u001b[0;31mNameError\u001b[0m                                 Traceback (most recent call last)",
      "Cell \u001b[0;32mIn[6], line 1\u001b[0m\n\u001b[0;32m----> 1\u001b[0m converter \u001b[38;5;241m=\u001b[39m tf\u001b[38;5;241m.\u001b[39mlite\u001b[38;5;241m.\u001b[39mTFLiteConverter\u001b[38;5;241m.\u001b[39mfrom_keras_model(\u001b[43mmodel\u001b[49m)\n\u001b[1;32m      3\u001b[0m tflite_model \u001b[38;5;241m=\u001b[39m converter\u001b[38;5;241m.\u001b[39mconvert()\n\u001b[1;32m      5\u001b[0m \u001b[38;5;28;01mwith\u001b[39;00m \u001b[38;5;28mopen\u001b[39m(\u001b[38;5;124m'\u001b[39m\u001b[38;5;124mterrain-classification.tflite\u001b[39m\u001b[38;5;124m'\u001b[39m, \u001b[38;5;124m'\u001b[39m\u001b[38;5;124mwb\u001b[39m\u001b[38;5;124m'\u001b[39m) \u001b[38;5;28;01mas\u001b[39;00m f_out:\n",
      "\u001b[0;31mNameError\u001b[0m: name 'model' is not defined"
     ]
    }
   ],
   "source": [
    "converter = tf.lite.TFLiteConverter.from_keras_model(model)\n",
    "\n",
    "tflite_model = converter.convert()\n",
    "\n",
    "with open('terrain-classification.tflite', 'wb') as f_out:\n",
    "    f_out.write(tflite_model)"
   ]
  }
 ],
 "metadata": {
  "accelerator": "GPU",
  "colab": {
   "gpuType": "T4",
   "provenance": []
  },
  "kaggle": {
   "accelerator": "gpu",
   "dataSources": [],
   "dockerImageVersionId": 30823,
   "isGpuEnabled": true,
   "isInternetEnabled": true,
   "language": "python",
   "sourceType": "notebook"
  },
  "kernelspec": {
   "display_name": "python3.10",
   "language": "python",
   "name": "python3"
  },
  "language_info": {
   "codemirror_mode": {
    "name": "ipython",
    "version": 3
   },
   "file_extension": ".py",
   "mimetype": "text/x-python",
   "name": "python",
   "nbconvert_exporter": "python",
   "pygments_lexer": "ipython3",
   "version": "3.10.12"
  }
 },
 "nbformat": 4,
 "nbformat_minor": 4
}
