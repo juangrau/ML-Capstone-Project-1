{
 "cells": [
  {
   "cell_type": "markdown",
   "metadata": {
    "id": "GXLdtr9bO6Jk"
   },
   "source": [
    "# Machine Learning Zoomcamp - Capstone Project 1 - Terrain Image Classification\n",
    "\n",
    "As described on the Readme.md file, in this project we'll train and tune a Convolutional Neural Network model to classify image terraings.\n",
    "\n",
    "The dataset is available at Zenodo.org at [this address]('https://zenodo.org/records/7711810/files/EuroSAT_RGB.zip?download=1')\n",
    "\n",
    "Lets download the dataset"
   ]
  },
  {
   "cell_type": "markdown",
   "metadata": {
    "id": "db_V3jYYyWwh"
   },
   "source": [
    "## Download dataset"
   ]
  },
  {
   "cell_type": "code",
   "execution_count": 1,
   "metadata": {
    "execution": {
     "iopub.execute_input": "2024-12-30T16:07:42.517509Z",
     "iopub.status.busy": "2024-12-30T16:07:42.517219Z",
     "iopub.status.idle": "2024-12-30T16:07:58.350098Z",
     "shell.execute_reply": "2024-12-30T16:07:58.349025Z",
     "shell.execute_reply.started": "2024-12-30T16:07:42.517475Z"
    },
    "id": "o5f4RtwfNzG0",
    "outputId": "c4b499b5-18a2-4005-9831-7b9f7048b412",
    "trusted": true
   },
   "outputs": [
    {
     "name": "stdout",
     "output_type": "stream",
     "text": [
      "--2024-12-30 16:07:42--  https://zenodo.org/records/7711810/files/EuroSAT_RGB.zip\n",
      "Resolving zenodo.org (zenodo.org)... 188.185.48.194, 188.185.43.25, 188.185.45.92, ...\n",
      "Connecting to zenodo.org (zenodo.org)|188.185.48.194|:443... connected.\n",
      "HTTP request sent, awaiting response... 200 OK\n",
      "Length: 94658721 (90M) [application/octet-stream]\n",
      "Saving to: ‘EuroSAT_RGB.zip’\n",
      "\n",
      "EuroSAT_RGB.zip     100%[===================>]  90.27M  7.08MB/s    in 14s     \n",
      "\n",
      "2024-12-30 16:07:58 (6.26 MB/s) - ‘EuroSAT_RGB.zip’ saved [94658721/94658721]\n",
      "\n"
     ]
    }
   ],
   "source": [
    "!wget https://zenodo.org/records/7711810/files/EuroSAT_RGB.zip"
   ]
  },
  {
   "cell_type": "markdown",
   "metadata": {
    "id": "DdGAjvY4E9ur"
   },
   "source": [
    "After downloading the file, lets see the content of the directory:"
   ]
  },
  {
   "cell_type": "code",
   "execution_count": 2,
   "metadata": {
    "execution": {
     "iopub.execute_input": "2024-12-30T15:31:50.243712Z",
     "iopub.status.busy": "2024-12-30T15:31:50.243382Z",
     "iopub.status.idle": "2024-12-30T15:31:50.362248Z",
     "shell.execute_reply": "2024-12-30T15:31:50.361419Z",
     "shell.execute_reply.started": "2024-12-30T15:31:50.243686Z"
    },
    "id": "roH2HA9WXM-u",
    "outputId": "9b90aadd-949b-4061-e53f-cd72afbb74f6",
    "trusted": true
   },
   "outputs": [
    {
     "name": "stdout",
     "output_type": "stream",
     "text": [
      "EuroSAT_RGB.zip\n"
     ]
    }
   ],
   "source": [
    "!ls"
   ]
  },
  {
   "cell_type": "markdown",
   "metadata": {
    "id": "lIO5KuN6FPk8"
   },
   "source": [
    "We extract the data from the zip file downloaded"
   ]
  },
  {
   "cell_type": "code",
   "execution_count": 2,
   "metadata": {
    "execution": {
     "iopub.execute_input": "2024-12-30T16:08:06.135527Z",
     "iopub.status.busy": "2024-12-30T16:08:06.135230Z",
     "iopub.status.idle": "2024-12-30T16:08:08.302396Z",
     "shell.execute_reply": "2024-12-30T16:08:08.301331Z",
     "shell.execute_reply.started": "2024-12-30T16:08:06.135505Z"
    },
    "id": "co2a42RnXP4G",
    "outputId": "011bfba9-55bd-445e-af97-54d49bd9532e",
    "trusted": true
   },
   "outputs": [],
   "source": [
    "!unzip -q EuroSAT_RGB.zip"
   ]
  },
  {
   "cell_type": "markdown",
   "metadata": {
    "id": "OhpZFdOlFSJ1"
   },
   "source": [
    "Lets take a look again at the folder and the content of the folder we just extracted"
   ]
  },
  {
   "cell_type": "code",
   "execution_count": 4,
   "metadata": {
    "execution": {
     "iopub.execute_input": "2024-12-30T15:31:58.424254Z",
     "iopub.status.busy": "2024-12-30T15:31:58.423939Z",
     "iopub.status.idle": "2024-12-30T15:31:58.541209Z",
     "shell.execute_reply": "2024-12-30T15:31:58.540431Z",
     "shell.execute_reply.started": "2024-12-30T15:31:58.424207Z"
    },
    "id": "6lkD4NreLQWA",
    "outputId": "39c5f444-19e7-4a4e-bb89-bd53b4648b7a",
    "trusted": true
   },
   "outputs": [
    {
     "name": "stdout",
     "output_type": "stream",
     "text": [
      "EuroSAT_RGB  EuroSAT_RGB.zip\n"
     ]
    }
   ],
   "source": [
    "!ls"
   ]
  },
  {
   "cell_type": "code",
   "execution_count": 5,
   "metadata": {
    "execution": {
     "iopub.execute_input": "2024-12-30T15:32:01.100049Z",
     "iopub.status.busy": "2024-12-30T15:32:01.099714Z",
     "iopub.status.idle": "2024-12-30T15:32:01.216948Z",
     "shell.execute_reply": "2024-12-30T15:32:01.216110Z",
     "shell.execute_reply.started": "2024-12-30T15:32:01.100022Z"
    },
    "id": "SqtlOacCXjpX",
    "outputId": "fd6f02da-75d4-44df-f80a-837ef0a883e2",
    "trusted": true
   },
   "outputs": [
    {
     "name": "stdout",
     "output_type": "stream",
     "text": [
      "AnnualCrop  HerbaceousVegetation  Industrial  PermanentCrop  River\n",
      "Forest\t    Highway\t\t  Pasture     Residential    SeaLake\n"
     ]
    }
   ],
   "source": [
    "!ls EuroSAT_RGB"
   ]
  },
  {
   "cell_type": "markdown",
   "metadata": {
    "id": "m-_JVT7oXyee"
   },
   "source": [
    "We can see there are 10 different classes of terrain, but the images are not yet distributed as train, test and validation, so we need to do that"
   ]
  },
  {
   "cell_type": "markdown",
   "metadata": {
    "id": "cZQ355l3YAiN"
   },
   "source": [
    "## Data Preparation and split"
   ]
  },
  {
   "cell_type": "code",
   "execution_count": 3,
   "metadata": {
    "execution": {
     "iopub.execute_input": "2024-12-30T16:08:12.328322Z",
     "iopub.status.busy": "2024-12-30T16:08:12.328021Z",
     "iopub.status.idle": "2024-12-30T16:08:12.854759Z",
     "shell.execute_reply": "2024-12-30T16:08:12.854119Z",
     "shell.execute_reply.started": "2024-12-30T16:08:12.328299Z"
    },
    "id": "Xm43lR6iXwMP",
    "trusted": true
   },
   "outputs": [],
   "source": [
    "import os\n",
    "import shutil\n",
    "from sklearn.model_selection import train_test_split\n"
   ]
  },
  {
   "cell_type": "code",
   "execution_count": 4,
   "metadata": {
    "execution": {
     "iopub.execute_input": "2024-12-30T16:08:15.258580Z",
     "iopub.status.busy": "2024-12-30T16:08:15.258201Z",
     "iopub.status.idle": "2024-12-30T16:08:15.265410Z",
     "shell.execute_reply": "2024-12-30T16:08:15.264565Z",
     "shell.execute_reply.started": "2024-12-30T16:08:15.258554Z"
    },
    "id": "tvhM-53MBqdI",
    "outputId": "4a3047df-7e00-410b-f4b6-0699b837b416",
    "trusted": true
   },
   "outputs": [
    {
     "data": {
      "text/plain": [
       "['AnnualCrop',\n",
       " 'SeaLake',\n",
       " 'River',\n",
       " 'Highway',\n",
       " 'HerbaceousVegetation',\n",
       " 'Forest',\n",
       " 'Industrial',\n",
       " 'Pasture',\n",
       " 'Residential',\n",
       " 'PermanentCrop']"
      ]
     },
     "execution_count": 4,
     "metadata": {},
     "output_type": "execute_result"
    }
   ],
   "source": [
    "categories = os.listdir('EuroSAT_RGB')\n",
    "categories"
   ]
  },
  {
   "cell_type": "markdown",
   "metadata": {
    "id": "5c2XJt_zFgYT"
   },
   "source": [
    "For our model training, we need to create folders for train, test and evaluation.\n",
    "\n",
    "Additionally, as we have 10 different classes of terrain, we need to create folders with these classes inside the training, testing and evaluation forlder"
   ]
  },
  {
   "cell_type": "code",
   "execution_count": 5,
   "metadata": {
    "execution": {
     "iopub.execute_input": "2024-12-30T16:08:19.137381Z",
     "iopub.status.busy": "2024-12-30T16:08:19.137106Z",
     "iopub.status.idle": "2024-12-30T16:08:19.143282Z",
     "shell.execute_reply": "2024-12-30T16:08:19.142405Z",
     "shell.execute_reply.started": "2024-12-30T16:08:19.137359Z"
    },
    "id": "buxsPSxAUNOK",
    "trusted": true
   },
   "outputs": [],
   "source": [
    "for dir_name in ['train', 'val', 'test']:\n",
    "    for cat in categories:\n",
    "      os.makedirs(dir_name, exist_ok=True)\n",
    "      os.makedirs(os.path.join(dir_name, cat), exist_ok=True)"
   ]
  },
  {
   "cell_type": "code",
   "execution_count": 9,
   "metadata": {
    "execution": {
     "iopub.execute_input": "2024-12-30T15:32:30.911517Z",
     "iopub.status.busy": "2024-12-30T15:32:30.911160Z",
     "iopub.status.idle": "2024-12-30T15:32:31.031508Z",
     "shell.execute_reply": "2024-12-30T15:32:31.030706Z",
     "shell.execute_reply.started": "2024-12-30T15:32:30.911487Z"
    },
    "id": "mavJhK8bUyy0",
    "outputId": "df81af14-d6bb-4bb6-c395-533f5a1e06dd",
    "trusted": true
   },
   "outputs": [
    {
     "name": "stdout",
     "output_type": "stream",
     "text": [
      "EuroSAT_RGB  EuroSAT_RGB.zip  test  train  val\n"
     ]
    }
   ],
   "source": [
    "!ls"
   ]
  },
  {
   "cell_type": "markdown",
   "metadata": {
    "id": "Dp23YeNWFw_s"
   },
   "source": [
    "If we look inside the train folder we should see folders for each of the categories"
   ]
  },
  {
   "cell_type": "code",
   "execution_count": 10,
   "metadata": {
    "execution": {
     "iopub.execute_input": "2024-12-30T15:32:33.926124Z",
     "iopub.status.busy": "2024-12-30T15:32:33.925795Z",
     "iopub.status.idle": "2024-12-30T15:32:34.046039Z",
     "shell.execute_reply": "2024-12-30T15:32:34.045186Z",
     "shell.execute_reply.started": "2024-12-30T15:32:33.926096Z"
    },
    "id": "_ZTKrq5jUXIW",
    "outputId": "82f478f2-58fc-433f-e0ed-be6cc7486d72",
    "trusted": true
   },
   "outputs": [
    {
     "name": "stdout",
     "output_type": "stream",
     "text": [
      "AnnualCrop  HerbaceousVegetation  Industrial  PermanentCrop  River\n",
      "Forest\t    Highway\t\t  Pasture     Residential    SeaLake\n"
     ]
    }
   ],
   "source": [
    "!ls train"
   ]
  },
  {
   "cell_type": "markdown",
   "metadata": {
    "id": "crOo38IQF30z"
   },
   "source": [
    "Now we do the train, test, validation split, meaning that we are making a distribution of the images of each of the 10 classes available, inside the train, test and validation folders and subfolders."
   ]
  },
  {
   "cell_type": "code",
   "execution_count": 6,
   "metadata": {
    "execution": {
     "iopub.execute_input": "2024-12-30T16:08:23.953022Z",
     "iopub.status.busy": "2024-12-30T16:08:23.952690Z",
     "iopub.status.idle": "2024-12-30T16:08:26.444100Z",
     "shell.execute_reply": "2024-12-30T16:08:26.443262Z",
     "shell.execute_reply.started": "2024-12-30T16:08:23.952992Z"
    },
    "id": "iSDM6kbhU8y0",
    "outputId": "fd42d310-7197-489f-f2dd-fefcdcf6bd3f",
    "trusted": true
   },
   "outputs": [
    {
     "name": "stdout",
     "output_type": "stream",
     "text": [
      "AnnualCrop 3000\n",
      "SeaLake 3000\n",
      "River 2500\n",
      "Highway 2500\n",
      "HerbaceousVegetation 3000\n",
      "Forest 3000\n",
      "Industrial 2500\n",
      "Pasture 2000\n",
      "Residential 3000\n",
      "PermanentCrop 2500\n"
     ]
    }
   ],
   "source": [
    "for cat in categories:\n",
    "  image_paths = []\n",
    "  for img in os.listdir(os.path.join('EuroSAT_RGB/', cat)):\n",
    "    image_paths.append(os.path.join('EuroSAT_RGB/', cat, img))\n",
    "  print(cat, len(image_paths))\n",
    "  full_train_paths, test_paths = train_test_split(image_paths, test_size=0.2, random_state=42)\n",
    "  train_paths, val_paths = train_test_split(full_train_paths, test_size=0.25, random_state=42)\n",
    "  for path in train_paths:\n",
    "    image = path.split('/')[-1]\n",
    "    shutil.copy(path, os.path.join('train', cat, image))\n",
    "  for path in val_paths:\n",
    "    image = path.split('/')[-1]\n",
    "    shutil.copy(path, os.path.join('val', cat, image))\n",
    "  for path in test_paths:\n",
    "    image = path.split('/')[-1]\n",
    "    shutil.copy(path, os.path.join('test', cat, image))"
   ]
  },
  {
   "cell_type": "markdown",
   "metadata": {
    "id": "bYJM8VqrGHck"
   },
   "source": [
    "Just to make sure the images are splitted right, we can list and get the number of files per folder/subfolder. Lets take the AnnualCrop subfolder as an example."
   ]
  },
  {
   "cell_type": "code",
   "execution_count": 12,
   "metadata": {
    "execution": {
     "iopub.execute_input": "2024-12-30T15:32:42.802342Z",
     "iopub.status.busy": "2024-12-30T15:32:42.802025Z",
     "iopub.status.idle": "2024-12-30T15:32:42.933537Z",
     "shell.execute_reply": "2024-12-30T15:32:42.932751Z",
     "shell.execute_reply.started": "2024-12-30T15:32:42.802318Z"
    },
    "id": "5vMp2zI5Xg_8",
    "outputId": "53855b71-5cd3-4bf8-b0f4-25cf200ac0dc",
    "trusted": true
   },
   "outputs": [
    {
     "name": "stdout",
     "output_type": "stream",
     "text": [
      "601\n"
     ]
    }
   ],
   "source": [
    "!ls -l test/AnnualCrop|wc -l"
   ]
  },
  {
   "cell_type": "code",
   "execution_count": 13,
   "metadata": {
    "execution": {
     "iopub.execute_input": "2024-12-30T15:32:44.997469Z",
     "iopub.status.busy": "2024-12-30T15:32:44.996940Z",
     "iopub.status.idle": "2024-12-30T15:32:45.146860Z",
     "shell.execute_reply": "2024-12-30T15:32:45.145870Z",
     "shell.execute_reply.started": "2024-12-30T15:32:44.997424Z"
    },
    "id": "BwDyOAYYYMXr",
    "outputId": "00b07ee2-c6d3-4d26-db7f-213d9a015c1e",
    "trusted": true
   },
   "outputs": [
    {
     "name": "stdout",
     "output_type": "stream",
     "text": [
      "1801\n"
     ]
    }
   ],
   "source": [
    "!ls -l train/AnnualCrop|wc -l"
   ]
  },
  {
   "cell_type": "code",
   "execution_count": 14,
   "metadata": {
    "execution": {
     "iopub.execute_input": "2024-12-30T15:32:47.376742Z",
     "iopub.status.busy": "2024-12-30T15:32:47.376434Z",
     "iopub.status.idle": "2024-12-30T15:32:47.503694Z",
     "shell.execute_reply": "2024-12-30T15:32:47.502906Z",
     "shell.execute_reply.started": "2024-12-30T15:32:47.376721Z"
    },
    "id": "Usjqmk8WfTle",
    "outputId": "f1e7d606-9b32-43d8-be7c-dffe2bb83563",
    "trusted": true
   },
   "outputs": [
    {
     "name": "stdout",
     "output_type": "stream",
     "text": [
      "601\n"
     ]
    }
   ],
   "source": [
    "!ls -l val/AnnualCrop|wc -l"
   ]
  },
  {
   "cell_type": "markdown",
   "metadata": {
    "id": "Pjt-bSuhHoo2"
   },
   "source": [
    "As it can be seen the distribution of files is right in terms of train, test, val"
   ]
  },
  {
   "cell_type": "markdown",
   "metadata": {
    "id": "cnc3Tr3ea6jl"
   },
   "source": [
    "## Training and Tunning the Model\n",
    "\n",
    "For training and tunning the model we'll use three parameters:\n",
    "- Learning rate\n",
    "- Dropout rate\n",
    "- Data augmentation"
   ]
  },
  {
   "cell_type": "code",
   "execution_count": 7,
   "metadata": {
    "execution": {
     "iopub.execute_input": "2024-12-30T16:08:31.633573Z",
     "iopub.status.busy": "2024-12-30T16:08:31.633290Z",
     "iopub.status.idle": "2024-12-30T16:08:38.097662Z",
     "shell.execute_reply": "2024-12-30T16:08:38.096713Z",
     "shell.execute_reply.started": "2024-12-30T16:08:31.633549Z"
    },
    "id": "IT4ctlIffgYP",
    "trusted": true
   },
   "outputs": [],
   "source": [
    "# Lets import the libraries\n",
    "import numpy as np\n",
    "import tensorflow as tf\n",
    "from tensorflow import keras\n",
    "from tensorflow.keras.preprocessing.image import ImageDataGenerator\n",
    "from tensorflow.keras.models import Sequential\n",
    "from tensorflow.keras.layers import Conv2D, MaxPooling2D, Flatten, Dense, Dropout\n",
    "from tensorflow.keras.optimizers import Adam"
   ]
  },
  {
   "cell_type": "code",
   "execution_count": 8,
   "metadata": {
    "execution": {
     "iopub.execute_input": "2024-12-30T16:08:39.917570Z",
     "iopub.status.busy": "2024-12-30T16:08:39.917000Z",
     "iopub.status.idle": "2024-12-30T16:08:40.052994Z",
     "shell.execute_reply": "2024-12-30T16:08:40.051973Z",
     "shell.execute_reply.started": "2024-12-30T16:08:39.917537Z"
    },
    "trusted": true
   },
   "outputs": [
    {
     "name": "stdout",
     "output_type": "stream",
     "text": [
      "Python 3.10.12\n"
     ]
    },
    {
     "name": "stderr",
     "output_type": "stream",
     "text": [
      "/usr/lib/python3.10/pty.py:89: RuntimeWarning: os.fork() was called. os.fork() is incompatible with multithreaded code, and JAX is multithreaded, so this will likely lead to a deadlock.\n",
      "  pid, fd = os.forkpty()\n"
     ]
    }
   ],
   "source": [
    "!python --version"
   ]
  },
  {
   "cell_type": "code",
   "execution_count": 9,
   "metadata": {
    "execution": {
     "iopub.execute_input": "2024-12-30T16:08:42.335990Z",
     "iopub.status.busy": "2024-12-30T16:08:42.335618Z",
     "iopub.status.idle": "2024-12-30T16:08:42.341525Z",
     "shell.execute_reply": "2024-12-30T16:08:42.340697Z",
     "shell.execute_reply.started": "2024-12-30T16:08:42.335958Z"
    },
    "trusted": true
   },
   "outputs": [
    {
     "data": {
      "text/plain": [
       "'2.17.0'"
      ]
     },
     "execution_count": 9,
     "metadata": {},
     "output_type": "execute_result"
    }
   ],
   "source": [
    "tf.__version__"
   ]
  },
  {
   "cell_type": "markdown",
   "metadata": {
    "id": "UR7U2YghIrQ_"
   },
   "source": [
    "### Basic parameters"
   ]
  },
  {
   "cell_type": "code",
   "execution_count": 10,
   "metadata": {
    "execution": {
     "iopub.execute_input": "2024-12-30T16:08:44.935228Z",
     "iopub.status.busy": "2024-12-30T16:08:44.934936Z",
     "iopub.status.idle": "2024-12-30T16:08:44.940075Z",
     "shell.execute_reply": "2024-12-30T16:08:44.939085Z",
     "shell.execute_reply.started": "2024-12-30T16:08:44.935205Z"
    },
    "id": "Eti7_Npff24E",
    "trusted": true
   },
   "outputs": [],
   "source": [
    "# Define paths and parameters\n",
    "main_dir = os.getcwd()\n",
    "train_dir = os.path.join(main_dir, 'train')\n",
    "test_dir = os.path.join(main_dir, 'test')\n",
    "val_dir = os.path.join(main_dir, 'val')\n",
    "img_width, img_height = 150, 150\n",
    "batch_size = 32\n",
    "num_classes = 10  # Adjust based on the number of classes\n",
    "epochs = 35"
   ]
  },
  {
   "cell_type": "markdown",
   "metadata": {
    "id": "DfnGIzPHI5nh"
   },
   "source": [
    "### Image preparation"
   ]
  },
  {
   "cell_type": "code",
   "execution_count": 11,
   "metadata": {
    "execution": {
     "iopub.execute_input": "2024-12-30T16:08:48.813571Z",
     "iopub.status.busy": "2024-12-30T16:08:48.813276Z",
     "iopub.status.idle": "2024-12-30T16:08:48.817807Z",
     "shell.execute_reply": "2024-12-30T16:08:48.816957Z",
     "shell.execute_reply.started": "2024-12-30T16:08:48.813545Z"
    },
    "id": "KncJ0ae7Io4t",
    "trusted": true
   },
   "outputs": [],
   "source": [
    "# Create ImageDataGenerator objects\n",
    "train_datagen = ImageDataGenerator(rescale=1./255)\n",
    "test_datagen = ImageDataGenerator(rescale=1./255)\n",
    "validation_datagen = ImageDataGenerator(rescale=1./255)"
   ]
  },
  {
   "cell_type": "code",
   "execution_count": 12,
   "metadata": {
    "execution": {
     "iopub.execute_input": "2024-12-30T16:08:51.279670Z",
     "iopub.status.busy": "2024-12-30T16:08:51.279337Z",
     "iopub.status.idle": "2024-12-30T16:08:51.798170Z",
     "shell.execute_reply": "2024-12-30T16:08:51.797537Z",
     "shell.execute_reply.started": "2024-12-30T16:08:51.279638Z"
    },
    "id": "YLHZcmJdgjzk",
    "outputId": "a94e24c3-6e6c-48b5-a4b2-8319e6197ce7",
    "trusted": true
   },
   "outputs": [
    {
     "name": "stdout",
     "output_type": "stream",
     "text": [
      "Found 16200 images belonging to 10 classes.\n",
      "Found 5400 images belonging to 10 classes.\n",
      "Found 5400 images belonging to 10 classes.\n"
     ]
    }
   ],
   "source": [
    "# Load and preprocess data\n",
    "train_generator = train_datagen.flow_from_directory(\n",
    "    train_dir,\n",
    "    target_size=(img_width, img_height),\n",
    "    batch_size=batch_size,\n",
    "    class_mode='categorical')\n",
    "\n",
    "test_generator = test_datagen.flow_from_directory(\n",
    "    test_dir,\n",
    "    target_size=(img_width, img_height),\n",
    "    batch_size=batch_size,\n",
    "    class_mode='categorical')\n",
    "\n",
    "validation_generator = validation_datagen.flow_from_directory(\n",
    "    val_dir,\n",
    "    target_size=(img_width, img_height),\n",
    "    batch_size=batch_size,\n",
    "    class_mode='categorical')"
   ]
  },
  {
   "cell_type": "markdown",
   "metadata": {
    "id": "53KDe502JAHk"
   },
   "source": [
    "### Make Model function\n",
    "\n",
    "In order to make it easy to test and tune the parameters, we are going to define a function that actually create the model considering the parameters indicated previously (learning rate, dropout rate, data augmentation)\n"
   ]
  },
  {
   "cell_type": "code",
   "execution_count": 13,
   "metadata": {
    "execution": {
     "iopub.execute_input": "2024-12-30T16:08:56.363188Z",
     "iopub.status.busy": "2024-12-30T16:08:56.362895Z",
     "iopub.status.idle": "2024-12-30T16:08:56.368795Z",
     "shell.execute_reply": "2024-12-30T16:08:56.367834Z",
     "shell.execute_reply.started": "2024-12-30T16:08:56.363163Z"
    },
    "id": "AYbovSRrgsez",
    "trusted": true
   },
   "outputs": [],
   "source": [
    "def make_model(learning_rate, dropout_rate=0.5):\n",
    "  optimizer = Adam(learning_rate=learning_rate)  # Set your desired learning rate here\n",
    "  model = Sequential()\n",
    "  model.add(Conv2D(32, (3, 3), input_shape=(img_width, img_height, 3), activation='relu'))\n",
    "  model.add(MaxPooling2D(pool_size=(2, 2)))\n",
    "  model.add(Conv2D(64, (3, 3), activation='relu'))\n",
    "  model.add(MaxPooling2D(pool_size=(2, 2)))\n",
    "  model.add(Flatten())\n",
    "  model.add(Dense(128, activation='relu'))\n",
    "  model.add(Dropout(dropout_rate))\n",
    "  model.add(Dense(num_classes, activation='softmax'))\n",
    "\n",
    "  model.compile(loss='categorical_crossentropy',\n",
    "                optimizer=optimizer,\n",
    "                metrics=['accuracy'])\n",
    "  return model"
   ]
  },
  {
   "cell_type": "markdown",
   "metadata": {
    "id": "H61jATyJL_T4"
   },
   "source": [
    "### Checkpoints\n",
    "\n",
    "We are also going to setup checkpoints to save the best accuracy models.\n",
    "\n",
    "As we are goint to make different tests based on changing the tunning parameters, we'll be saving the model with different versions, depending on the parameter we are testing.\n",
    "\n",
    "In this case v1 will be related to the tunning of the learning_rate"
   ]
  },
  {
   "cell_type": "code",
   "execution_count": 22,
   "metadata": {
    "execution": {
     "iopub.execute_input": "2024-12-30T15:46:20.441427Z",
     "iopub.status.busy": "2024-12-30T15:46:20.441063Z",
     "iopub.status.idle": "2024-12-30T15:46:20.445833Z",
     "shell.execute_reply": "2024-12-30T15:46:20.444874Z",
     "shell.execute_reply.started": "2024-12-30T15:46:20.441391Z"
    },
    "id": "YOzrnrdjL-MG",
    "trusted": true
   },
   "outputs": [],
   "source": [
    "checkpoint = keras.callbacks.ModelCheckpoint(\n",
    "    'model_v1_{epoch:02d}_{val_accuracy:.3f}.h5.keras',\n",
    "    save_best_only=True,\n",
    "    monitor='val_accuracy',\n",
    "    mode='max'\n",
    ")"
   ]
  },
  {
   "cell_type": "markdown",
   "metadata": {
    "id": "KssQ2L28KKZH"
   },
   "source": [
    "We are going to store the results of each model fit in a dictionary (scores) so we can have all the data at hand and select the best parameters"
   ]
  },
  {
   "cell_type": "code",
   "execution_count": 23,
   "metadata": {
    "execution": {
     "iopub.execute_input": "2024-12-30T15:46:25.694277Z",
     "iopub.status.busy": "2024-12-30T15:46:25.693959Z",
     "iopub.status.idle": "2024-12-30T15:54:39.012142Z",
     "shell.execute_reply": "2024-12-30T15:54:39.011298Z",
     "shell.execute_reply.started": "2024-12-30T15:46:25.694251Z"
    },
    "id": "s3zBJ8AoKEij",
    "outputId": "47625317-ea61-43d5-d916-48128b618ba5",
    "trusted": true
   },
   "outputs": [
    {
     "name": "stdout",
     "output_type": "stream",
     "text": [
      "0.0001\n"
     ]
    },
    {
     "name": "stderr",
     "output_type": "stream",
     "text": [
      "/usr/local/lib/python3.10/dist-packages/keras/src/layers/convolutional/base_conv.py:107: UserWarning: Do not pass an `input_shape`/`input_dim` argument to a layer. When using Sequential models, prefer using an `Input(shape)` object as the first layer in the model instead.\n",
      "  super().__init__(activity_regularizer=activity_regularizer, **kwargs)\n"
     ]
    },
    {
     "name": "stdout",
     "output_type": "stream",
     "text": [
      "Epoch 1/35\n"
     ]
    },
    {
     "name": "stderr",
     "output_type": "stream",
     "text": [
      "/usr/local/lib/python3.10/dist-packages/keras/src/trainers/data_adapters/py_dataset_adapter.py:121: UserWarning: Your `PyDataset` class should call `super().__init__(**kwargs)` in its constructor. `**kwargs` can include `workers`, `use_multiprocessing`, `max_queue_size`. Do not pass these arguments to `fit()`, as they will be ignored.\n",
      "  self._warn_if_super_not_called()\n"
     ]
    },
    {
     "name": "stdout",
     "output_type": "stream",
     "text": [
      "\u001b[1m506/506\u001b[0m \u001b[32m━━━━━━━━━━━━━━━━━━━━\u001b[0m\u001b[37m\u001b[0m \u001b[1m21s\u001b[0m 32ms/step - accuracy: 0.2362 - loss: 2.0386 - val_accuracy: 0.4799 - val_loss: 1.5006\n",
      "Epoch 2/35\n",
      "\u001b[1m  1/506\u001b[0m \u001b[37m━━━━━━━━━━━━━━━━━━━━\u001b[0m \u001b[1m6s\u001b[0m 13ms/step - accuracy: 0.2812 - loss: 1.7626"
     ]
    },
    {
     "name": "stderr",
     "output_type": "stream",
     "text": [
      "/usr/lib/python3.10/contextlib.py:153: UserWarning: Your input ran out of data; interrupting training. Make sure that your dataset or generator can generate at least `steps_per_epoch * epochs` batches. You may need to use the `.repeat()` function when building your dataset.\n",
      "  self.gen.throw(typ, value, traceback)\n"
     ]
    },
    {
     "name": "stdout",
     "output_type": "stream",
     "text": [
      "\u001b[1m506/506\u001b[0m \u001b[32m━━━━━━━━━━━━━━━━━━━━\u001b[0m\u001b[37m\u001b[0m \u001b[1m1s\u001b[0m 2ms/step - accuracy: 0.2812 - loss: 1.7626 - val_accuracy: 0.2500 - val_loss: 1.8107\n",
      "Epoch 3/35\n",
      "\u001b[1m506/506\u001b[0m \u001b[32m━━━━━━━━━━━━━━━━━━━━\u001b[0m\u001b[37m\u001b[0m \u001b[1m14s\u001b[0m 27ms/step - accuracy: 0.3919 - loss: 1.6155 - val_accuracy: 0.5822 - val_loss: 1.2924\n",
      "Epoch 4/35\n",
      "\u001b[1m506/506\u001b[0m \u001b[32m━━━━━━━━━━━━━━━━━━━━\u001b[0m\u001b[37m\u001b[0m \u001b[1m0s\u001b[0m 35us/step - accuracy: 0.4062 - loss: 1.5282 - val_accuracy: 0.5417 - val_loss: 1.3890\n",
      "Epoch 5/35\n",
      "\u001b[1m506/506\u001b[0m \u001b[32m━━━━━━━━━━━━━━━━━━━━\u001b[0m\u001b[37m\u001b[0m \u001b[1m14s\u001b[0m 26ms/step - accuracy: 0.4626 - loss: 1.4554 - val_accuracy: 0.5874 - val_loss: 1.1791\n",
      "Epoch 6/35\n",
      "\u001b[1m506/506\u001b[0m \u001b[32m━━━━━━━━━━━━━━━━━━━━\u001b[0m\u001b[37m\u001b[0m \u001b[1m1s\u001b[0m 1ms/step - accuracy: 0.5938 - loss: 1.4287 - val_accuracy: 0.6250 - val_loss: 0.9826\n",
      "Epoch 7/35\n",
      "\u001b[1m506/506\u001b[0m \u001b[32m━━━━━━━━━━━━━━━━━━━━\u001b[0m\u001b[37m\u001b[0m \u001b[1m13s\u001b[0m 24ms/step - accuracy: 0.4914 - loss: 1.3680 - val_accuracy: 0.6198 - val_loss: 1.1047\n",
      "Epoch 8/35\n",
      "\u001b[1m506/506\u001b[0m \u001b[32m━━━━━━━━━━━━━━━━━━━━\u001b[0m\u001b[37m\u001b[0m \u001b[1m0s\u001b[0m 33us/step - accuracy: 0.6250 - loss: 1.0774 - val_accuracy: 0.4583 - val_loss: 1.1383\n",
      "Epoch 9/35\n",
      "\u001b[1m506/506\u001b[0m \u001b[32m━━━━━━━━━━━━━━━━━━━━\u001b[0m\u001b[37m\u001b[0m \u001b[1m13s\u001b[0m 26ms/step - accuracy: 0.5266 - loss: 1.2930 - val_accuracy: 0.6641 - val_loss: 1.0199\n",
      "Epoch 10/35\n",
      "\u001b[1m506/506\u001b[0m \u001b[32m━━━━━━━━━━━━━━━━━━━━\u001b[0m\u001b[37m\u001b[0m \u001b[1m1s\u001b[0m 1ms/step - accuracy: 0.5312 - loss: 1.2650 - val_accuracy: 0.6667 - val_loss: 1.1632\n",
      "Epoch 11/35\n",
      "\u001b[1m506/506\u001b[0m \u001b[32m━━━━━━━━━━━━━━━━━━━━\u001b[0m\u001b[37m\u001b[0m \u001b[1m13s\u001b[0m 26ms/step - accuracy: 0.5480 - loss: 1.2344 - val_accuracy: 0.6767 - val_loss: 1.0038\n",
      "Epoch 12/35\n",
      "\u001b[1m506/506\u001b[0m \u001b[32m━━━━━━━━━━━━━━━━━━━━\u001b[0m\u001b[37m\u001b[0m \u001b[1m0s\u001b[0m 32us/step - accuracy: 0.5000 - loss: 1.1732 - val_accuracy: 0.6667 - val_loss: 0.7652\n",
      "Epoch 13/35\n",
      "\u001b[1m506/506\u001b[0m \u001b[32m━━━━━━━━━━━━━━━━━━━━\u001b[0m\u001b[37m\u001b[0m \u001b[1m13s\u001b[0m 26ms/step - accuracy: 0.5751 - loss: 1.1717 - val_accuracy: 0.6788 - val_loss: 0.9398\n",
      "Epoch 14/35\n",
      "\u001b[1m506/506\u001b[0m \u001b[32m━━━━━━━━━━━━━━━━━━━━\u001b[0m\u001b[37m\u001b[0m \u001b[1m0s\u001b[0m 38us/step - accuracy: 0.6875 - loss: 0.9066 - val_accuracy: 0.6667 - val_loss: 0.9740\n",
      "Epoch 15/35\n",
      "\u001b[1m506/506\u001b[0m \u001b[32m━━━━━━━━━━━━━━━━━━━━\u001b[0m\u001b[37m\u001b[0m \u001b[1m13s\u001b[0m 25ms/step - accuracy: 0.5879 - loss: 1.1325 - val_accuracy: 0.6968 - val_loss: 0.8794\n",
      "Epoch 16/35\n",
      "\u001b[1m506/506\u001b[0m \u001b[32m━━━━━━━━━━━━━━━━━━━━\u001b[0m\u001b[37m\u001b[0m \u001b[1m1s\u001b[0m 1ms/step - accuracy: 0.6250 - loss: 1.0561 - val_accuracy: 0.7083 - val_loss: 0.8299\n",
      "Epoch 17/35\n",
      "\u001b[1m506/506\u001b[0m \u001b[32m━━━━━━━━━━━━━━━━━━━━\u001b[0m\u001b[37m\u001b[0m \u001b[1m14s\u001b[0m 27ms/step - accuracy: 0.6058 - loss: 1.0746 - val_accuracy: 0.7096 - val_loss: 0.8499\n",
      "Epoch 18/35\n",
      "\u001b[1m506/506\u001b[0m \u001b[32m━━━━━━━━━━━━━━━━━━━━\u001b[0m\u001b[37m\u001b[0m \u001b[1m0s\u001b[0m 34us/step - accuracy: 0.5938 - loss: 1.1205 - val_accuracy: 0.6250 - val_loss: 1.1002\n",
      "Epoch 19/35\n",
      "\u001b[1m506/506\u001b[0m \u001b[32m━━━━━━━━━━━━━━━━━━━━\u001b[0m\u001b[37m\u001b[0m \u001b[1m14s\u001b[0m 28ms/step - accuracy: 0.6237 - loss: 1.0404 - val_accuracy: 0.7173 - val_loss: 0.8319\n",
      "Epoch 20/35\n",
      "\u001b[1m506/506\u001b[0m \u001b[32m━━━━━━━━━━━━━━━━━━━━\u001b[0m\u001b[37m\u001b[0m \u001b[1m1s\u001b[0m 1ms/step - accuracy: 0.7188 - loss: 0.8022 - val_accuracy: 0.9167 - val_loss: 0.5506\n",
      "Epoch 21/35\n",
      "\u001b[1m506/506\u001b[0m \u001b[32m━━━━━━━━━━━━━━━━━━━━\u001b[0m\u001b[37m\u001b[0m \u001b[1m13s\u001b[0m 25ms/step - accuracy: 0.6237 - loss: 1.0252 - val_accuracy: 0.7282 - val_loss: 0.7949\n",
      "Epoch 22/35\n",
      "\u001b[1m506/506\u001b[0m \u001b[32m━━━━━━━━━━━━━━━━━━━━\u001b[0m\u001b[37m\u001b[0m \u001b[1m0s\u001b[0m 36us/step - accuracy: 0.6875 - loss: 0.9644 - val_accuracy: 0.6667 - val_loss: 0.8835\n",
      "Epoch 23/35\n",
      "\u001b[1m506/506\u001b[0m \u001b[32m━━━━━━━━━━━━━━━━━━━━\u001b[0m\u001b[37m\u001b[0m \u001b[1m13s\u001b[0m 25ms/step - accuracy: 0.6408 - loss: 0.9830 - val_accuracy: 0.7437 - val_loss: 0.7497\n",
      "Epoch 24/35\n",
      "\u001b[1m506/506\u001b[0m \u001b[32m━━━━━━━━━━━━━━━━━━━━\u001b[0m\u001b[37m\u001b[0m \u001b[1m0s\u001b[0m 31us/step - accuracy: 0.5938 - loss: 0.9343 - val_accuracy: 0.9167 - val_loss: 0.5744\n",
      "Epoch 25/35\n",
      "\u001b[1m506/506\u001b[0m \u001b[32m━━━━━━━━━━━━━━━━━━━━\u001b[0m\u001b[37m\u001b[0m \u001b[1m13s\u001b[0m 26ms/step - accuracy: 0.6575 - loss: 0.9396 - val_accuracy: 0.7290 - val_loss: 0.8002\n",
      "Epoch 26/35\n",
      "\u001b[1m506/506\u001b[0m \u001b[32m━━━━━━━━━━━━━━━━━━━━\u001b[0m\u001b[37m\u001b[0m \u001b[1m0s\u001b[0m 32us/step - accuracy: 0.5938 - loss: 0.9176 - val_accuracy: 0.8750 - val_loss: 0.5892\n",
      "Epoch 27/35\n",
      "\u001b[1m506/506\u001b[0m \u001b[32m━━━━━━━━━━━━━━━━━━━━\u001b[0m\u001b[37m\u001b[0m \u001b[1m13s\u001b[0m 25ms/step - accuracy: 0.6560 - loss: 0.9360 - val_accuracy: 0.7422 - val_loss: 0.7408\n",
      "Epoch 28/35\n",
      "\u001b[1m506/506\u001b[0m \u001b[32m━━━━━━━━━━━━━━━━━━━━\u001b[0m\u001b[37m\u001b[0m \u001b[1m0s\u001b[0m 38us/step - accuracy: 0.6250 - loss: 1.0073 - val_accuracy: 0.8750 - val_loss: 0.5360\n",
      "Epoch 29/35\n",
      "\u001b[1m506/506\u001b[0m \u001b[32m━━━━━━━━━━━━━━━━━━━━\u001b[0m\u001b[37m\u001b[0m \u001b[1m13s\u001b[0m 25ms/step - accuracy: 0.6718 - loss: 0.9016 - val_accuracy: 0.7429 - val_loss: 0.7323\n",
      "Epoch 30/35\n",
      "\u001b[1m506/506\u001b[0m \u001b[32m━━━━━━━━━━━━━━━━━━━━\u001b[0m\u001b[37m\u001b[0m \u001b[1m0s\u001b[0m 34us/step - accuracy: 0.6562 - loss: 1.0777 - val_accuracy: 0.7917 - val_loss: 0.7156\n",
      "Epoch 31/35\n",
      "\u001b[1m506/506\u001b[0m \u001b[32m━━━━━━━━━━━━━━━━━━━━\u001b[0m\u001b[37m\u001b[0m \u001b[1m13s\u001b[0m 25ms/step - accuracy: 0.6794 - loss: 0.8847 - val_accuracy: 0.7688 - val_loss: 0.6998\n",
      "Epoch 32/35\n",
      "\u001b[1m506/506\u001b[0m \u001b[32m━━━━━━━━━━━━━━━━━━━━\u001b[0m\u001b[37m\u001b[0m \u001b[1m0s\u001b[0m 32us/step - accuracy: 0.7500 - loss: 0.7103 - val_accuracy: 0.6667 - val_loss: 0.7467\n",
      "Epoch 33/35\n",
      "\u001b[1m506/506\u001b[0m \u001b[32m━━━━━━━━━━━━━━━━━━━━\u001b[0m\u001b[37m\u001b[0m \u001b[1m13s\u001b[0m 25ms/step - accuracy: 0.6874 - loss: 0.8505 - val_accuracy: 0.7749 - val_loss: 0.6930\n",
      "Epoch 34/35\n",
      "\u001b[1m506/506\u001b[0m \u001b[32m━━━━━━━━━━━━━━━━━━━━\u001b[0m\u001b[37m\u001b[0m \u001b[1m0s\u001b[0m 36us/step - accuracy: 0.6875 - loss: 0.7828 - val_accuracy: 0.7500 - val_loss: 0.7775\n",
      "Epoch 35/35\n",
      "\u001b[1m506/506\u001b[0m \u001b[32m━━━━━━━━━━━━━━━━━━━━\u001b[0m\u001b[37m\u001b[0m \u001b[1m13s\u001b[0m 24ms/step - accuracy: 0.6933 - loss: 0.8556 - val_accuracy: 0.7664 - val_loss: 0.6823\n",
      "\u001b[1m168/168\u001b[0m \u001b[32m━━━━━━━━━━━━━━━━━━━━\u001b[0m\u001b[37m\u001b[0m \u001b[1m3s\u001b[0m 17ms/step - accuracy: 0.7635 - loss: 0.6836\n",
      "Test accuracy: 0.7633928656578064\n",
      "0.001\n",
      "Epoch 1/35\n",
      "\u001b[1m506/506\u001b[0m \u001b[32m━━━━━━━━━━━━━━━━━━━━\u001b[0m\u001b[37m\u001b[0m \u001b[1m16s\u001b[0m 27ms/step - accuracy: 0.3308 - loss: 1.8451 - val_accuracy: 0.6049 - val_loss: 1.1750\n",
      "Epoch 2/35\n",
      "\u001b[1m506/506\u001b[0m \u001b[32m━━━━━━━━━━━━━━━━━━━━\u001b[0m\u001b[37m\u001b[0m \u001b[1m0s\u001b[0m 458us/step - accuracy: 0.3438 - loss: 1.2156 - val_accuracy: 0.5833 - val_loss: 1.1281\n",
      "Epoch 3/35\n",
      "\u001b[1m506/506\u001b[0m \u001b[32m━━━━━━━━━━━━━━━━━━━━\u001b[0m\u001b[37m\u001b[0m \u001b[1m12s\u001b[0m 24ms/step - accuracy: 0.5610 - loss: 1.2232 - val_accuracy: 0.6661 - val_loss: 0.9460\n",
      "Epoch 4/35\n",
      "\u001b[1m506/506\u001b[0m \u001b[32m━━━━━━━━━━━━━━━━━━━━\u001b[0m\u001b[37m\u001b[0m \u001b[1m0s\u001b[0m 34us/step - accuracy: 0.6875 - loss: 0.9626 - val_accuracy: 0.8333 - val_loss: 0.7621\n",
      "Epoch 5/35\n",
      "\u001b[1m506/506\u001b[0m \u001b[32m━━━━━━━━━━━━━━━━━━━━\u001b[0m\u001b[37m\u001b[0m \u001b[1m12s\u001b[0m 24ms/step - accuracy: 0.6365 - loss: 1.0340 - val_accuracy: 0.7089 - val_loss: 0.8148\n",
      "Epoch 6/35\n",
      "\u001b[1m506/506\u001b[0m \u001b[32m━━━━━━━━━━━━━━━━━━━━\u001b[0m\u001b[37m\u001b[0m \u001b[1m0s\u001b[0m 31us/step - accuracy: 0.6875 - loss: 1.1414 - val_accuracy: 0.6250 - val_loss: 1.2568\n",
      "Epoch 7/35\n",
      "\u001b[1m506/506\u001b[0m \u001b[32m━━━━━━━━━━━━━━━━━━━━\u001b[0m\u001b[37m\u001b[0m \u001b[1m12s\u001b[0m 24ms/step - accuracy: 0.6709 - loss: 0.9150 - val_accuracy: 0.7215 - val_loss: 0.8344\n",
      "Epoch 8/35\n",
      "\u001b[1m506/506\u001b[0m \u001b[32m━━━━━━━━━━━━━━━━━━━━\u001b[0m\u001b[37m\u001b[0m \u001b[1m0s\u001b[0m 32us/step - accuracy: 0.7188 - loss: 0.8755 - val_accuracy: 0.6667 - val_loss: 0.7752\n",
      "Epoch 9/35\n",
      "\u001b[1m506/506\u001b[0m \u001b[32m━━━━━━━━━━━━━━━━━━━━\u001b[0m\u001b[37m\u001b[0m \u001b[1m13s\u001b[0m 26ms/step - accuracy: 0.7112 - loss: 0.8055 - val_accuracy: 0.7277 - val_loss: 0.7664\n",
      "Epoch 10/35\n",
      "\u001b[1m506/506\u001b[0m \u001b[32m━━━━━━━━━━━━━━━━━━━━\u001b[0m\u001b[37m\u001b[0m \u001b[1m0s\u001b[0m 37us/step - accuracy: 0.5625 - loss: 1.2892 - val_accuracy: 0.8750 - val_loss: 0.4198\n",
      "Epoch 11/35\n",
      "\u001b[1m506/506\u001b[0m \u001b[32m━━━━━━━━━━━━━━━━━━━━\u001b[0m\u001b[37m\u001b[0m \u001b[1m14s\u001b[0m 26ms/step - accuracy: 0.7398 - loss: 0.7268 - val_accuracy: 0.7256 - val_loss: 0.7606\n",
      "Epoch 12/35\n",
      "\u001b[1m506/506\u001b[0m \u001b[32m━━━━━━━━━━━━━━━━━━━━\u001b[0m\u001b[37m\u001b[0m \u001b[1m0s\u001b[0m 35us/step - accuracy: 0.7188 - loss: 0.6640 - val_accuracy: 0.8333 - val_loss: 0.5046\n",
      "Epoch 13/35\n",
      "\u001b[1m506/506\u001b[0m \u001b[32m━━━━━━━━━━━━━━━━━━━━\u001b[0m\u001b[37m\u001b[0m \u001b[1m13s\u001b[0m 25ms/step - accuracy: 0.7606 - loss: 0.6703 - val_accuracy: 0.7861 - val_loss: 0.6297\n",
      "Epoch 14/35\n",
      "\u001b[1m506/506\u001b[0m \u001b[32m━━━━━━━━━━━━━━━━━━━━\u001b[0m\u001b[37m\u001b[0m \u001b[1m0s\u001b[0m 33us/step - accuracy: 0.8125 - loss: 0.5868 - val_accuracy: 0.7917 - val_loss: 0.5177\n",
      "Epoch 15/35\n",
      "\u001b[1m506/506\u001b[0m \u001b[32m━━━━━━━━━━━━━━━━━━━━\u001b[0m\u001b[37m\u001b[0m \u001b[1m13s\u001b[0m 25ms/step - accuracy: 0.7780 - loss: 0.6273 - val_accuracy: 0.7805 - val_loss: 0.6435\n",
      "Epoch 16/35\n",
      "\u001b[1m506/506\u001b[0m \u001b[32m━━━━━━━━━━━━━━━━━━━━\u001b[0m\u001b[37m\u001b[0m \u001b[1m0s\u001b[0m 28us/step - accuracy: 0.7812 - loss: 0.5860 - val_accuracy: 0.8333 - val_loss: 1.0307\n",
      "Epoch 17/35\n",
      "\u001b[1m506/506\u001b[0m \u001b[32m━━━━━━━━━━━━━━━━━━━━\u001b[0m\u001b[37m\u001b[0m \u001b[1m13s\u001b[0m 25ms/step - accuracy: 0.7974 - loss: 0.5614 - val_accuracy: 0.7911 - val_loss: 0.6202\n",
      "Epoch 18/35\n",
      "\u001b[1m506/506\u001b[0m \u001b[32m━━━━━━━━━━━━━━━━━━━━\u001b[0m\u001b[37m\u001b[0m \u001b[1m0s\u001b[0m 36us/step - accuracy: 0.8750 - loss: 0.4225 - val_accuracy: 0.7917 - val_loss: 0.5353\n",
      "Epoch 19/35\n",
      "\u001b[1m506/506\u001b[0m \u001b[32m━━━━━━━━━━━━━━━━━━━━\u001b[0m\u001b[37m\u001b[0m \u001b[1m13s\u001b[0m 25ms/step - accuracy: 0.8154 - loss: 0.5206 - val_accuracy: 0.7777 - val_loss: 0.6925\n",
      "Epoch 20/35\n",
      "\u001b[1m506/506\u001b[0m \u001b[32m━━━━━━━━━━━━━━━━━━━━\u001b[0m\u001b[37m\u001b[0m \u001b[1m0s\u001b[0m 35us/step - accuracy: 0.8438 - loss: 0.3818 - val_accuracy: 0.6667 - val_loss: 0.9823\n",
      "Epoch 21/35\n",
      "\u001b[1m506/506\u001b[0m \u001b[32m━━━━━━━━━━━━━━━━━━━━\u001b[0m\u001b[37m\u001b[0m \u001b[1m13s\u001b[0m 26ms/step - accuracy: 0.8231 - loss: 0.4960 - val_accuracy: 0.7913 - val_loss: 0.6870\n",
      "Epoch 22/35\n",
      "\u001b[1m506/506\u001b[0m \u001b[32m━━━━━━━━━━━━━━━━━━━━\u001b[0m\u001b[37m\u001b[0m \u001b[1m0s\u001b[0m 33us/step - accuracy: 0.9062 - loss: 0.3473 - val_accuracy: 0.7500 - val_loss: 0.7105\n",
      "Epoch 23/35\n",
      "\u001b[1m506/506\u001b[0m \u001b[32m━━━━━━━━━━━━━━━━━━━━\u001b[0m\u001b[37m\u001b[0m \u001b[1m13s\u001b[0m 25ms/step - accuracy: 0.8505 - loss: 0.4221 - val_accuracy: 0.7904 - val_loss: 0.6761\n",
      "Epoch 24/35\n",
      "\u001b[1m506/506\u001b[0m \u001b[32m━━━━━━━━━━━━━━━━━━━━\u001b[0m\u001b[37m\u001b[0m \u001b[1m0s\u001b[0m 34us/step - accuracy: 0.8438 - loss: 0.3353 - val_accuracy: 0.8750 - val_loss: 0.4644\n",
      "Epoch 25/35\n",
      "\u001b[1m506/506\u001b[0m \u001b[32m━━━━━━━━━━━━━━━━━━━━\u001b[0m\u001b[37m\u001b[0m \u001b[1m14s\u001b[0m 26ms/step - accuracy: 0.8510 - loss: 0.4145 - val_accuracy: 0.7982 - val_loss: 0.6486\n",
      "Epoch 26/35\n",
      "\u001b[1m506/506\u001b[0m \u001b[32m━━━━━━━━━━━━━━━━━━━━\u001b[0m\u001b[37m\u001b[0m \u001b[1m0s\u001b[0m 40us/step - accuracy: 0.8750 - loss: 0.3282 - val_accuracy: 0.6667 - val_loss: 0.8403\n",
      "Epoch 27/35\n",
      "\u001b[1m506/506\u001b[0m \u001b[32m━━━━━━━━━━━━━━━━━━━━\u001b[0m\u001b[37m\u001b[0m \u001b[1m12s\u001b[0m 24ms/step - accuracy: 0.8607 - loss: 0.3820 - val_accuracy: 0.7760 - val_loss: 0.7108\n",
      "Epoch 28/35\n",
      "\u001b[1m506/506\u001b[0m \u001b[32m━━━━━━━━━━━━━━━━━━━━\u001b[0m\u001b[37m\u001b[0m \u001b[1m0s\u001b[0m 45us/step - accuracy: 0.8125 - loss: 0.3437 - val_accuracy: 0.7500 - val_loss: 0.5949\n",
      "Epoch 29/35\n",
      "\u001b[1m506/506\u001b[0m \u001b[32m━━━━━━━━━━━━━━━━━━━━\u001b[0m\u001b[37m\u001b[0m \u001b[1m14s\u001b[0m 27ms/step - accuracy: 0.8726 - loss: 0.3542 - val_accuracy: 0.7658 - val_loss: 0.7670\n",
      "Epoch 30/35\n",
      "\u001b[1m506/506\u001b[0m \u001b[32m━━━━━━━━━━━━━━━━━━━━\u001b[0m\u001b[37m\u001b[0m \u001b[1m0s\u001b[0m 34us/step - accuracy: 0.8438 - loss: 0.4753 - val_accuracy: 0.8750 - val_loss: 0.3182\n",
      "Epoch 31/35\n",
      "\u001b[1m506/506\u001b[0m \u001b[32m━━━━━━━━━━━━━━━━━━━━\u001b[0m\u001b[37m\u001b[0m \u001b[1m13s\u001b[0m 25ms/step - accuracy: 0.8731 - loss: 0.3549 - val_accuracy: 0.7887 - val_loss: 0.7296\n",
      "Epoch 32/35\n",
      "\u001b[1m506/506\u001b[0m \u001b[32m━━━━━━━━━━━━━━━━━━━━\u001b[0m\u001b[37m\u001b[0m \u001b[1m0s\u001b[0m 35us/step - accuracy: 0.8125 - loss: 0.7322 - val_accuracy: 0.8750 - val_loss: 0.8232\n",
      "Epoch 33/35\n",
      "\u001b[1m506/506\u001b[0m \u001b[32m━━━━━━━━━━━━━━━━━━━━\u001b[0m\u001b[37m\u001b[0m \u001b[1m13s\u001b[0m 26ms/step - accuracy: 0.8806 - loss: 0.3293 - val_accuracy: 0.8039 - val_loss: 0.7262\n",
      "Epoch 34/35\n",
      "\u001b[1m506/506\u001b[0m \u001b[32m━━━━━━━━━━━━━━━━━━━━\u001b[0m\u001b[37m\u001b[0m \u001b[1m0s\u001b[0m 35us/step - accuracy: 0.9375 - loss: 0.2501 - val_accuracy: 0.7917 - val_loss: 1.2224\n",
      "Epoch 35/35\n",
      "\u001b[1m506/506\u001b[0m \u001b[32m━━━━━━━━━━━━━━━━━━━━\u001b[0m\u001b[37m\u001b[0m \u001b[1m13s\u001b[0m 25ms/step - accuracy: 0.8923 - loss: 0.3031 - val_accuracy: 0.7861 - val_loss: 0.8192\n",
      "\u001b[1m168/168\u001b[0m \u001b[32m━━━━━━━━━━━━━━━━━━━━\u001b[0m\u001b[37m\u001b[0m \u001b[1m3s\u001b[0m 19ms/step - accuracy: 0.8032 - loss: 0.8106\n",
      "Test accuracy: 0.7950148582458496\n"
     ]
    }
   ],
   "source": [
    "scores_lr = {}\n",
    "for lr in [0.0001, 0.001]:\n",
    "  print(lr)\n",
    "  model = make_model(learning_rate=lr)\n",
    "  history = model.fit(\n",
    "    train_generator,\n",
    "    steps_per_epoch=train_generator.samples // batch_size,\n",
    "    epochs=epochs,\n",
    "    validation_data=validation_generator,\n",
    "    validation_steps=validation_generator.samples // batch_size,\n",
    "    callbacks=[checkpoint])\n",
    "  scores_lr[lr] = history.history\n",
    "  test_loss, test_acc = model.evaluate(test_generator, steps=test_generator.samples // batch_size)\n",
    "  print('Test accuracy:', test_acc)"
   ]
  },
  {
   "cell_type": "code",
   "execution_count": 14,
   "metadata": {
    "execution": {
     "iopub.execute_input": "2024-12-30T16:09:09.322079Z",
     "iopub.status.busy": "2024-12-30T16:09:09.321714Z",
     "iopub.status.idle": "2024-12-30T16:09:09.325916Z",
     "shell.execute_reply": "2024-12-30T16:09:09.324978Z",
     "shell.execute_reply.started": "2024-12-30T16:09:09.322045Z"
    },
    "id": "5zq0UjYHrWd-",
    "trusted": true
   },
   "outputs": [],
   "source": [
    "from matplotlib import pyplot as plt"
   ]
  },
  {
   "cell_type": "code",
   "execution_count": 25,
   "metadata": {
    "execution": {
     "iopub.execute_input": "2024-12-30T15:55:16.371504Z",
     "iopub.status.busy": "2024-12-30T15:55:16.371137Z",
     "iopub.status.idle": "2024-12-30T15:55:16.688441Z",
     "shell.execute_reply": "2024-12-30T15:55:16.687545Z",
     "shell.execute_reply.started": "2024-12-30T15:55:16.371476Z"
    },
    "id": "YbezCtCGrZYb",
    "outputId": "e8e07624-f310-42f1-d791-ecaf9734ba7f",
    "trusted": true
   },
   "outputs": [
    {
     "data": {
      "image/png": "[encoded data removed]",
      "text/plain": [
       "<Figure size 640x480 with 1 Axes>"
      ]
     },
     "metadata": {},
     "output_type": "display_data"
    }
   ],
   "source": [
    "for lr, hist in scores_lr.items():\n",
    "  plt.plot(hist['val_accuracy'], label=lr)\n",
    "  plt.title(\"Validation Accuracy by Learning Rate\")\n",
    "  plt.xlabel(\"Epochs\")\n",
    "  plt.ylabel(\"Accuracy\")\n",
    "  plt.legend()"
   ]
  },
  {
   "cell_type": "markdown",
   "metadata": {
    "id": "zTvUF6oJrkvU"
   },
   "source": [
    "Based on this result, the best learning rate would be **0.001** as it shows more stable"
   ]
  },
  {
   "cell_type": "markdown",
   "metadata": {
    "id": "RYDcYAdYsX3R"
   },
   "source": [
    "### Dropout Rate\n",
    "Now we'll try different values for the dropout rate\n"
   ]
  },
  {
   "cell_type": "code",
   "execution_count": 15,
   "metadata": {
    "execution": {
     "iopub.execute_input": "2024-12-30T16:09:13.215251Z",
     "iopub.status.busy": "2024-12-30T16:09:13.214953Z",
     "iopub.status.idle": "2024-12-30T16:09:13.219383Z",
     "shell.execute_reply": "2024-12-30T16:09:13.218448Z",
     "shell.execute_reply.started": "2024-12-30T16:09:13.215228Z"
    },
    "id": "HjnHG4uKs_A4",
    "trusted": true
   },
   "outputs": [],
   "source": [
    "checkpoint = keras.callbacks.ModelCheckpoint(\n",
    "    'model_v2_{epoch:02d}_{val_accuracy:.3f}.h5.keras',\n",
    "    save_best_only=True,\n",
    "    monitor='val_accuracy',\n",
    "    mode='max'\n",
    ")"
   ]
  },
  {
   "cell_type": "code",
   "execution_count": 17,
   "metadata": {
    "execution": {
     "iopub.execute_input": "2024-12-30T16:11:22.314481Z",
     "iopub.status.busy": "2024-12-30T16:11:22.314152Z",
     "iopub.status.idle": "2024-12-30T16:23:33.219791Z",
     "shell.execute_reply": "2024-12-30T16:23:33.218904Z",
     "shell.execute_reply.started": "2024-12-30T16:11:22.314457Z"
    },
    "id": "qqoyXE4mtE7e",
    "outputId": "d10fad3f-87a9-4062-af70-ae4c03ebd801",
    "trusted": true
   },
   "outputs": [
    {
     "name": "stdout",
     "output_type": "stream",
     "text": [
      "0\n",
      "Epoch 1/35\n"
     ]
    },
    {
     "name": "stderr",
     "output_type": "stream",
     "text": [
      "/usr/local/lib/python3.10/dist-packages/keras/src/layers/convolutional/base_conv.py:107: UserWarning: Do not pass an `input_shape`/`input_dim` argument to a layer. When using Sequential models, prefer using an `Input(shape)` object as the first layer in the model instead.\n",
      "  super().__init__(activity_regularizer=activity_regularizer, **kwargs)\n",
      "/usr/local/lib/python3.10/dist-packages/keras/src/trainers/data_adapters/py_dataset_adapter.py:121: UserWarning: Your `PyDataset` class should call `super().__init__(**kwargs)` in its constructor. `**kwargs` can include `workers`, `use_multiprocessing`, `max_queue_size`. Do not pass these arguments to `fit()`, as they will be ignored.\n",
      "  self._warn_if_super_not_called()\n"
     ]
    },
    {
     "name": "stdout",
     "output_type": "stream",
     "text": [
      "\u001b[1m506/506\u001b[0m \u001b[32m━━━━━━━━━━━━━━━━━━━━\u001b[0m\u001b[37m\u001b[0m \u001b[1m20s\u001b[0m 31ms/step - accuracy: 0.4042 - loss: 1.6100 - val_accuracy: 0.6196 - val_loss: 1.0039\n",
      "Epoch 2/35\n",
      "\u001b[1m  1/506\u001b[0m \u001b[37m━━━━━━━━━━━━━━━━━━━━\u001b[0m \u001b[1m6s\u001b[0m 13ms/step - accuracy: 0.4688 - loss: 1.3143"
     ]
    },
    {
     "name": "stderr",
     "output_type": "stream",
     "text": [
      "/usr/lib/python3.10/contextlib.py:153: UserWarning: Your input ran out of data; interrupting training. Make sure that your dataset or generator can generate at least `steps_per_epoch * epochs` batches. You may need to use the `.repeat()` function when building your dataset.\n",
      "  self.gen.throw(typ, value, traceback)\n"
     ]
    },
    {
     "name": "stdout",
     "output_type": "stream",
     "text": [
      "\u001b[1m506/506\u001b[0m \u001b[32m━━━━━━━━━━━━━━━━━━━━\u001b[0m\u001b[37m\u001b[0m \u001b[1m1s\u001b[0m 3ms/step - accuracy: 0.4688 - loss: 1.3143 - val_accuracy: 0.6667 - val_loss: 1.2281\n",
      "Epoch 3/35\n",
      "\u001b[1m506/506\u001b[0m \u001b[32m━━━━━━━━━━━━━━━━━━━━\u001b[0m\u001b[37m\u001b[0m \u001b[1m13s\u001b[0m 26ms/step - accuracy: 0.6561 - loss: 0.9646 - val_accuracy: 0.6747 - val_loss: 0.8763\n",
      "Epoch 4/35\n",
      "\u001b[1m506/506\u001b[0m \u001b[32m━━━━━━━━━━━━━━━━━━━━\u001b[0m\u001b[37m\u001b[0m \u001b[1m0s\u001b[0m 30us/step - accuracy: 0.7500 - loss: 0.7571 - val_accuracy: 0.6667 - val_loss: 0.9538\n",
      "Epoch 5/35\n",
      "\u001b[1m506/506\u001b[0m \u001b[32m━━━━━━━━━━━━━━━━━━━━\u001b[0m\u001b[37m\u001b[0m \u001b[1m14s\u001b[0m 27ms/step - accuracy: 0.7388 - loss: 0.7207 - val_accuracy: 0.7381 - val_loss: 0.7188\n",
      "Epoch 6/35\n",
      "\u001b[1m506/506\u001b[0m \u001b[32m━━━━━━━━━━━━━━━━━━━━\u001b[0m\u001b[37m\u001b[0m \u001b[1m1s\u001b[0m 1ms/step - accuracy: 0.8438 - loss: 0.6000 - val_accuracy: 0.8333 - val_loss: 0.6882\n",
      "Epoch 7/35\n",
      "\u001b[1m506/506\u001b[0m \u001b[32m━━━━━━━━━━━━━━━━━━━━\u001b[0m\u001b[37m\u001b[0m \u001b[1m13s\u001b[0m 26ms/step - accuracy: 0.8029 - loss: 0.5575 - val_accuracy: 0.7026 - val_loss: 0.8883\n",
      "Epoch 8/35\n",
      "\u001b[1m506/506\u001b[0m \u001b[32m━━━━━━━━━━━━━━━━━━━━\u001b[0m\u001b[37m\u001b[0m \u001b[1m0s\u001b[0m 38us/step - accuracy: 0.7812 - loss: 0.6118 - val_accuracy: 0.8333 - val_loss: 0.4232\n",
      "Epoch 9/35\n",
      "\u001b[1m506/506\u001b[0m \u001b[32m━━━━━━━━━━━━━━━━━━━━\u001b[0m\u001b[37m\u001b[0m \u001b[1m13s\u001b[0m 25ms/step - accuracy: 0.8500 - loss: 0.4171 - val_accuracy: 0.7809 - val_loss: 0.6631\n",
      "Epoch 10/35\n",
      "\u001b[1m506/506\u001b[0m \u001b[32m━━━━━━━━━━━━━━━━━━━━\u001b[0m\u001b[37m\u001b[0m \u001b[1m0s\u001b[0m 35us/step - accuracy: 0.7812 - loss: 0.6883 - val_accuracy: 0.7500 - val_loss: 0.8197\n",
      "Epoch 11/35\n",
      "\u001b[1m506/506\u001b[0m \u001b[32m━━━━━━━━━━━━━━━━━━━━\u001b[0m\u001b[37m\u001b[0m \u001b[1m14s\u001b[0m 27ms/step - accuracy: 0.8906 - loss: 0.3278 - val_accuracy: 0.7855 - val_loss: 0.6482\n",
      "Epoch 12/35\n",
      "\u001b[1m506/506\u001b[0m \u001b[32m━━━━━━━━━━━━━━━━━━━━\u001b[0m\u001b[37m\u001b[0m \u001b[1m1s\u001b[0m 1ms/step - accuracy: 0.9062 - loss: 0.2555 - val_accuracy: 0.8750 - val_loss: 0.1971\n",
      "Epoch 13/35\n",
      "\u001b[1m506/506\u001b[0m \u001b[32m━━━━━━━━━━━━━━━━━━━━\u001b[0m\u001b[37m\u001b[0m \u001b[1m13s\u001b[0m 26ms/step - accuracy: 0.9126 - loss: 0.2631 - val_accuracy: 0.7896 - val_loss: 0.6823\n",
      "Epoch 14/35\n",
      "\u001b[1m506/506\u001b[0m \u001b[32m━━━━━━━━━━━━━━━━━━━━\u001b[0m\u001b[37m\u001b[0m \u001b[1m0s\u001b[0m 34us/step - accuracy: 1.0000 - loss: 0.0859 - val_accuracy: 0.7500 - val_loss: 0.9928\n",
      "Epoch 15/35\n",
      "\u001b[1m506/506\u001b[0m \u001b[32m━━━━━━━━━━━━━━━━━━━━\u001b[0m\u001b[37m\u001b[0m \u001b[1m13s\u001b[0m 26ms/step - accuracy: 0.9367 - loss: 0.1928 - val_accuracy: 0.7946 - val_loss: 0.7553\n",
      "Epoch 16/35\n",
      "\u001b[1m506/506\u001b[0m \u001b[32m━━━━━━━━━━━━━━━━━━━━\u001b[0m\u001b[37m\u001b[0m \u001b[1m0s\u001b[0m 33us/step - accuracy: 1.0000 - loss: 0.0497 - val_accuracy: 0.8333 - val_loss: 1.0795\n",
      "Epoch 17/35\n",
      "\u001b[1m506/506\u001b[0m \u001b[32m━━━━━━━━━━━━━━━━━━━━\u001b[0m\u001b[37m\u001b[0m \u001b[1m13s\u001b[0m 25ms/step - accuracy: 0.9498 - loss: 0.1501 - val_accuracy: 0.7699 - val_loss: 0.9191\n",
      "Epoch 18/35\n",
      "\u001b[1m506/506\u001b[0m \u001b[32m━━━━━━━━━━━━━━━━━━━━\u001b[0m\u001b[37m\u001b[0m \u001b[1m0s\u001b[0m 38us/step - accuracy: 1.0000 - loss: 0.0609 - val_accuracy: 0.8333 - val_loss: 0.7557\n",
      "Epoch 19/35\n",
      "\u001b[1m506/506\u001b[0m \u001b[32m━━━━━━━━━━━━━━━━━━━━\u001b[0m\u001b[37m\u001b[0m \u001b[1m13s\u001b[0m 25ms/step - accuracy: 0.9599 - loss: 0.1246 - val_accuracy: 0.7727 - val_loss: 1.0248\n",
      "Epoch 20/35\n",
      "\u001b[1m506/506\u001b[0m \u001b[32m━━━━━━━━━━━━━━━━━━━━\u001b[0m\u001b[37m\u001b[0m \u001b[1m0s\u001b[0m 34us/step - accuracy: 0.9062 - loss: 0.3010 - val_accuracy: 0.6667 - val_loss: 1.1507\n",
      "Epoch 21/35\n",
      "\u001b[1m506/506\u001b[0m \u001b[32m━━━━━━━━━━━━━━━━━━━━\u001b[0m\u001b[37m\u001b[0m \u001b[1m13s\u001b[0m 25ms/step - accuracy: 0.9693 - loss: 0.0996 - val_accuracy: 0.7859 - val_loss: 0.9479\n",
      "Epoch 22/35\n",
      "\u001b[1m506/506\u001b[0m \u001b[32m━━━━━━━━━━━━━━━━━━━━\u001b[0m\u001b[37m\u001b[0m \u001b[1m0s\u001b[0m 38us/step - accuracy: 1.0000 - loss: 0.0340 - val_accuracy: 0.7500 - val_loss: 0.8093\n",
      "Epoch 23/35\n",
      "\u001b[1m506/506\u001b[0m \u001b[32m━━━━━━━━━━━━━━━━━━━━\u001b[0m\u001b[37m\u001b[0m \u001b[1m13s\u001b[0m 26ms/step - accuracy: 0.9707 - loss: 0.0917 - val_accuracy: 0.7889 - val_loss: 1.0054\n",
      "Epoch 24/35\n",
      "\u001b[1m506/506\u001b[0m \u001b[32m━━━━━━━━━━━━━━━━━━━━\u001b[0m\u001b[37m\u001b[0m \u001b[1m0s\u001b[0m 34us/step - accuracy: 0.9688 - loss: 0.0501 - val_accuracy: 0.8333 - val_loss: 1.0654\n",
      "Epoch 25/35\n",
      "\u001b[1m506/506\u001b[0m \u001b[32m━━━━━━━━━━━━━━━━━━━━\u001b[0m\u001b[37m\u001b[0m \u001b[1m13s\u001b[0m 25ms/step - accuracy: 0.9810 - loss: 0.0579 - val_accuracy: 0.7725 - val_loss: 1.2520\n",
      "Epoch 26/35\n",
      "\u001b[1m506/506\u001b[0m \u001b[32m━━━━━━━━━━━━━━━━━━━━\u001b[0m\u001b[37m\u001b[0m \u001b[1m0s\u001b[0m 40us/step - accuracy: 0.9688 - loss: 0.0899 - val_accuracy: 0.7917 - val_loss: 0.5696\n",
      "Epoch 27/35\n",
      "\u001b[1m506/506\u001b[0m \u001b[32m━━━━━━━━━━━━━━━━━━━━\u001b[0m\u001b[37m\u001b[0m \u001b[1m13s\u001b[0m 25ms/step - accuracy: 0.9735 - loss: 0.0808 - val_accuracy: 0.7876 - val_loss: 1.1455\n",
      "Epoch 28/35\n",
      "\u001b[1m506/506\u001b[0m \u001b[32m━━━━━━━━━━━━━━━━━━━━\u001b[0m\u001b[37m\u001b[0m \u001b[1m0s\u001b[0m 30us/step - accuracy: 0.9688 - loss: 0.0721 - val_accuracy: 0.7917 - val_loss: 1.5622\n",
      "Epoch 29/35\n",
      "\u001b[1m506/506\u001b[0m \u001b[32m━━━━━━━━━━━━━━━━━━━━\u001b[0m\u001b[37m\u001b[0m \u001b[1m12s\u001b[0m 24ms/step - accuracy: 0.9873 - loss: 0.0412 - val_accuracy: 0.7781 - val_loss: 1.2358\n",
      "Epoch 30/35\n",
      "\u001b[1m506/506\u001b[0m \u001b[32m━━━━━━━━━━━━━━━━━━━━\u001b[0m\u001b[37m\u001b[0m \u001b[1m0s\u001b[0m 33us/step - accuracy: 0.9688 - loss: 0.1199 - val_accuracy: 0.8333 - val_loss: 0.5720\n",
      "Epoch 31/35\n",
      "\u001b[1m506/506\u001b[0m \u001b[32m━━━━━━━━━━━━━━━━━━━━\u001b[0m\u001b[37m\u001b[0m \u001b[1m13s\u001b[0m 26ms/step - accuracy: 0.9867 - loss: 0.0443 - val_accuracy: 0.7552 - val_loss: 1.3897\n",
      "Epoch 32/35\n",
      "\u001b[1m506/506\u001b[0m \u001b[32m━━━━━━━━━━━━━━━━━━━━\u001b[0m\u001b[37m\u001b[0m \u001b[1m0s\u001b[0m 32us/step - accuracy: 1.0000 - loss: 0.0200 - val_accuracy: 0.6667 - val_loss: 1.7601\n",
      "Epoch 33/35\n",
      "\u001b[1m506/506\u001b[0m \u001b[32m━━━━━━━━━━━━━━━━━━━━\u001b[0m\u001b[37m\u001b[0m \u001b[1m12s\u001b[0m 24ms/step - accuracy: 0.9869 - loss: 0.0423 - val_accuracy: 0.7686 - val_loss: 1.2969\n",
      "Epoch 34/35\n",
      "\u001b[1m506/506\u001b[0m \u001b[32m━━━━━━━━━━━━━━━━━━━━\u001b[0m\u001b[37m\u001b[0m \u001b[1m0s\u001b[0m 34us/step - accuracy: 1.0000 - loss: 0.0149 - val_accuracy: 0.8333 - val_loss: 0.4948\n",
      "Epoch 35/35\n",
      "\u001b[1m506/506\u001b[0m \u001b[32m━━━━━━━━━━━━━━━━━━━━\u001b[0m\u001b[37m\u001b[0m \u001b[1m13s\u001b[0m 25ms/step - accuracy: 0.9743 - loss: 0.0877 - val_accuracy: 0.7792 - val_loss: 1.4378\n",
      "\u001b[1m168/168\u001b[0m \u001b[32m━━━━━━━━━━━━━━━━━━━━\u001b[0m\u001b[37m\u001b[0m \u001b[1m3s\u001b[0m 19ms/step - accuracy: 0.7715 - loss: 1.4339\n",
      "Test accuracy: 0.7780877947807312\n",
      "0.1\n",
      "Epoch 1/35\n",
      "\u001b[1m506/506\u001b[0m \u001b[32m━━━━━━━━━━━━━━━━━━━━\u001b[0m\u001b[37m\u001b[0m \u001b[1m17s\u001b[0m 28ms/step - accuracy: 0.3745 - loss: 1.8107 - val_accuracy: 0.6425 - val_loss: 1.0158\n",
      "Epoch 2/35\n",
      "\u001b[1m506/506\u001b[0m \u001b[32m━━━━━━━━━━━━━━━━━━━━\u001b[0m\u001b[37m\u001b[0m \u001b[1m0s\u001b[0m 454us/step - accuracy: 0.5312 - loss: 1.1452 - val_accuracy: 0.5833 - val_loss: 1.1584\n",
      "Epoch 3/35\n",
      "\u001b[1m506/506\u001b[0m \u001b[32m━━━━━━━━━━━━━━━━━━━━\u001b[0m\u001b[37m\u001b[0m \u001b[1m13s\u001b[0m 26ms/step - accuracy: 0.6428 - loss: 1.0176 - val_accuracy: 0.6951 - val_loss: 0.8262\n",
      "Epoch 4/35\n",
      "\u001b[1m506/506\u001b[0m \u001b[32m━━━━━━━━━━━━━━━━━━━━\u001b[0m\u001b[37m\u001b[0m \u001b[1m0s\u001b[0m 38us/step - accuracy: 0.7188 - loss: 0.7312 - val_accuracy: 0.5833 - val_loss: 0.9464\n",
      "Epoch 5/35\n",
      "\u001b[1m506/506\u001b[0m \u001b[32m━━━━━━━━━━━━━━━━━━━━\u001b[0m\u001b[37m\u001b[0m \u001b[1m13s\u001b[0m 26ms/step - accuracy: 0.7125 - loss: 0.7967 - val_accuracy: 0.7539 - val_loss: 0.6810\n",
      "Epoch 6/35\n",
      "\u001b[1m506/506\u001b[0m \u001b[32m━━━━━━━━━━━━━━━━━━━━\u001b[0m\u001b[37m\u001b[0m \u001b[1m0s\u001b[0m 34us/step - accuracy: 0.8125 - loss: 0.6453 - val_accuracy: 0.7917 - val_loss: 0.4669\n",
      "Epoch 7/35\n",
      "\u001b[1m506/506\u001b[0m \u001b[32m━━━━━━━━━━━━━━━━━━━━\u001b[0m\u001b[37m\u001b[0m \u001b[1m13s\u001b[0m 26ms/step - accuracy: 0.7825 - loss: 0.6131 - val_accuracy: 0.7632 - val_loss: 0.6588\n",
      "Epoch 8/35\n",
      "\u001b[1m506/506\u001b[0m \u001b[32m━━━━━━━━━━━━━━━━━━━━\u001b[0m\u001b[37m\u001b[0m \u001b[1m1s\u001b[0m 1ms/step - accuracy: 0.8125 - loss: 0.5410 - val_accuracy: 0.9167 - val_loss: 0.2376\n",
      "Epoch 9/35\n",
      "\u001b[1m506/506\u001b[0m \u001b[32m━━━━━━━━━━━━━━━━━━━━\u001b[0m\u001b[37m\u001b[0m \u001b[1m13s\u001b[0m 25ms/step - accuracy: 0.8187 - loss: 0.5076 - val_accuracy: 0.7839 - val_loss: 0.6257\n",
      "Epoch 10/35\n",
      "\u001b[1m506/506\u001b[0m \u001b[32m━━━━━━━━━━━━━━━━━━━━\u001b[0m\u001b[37m\u001b[0m \u001b[1m0s\u001b[0m 34us/step - accuracy: 0.8750 - loss: 0.3563 - val_accuracy: 0.7917 - val_loss: 0.4660\n",
      "Epoch 11/35\n",
      "\u001b[1m506/506\u001b[0m \u001b[32m━━━━━━━━━━━━━━━━━━━━\u001b[0m\u001b[37m\u001b[0m \u001b[1m13s\u001b[0m 26ms/step - accuracy: 0.8590 - loss: 0.4093 - val_accuracy: 0.7360 - val_loss: 0.7626\n",
      "Epoch 12/35\n",
      "\u001b[1m506/506\u001b[0m \u001b[32m━━━━━━━━━━━━━━━━━━━━\u001b[0m\u001b[37m\u001b[0m \u001b[1m0s\u001b[0m 38us/step - accuracy: 0.8125 - loss: 0.5783 - val_accuracy: 0.7083 - val_loss: 0.7055\n",
      "Epoch 13/35\n",
      "\u001b[1m506/506\u001b[0m \u001b[32m━━━━━━━━━━━━━━━━━━━━\u001b[0m\u001b[37m\u001b[0m \u001b[1m12s\u001b[0m 24ms/step - accuracy: 0.8776 - loss: 0.3485 - val_accuracy: 0.7695 - val_loss: 0.7337\n",
      "Epoch 14/35\n",
      "\u001b[1m506/506\u001b[0m \u001b[32m━━━━━━━━━━━━━━━━━━━━\u001b[0m\u001b[37m\u001b[0m \u001b[1m0s\u001b[0m 26us/step - accuracy: 0.9375 - loss: 0.2079 - val_accuracy: 0.6667 - val_loss: 0.8276\n",
      "Epoch 15/35\n",
      "\u001b[1m506/506\u001b[0m \u001b[32m━━━━━━━━━━━━━━━━━━━━\u001b[0m\u001b[37m\u001b[0m \u001b[1m12s\u001b[0m 24ms/step - accuracy: 0.9019 - loss: 0.2825 - val_accuracy: 0.7591 - val_loss: 0.8138\n",
      "Epoch 16/35\n",
      "\u001b[1m506/506\u001b[0m \u001b[32m━━━━━━━━━━━━━━━━━━━━\u001b[0m\u001b[37m\u001b[0m \u001b[1m0s\u001b[0m 28us/step - accuracy: 0.7812 - loss: 0.4523 - val_accuracy: 0.7917 - val_loss: 0.6086\n",
      "Epoch 17/35\n",
      "\u001b[1m506/506\u001b[0m \u001b[32m━━━━━━━━━━━━━━━━━━━━\u001b[0m\u001b[37m\u001b[0m \u001b[1m13s\u001b[0m 25ms/step - accuracy: 0.9186 - loss: 0.2345 - val_accuracy: 0.7653 - val_loss: 0.9223\n",
      "Epoch 18/35\n",
      "\u001b[1m506/506\u001b[0m \u001b[32m━━━━━━━━━━━━━━━━━━━━\u001b[0m\u001b[37m\u001b[0m \u001b[1m0s\u001b[0m 35us/step - accuracy: 0.8750 - loss: 0.3378 - val_accuracy: 0.8333 - val_loss: 0.4480\n",
      "Epoch 19/35\n",
      "\u001b[1m506/506\u001b[0m \u001b[32m━━━━━━━━━━━━━━━━━━━━\u001b[0m\u001b[37m\u001b[0m \u001b[1m13s\u001b[0m 25ms/step - accuracy: 0.9389 - loss: 0.1846 - val_accuracy: 0.7879 - val_loss: 0.8560\n",
      "Epoch 20/35\n",
      "\u001b[1m506/506\u001b[0m \u001b[32m━━━━━━━━━━━━━━━━━━━━\u001b[0m\u001b[37m\u001b[0m \u001b[1m1s\u001b[0m 1ms/step - accuracy: 1.0000 - loss: 0.0428 - val_accuracy: 0.9583 - val_loss: 0.2956\n",
      "Epoch 21/35\n",
      "\u001b[1m506/506\u001b[0m \u001b[32m━━━━━━━━━━━━━━━━━━━━\u001b[0m\u001b[37m\u001b[0m \u001b[1m13s\u001b[0m 24ms/step - accuracy: 0.9501 - loss: 0.1509 - val_accuracy: 0.7863 - val_loss: 1.0473\n",
      "Epoch 22/35\n",
      "\u001b[1m506/506\u001b[0m \u001b[32m━━━━━━━━━━━━━━━━━━━━\u001b[0m\u001b[37m\u001b[0m \u001b[1m0s\u001b[0m 33us/step - accuracy: 0.9375 - loss: 0.3132 - val_accuracy: 0.8750 - val_loss: 0.5427\n",
      "Epoch 23/35\n",
      "\u001b[1m506/506\u001b[0m \u001b[32m━━━━━━━━━━━━━━━━━━━━\u001b[0m\u001b[37m\u001b[0m \u001b[1m13s\u001b[0m 24ms/step - accuracy: 0.9524 - loss: 0.1396 - val_accuracy: 0.7900 - val_loss: 0.9095\n",
      "Epoch 24/35\n",
      "\u001b[1m506/506\u001b[0m \u001b[32m━━━━━━━━━━━━━━━━━━━━\u001b[0m\u001b[37m\u001b[0m \u001b[1m0s\u001b[0m 35us/step - accuracy: 1.0000 - loss: 0.0630 - val_accuracy: 0.7917 - val_loss: 1.2454\n",
      "Epoch 25/35\n",
      "\u001b[1m506/506\u001b[0m \u001b[32m━━━━━━━━━━━━━━━━━━━━\u001b[0m\u001b[37m\u001b[0m \u001b[1m14s\u001b[0m 26ms/step - accuracy: 0.9590 - loss: 0.1275 - val_accuracy: 0.7878 - val_loss: 0.8977\n",
      "Epoch 26/35\n",
      "\u001b[1m506/506\u001b[0m \u001b[32m━━━━━━━━━━━━━━━━━━━━\u001b[0m\u001b[37m\u001b[0m \u001b[1m0s\u001b[0m 29us/step - accuracy: 1.0000 - loss: 0.0534 - val_accuracy: 0.8333 - val_loss: 1.2040\n",
      "Epoch 27/35\n",
      "\u001b[1m506/506\u001b[0m \u001b[32m━━━━━━━━━━━━━━━━━━━━\u001b[0m\u001b[37m\u001b[0m \u001b[1m12s\u001b[0m 24ms/step - accuracy: 0.9698 - loss: 0.0947 - val_accuracy: 0.7853 - val_loss: 1.2257\n",
      "Epoch 28/35\n",
      "\u001b[1m506/506\u001b[0m \u001b[32m━━━━━━━━━━━━━━━━━━━━\u001b[0m\u001b[37m\u001b[0m \u001b[1m0s\u001b[0m 32us/step - accuracy: 0.9688 - loss: 0.0303 - val_accuracy: 0.7500 - val_loss: 1.4843\n",
      "Epoch 29/35\n",
      "\u001b[1m506/506\u001b[0m \u001b[32m━━━━━━━━━━━━━━━━━━━━\u001b[0m\u001b[37m\u001b[0m \u001b[1m13s\u001b[0m 25ms/step - accuracy: 0.9638 - loss: 0.1087 - val_accuracy: 0.7837 - val_loss: 1.1206\n",
      "Epoch 30/35\n",
      "\u001b[1m506/506\u001b[0m \u001b[32m━━━━━━━━━━━━━━━━━━━━\u001b[0m\u001b[37m\u001b[0m \u001b[1m0s\u001b[0m 36us/step - accuracy: 0.9688 - loss: 0.0591 - val_accuracy: 0.8750 - val_loss: 0.2966\n",
      "Epoch 31/35\n",
      "\u001b[1m506/506\u001b[0m \u001b[32m━━━━━━━━━━━━━━━━━━━━\u001b[0m\u001b[37m\u001b[0m \u001b[1m13s\u001b[0m 25ms/step - accuracy: 0.9747 - loss: 0.0811 - val_accuracy: 0.7839 - val_loss: 1.1224\n",
      "Epoch 32/35\n",
      "\u001b[1m506/506\u001b[0m \u001b[32m━━━━━━━━━━━━━━━━━━━━\u001b[0m\u001b[37m\u001b[0m \u001b[1m0s\u001b[0m 35us/step - accuracy: 1.0000 - loss: 0.0040 - val_accuracy: 0.8333 - val_loss: 0.7627\n",
      "Epoch 33/35\n",
      "\u001b[1m506/506\u001b[0m \u001b[32m━━━━━━━━━━━━━━━━━━━━\u001b[0m\u001b[37m\u001b[0m \u001b[1m12s\u001b[0m 24ms/step - accuracy: 0.9723 - loss: 0.0874 - val_accuracy: 0.7740 - val_loss: 1.2099\n",
      "Epoch 34/35\n",
      "\u001b[1m506/506\u001b[0m \u001b[32m━━━━━━━━━━━━━━━━━━━━\u001b[0m\u001b[37m\u001b[0m \u001b[1m0s\u001b[0m 33us/step - accuracy: 1.0000 - loss: 0.0084 - val_accuracy: 0.8333 - val_loss: 0.5183\n",
      "Epoch 35/35\n",
      "\u001b[1m506/506\u001b[0m \u001b[32m━━━━━━━━━━━━━━━━━━━━\u001b[0m\u001b[37m\u001b[0m \u001b[1m12s\u001b[0m 24ms/step - accuracy: 0.9774 - loss: 0.0701 - val_accuracy: 0.7907 - val_loss: 1.2240\n",
      "\u001b[1m168/168\u001b[0m \u001b[32m━━━━━━━━━━━━━━━━━━━━\u001b[0m\u001b[37m\u001b[0m \u001b[1m3s\u001b[0m 18ms/step - accuracy: 0.7964 - loss: 1.1465\n",
      "Test accuracy: 0.7896205186843872\n",
      "0.5\n",
      "Epoch 1/35\n",
      "\u001b[1m506/506\u001b[0m \u001b[32m━━━━━━━━━━━━━━━━━━━━\u001b[0m\u001b[37m\u001b[0m \u001b[1m16s\u001b[0m 28ms/step - accuracy: 0.2890 - loss: 1.9242 - val_accuracy: 0.4570 - val_loss: 1.4903\n",
      "Epoch 2/35\n",
      "\u001b[1m506/506\u001b[0m \u001b[32m━━━━━━━━━━━━━━━━━━━━\u001b[0m\u001b[37m\u001b[0m \u001b[1m0s\u001b[0m 467us/step - accuracy: 0.4062 - loss: 1.6074 - val_accuracy: 0.4583 - val_loss: 1.6826\n",
      "Epoch 3/35\n",
      "\u001b[1m506/506\u001b[0m \u001b[32m━━━━━━━━━━━━━━━━━━━━\u001b[0m\u001b[37m\u001b[0m \u001b[1m13s\u001b[0m 25ms/step - accuracy: 0.5153 - loss: 1.3375 - val_accuracy: 0.6138 - val_loss: 1.0904\n",
      "Epoch 4/35\n",
      "\u001b[1m506/506\u001b[0m \u001b[32m━━━━━━━━━━━━━━━━━━━━\u001b[0m\u001b[37m\u001b[0m \u001b[1m0s\u001b[0m 29us/step - accuracy: 0.4688 - loss: 1.3535 - val_accuracy: 0.6667 - val_loss: 1.0734\n",
      "Epoch 5/35\n",
      "\u001b[1m506/506\u001b[0m \u001b[32m━━━━━━━━━━━━━━━━━━━━\u001b[0m\u001b[37m\u001b[0m \u001b[1m13s\u001b[0m 26ms/step - accuracy: 0.5847 - loss: 1.1533 - val_accuracy: 0.6778 - val_loss: 0.9255\n",
      "Epoch 6/35\n",
      "\u001b[1m506/506\u001b[0m \u001b[32m━━━━━━━━━━━━━━━━━━━━\u001b[0m\u001b[37m\u001b[0m \u001b[1m0s\u001b[0m 34us/step - accuracy: 0.5625 - loss: 0.9856 - val_accuracy: 0.6667 - val_loss: 1.2968\n",
      "Epoch 7/35\n",
      "\u001b[1m506/506\u001b[0m \u001b[32m━━━━━━━━━━━━━━━━━━━━\u001b[0m\u001b[37m\u001b[0m \u001b[1m13s\u001b[0m 25ms/step - accuracy: 0.6363 - loss: 1.0238 - val_accuracy: 0.7109 - val_loss: 0.8482\n",
      "Epoch 8/35\n",
      "\u001b[1m506/506\u001b[0m \u001b[32m━━━━━━━━━━━━━━━━━━━━\u001b[0m\u001b[37m\u001b[0m \u001b[1m0s\u001b[0m 34us/step - accuracy: 0.6562 - loss: 0.9552 - val_accuracy: 0.8750 - val_loss: 0.5293\n",
      "Epoch 9/35\n",
      "\u001b[1m506/506\u001b[0m \u001b[32m━━━━━━━━━━━━━━━━━━━━\u001b[0m\u001b[37m\u001b[0m \u001b[1m13s\u001b[0m 25ms/step - accuracy: 0.6820 - loss: 0.9141 - val_accuracy: 0.7299 - val_loss: 0.7663\n",
      "Epoch 10/35\n",
      "\u001b[1m506/506\u001b[0m \u001b[32m━━━━━━━━━━━━━━━━━━━━\u001b[0m\u001b[37m\u001b[0m \u001b[1m0s\u001b[0m 36us/step - accuracy: 0.7500 - loss: 0.5337 - val_accuracy: 0.5833 - val_loss: 0.7970\n",
      "Epoch 11/35\n",
      "\u001b[1m506/506\u001b[0m \u001b[32m━━━━━━━━━━━━━━━━━━━━\u001b[0m\u001b[37m\u001b[0m \u001b[1m13s\u001b[0m 25ms/step - accuracy: 0.7039 - loss: 0.8140 - val_accuracy: 0.7241 - val_loss: 0.7706\n",
      "Epoch 12/35\n",
      "\u001b[1m506/506\u001b[0m \u001b[32m━━━━━━━━━━━━━━━━━━━━\u001b[0m\u001b[37m\u001b[0m \u001b[1m0s\u001b[0m 33us/step - accuracy: 0.6875 - loss: 0.9007 - val_accuracy: 0.5417 - val_loss: 1.1912\n",
      "Epoch 13/35\n",
      "\u001b[1m506/506\u001b[0m \u001b[32m━━━━━━━━━━━━━━━━━━━━\u001b[0m\u001b[37m\u001b[0m \u001b[1m13s\u001b[0m 25ms/step - accuracy: 0.7306 - loss: 0.7503 - val_accuracy: 0.7604 - val_loss: 0.6853\n",
      "Epoch 14/35\n",
      "\u001b[1m506/506\u001b[0m \u001b[32m━━━━━━━━━━━━━━━━━━━━\u001b[0m\u001b[37m\u001b[0m \u001b[1m0s\u001b[0m 28us/step - accuracy: 0.7500 - loss: 0.6815 - val_accuracy: 0.6667 - val_loss: 0.8006\n",
      "Epoch 15/35\n",
      "\u001b[1m506/506\u001b[0m \u001b[32m━━━━━━━━━━━━━━━━━━━━\u001b[0m\u001b[37m\u001b[0m \u001b[1m13s\u001b[0m 25ms/step - accuracy: 0.7612 - loss: 0.6734 - val_accuracy: 0.7506 - val_loss: 0.7316\n",
      "Epoch 16/35\n",
      "\u001b[1m506/506\u001b[0m \u001b[32m━━━━━━━━━━━━━━━━━━━━\u001b[0m\u001b[37m\u001b[0m \u001b[1m0s\u001b[0m 36us/step - accuracy: 0.7812 - loss: 0.6544 - val_accuracy: 0.7083 - val_loss: 0.8443\n",
      "Epoch 17/35\n",
      "\u001b[1m506/506\u001b[0m \u001b[32m━━━━━━━━━━━━━━━━━━━━\u001b[0m\u001b[37m\u001b[0m \u001b[1m13s\u001b[0m 26ms/step - accuracy: 0.7799 - loss: 0.6201 - val_accuracy: 0.7779 - val_loss: 0.6532\n",
      "Epoch 18/35\n",
      "\u001b[1m506/506\u001b[0m \u001b[32m━━━━━━━━━━━━━━━━━━━━\u001b[0m\u001b[37m\u001b[0m \u001b[1m0s\u001b[0m 33us/step - accuracy: 0.7812 - loss: 0.5966 - val_accuracy: 0.5833 - val_loss: 1.5399\n",
      "Epoch 19/35\n",
      "\u001b[1m506/506\u001b[0m \u001b[32m━━━━━━━━━━━━━━━━━━━━\u001b[0m\u001b[37m\u001b[0m \u001b[1m13s\u001b[0m 25ms/step - accuracy: 0.8006 - loss: 0.5559 - val_accuracy: 0.7729 - val_loss: 0.6577\n",
      "Epoch 20/35\n",
      "\u001b[1m506/506\u001b[0m \u001b[32m━━━━━━━━━━━━━━━━━━━━\u001b[0m\u001b[37m\u001b[0m \u001b[1m0s\u001b[0m 34us/step - accuracy: 0.8438 - loss: 0.4470 - val_accuracy: 0.9167 - val_loss: 0.3212\n",
      "Epoch 21/35\n",
      "\u001b[1m506/506\u001b[0m \u001b[32m━━━━━━━━━━━━━━━━━━━━\u001b[0m\u001b[37m\u001b[0m \u001b[1m13s\u001b[0m 26ms/step - accuracy: 0.8149 - loss: 0.5176 - val_accuracy: 0.7863 - val_loss: 0.6790\n",
      "Epoch 22/35\n",
      "\u001b[1m506/506\u001b[0m \u001b[32m━━━━━━━━━━━━━━━━━━━━\u001b[0m\u001b[37m\u001b[0m \u001b[1m0s\u001b[0m 32us/step - accuracy: 0.7812 - loss: 0.6123 - val_accuracy: 0.8333 - val_loss: 0.4103\n",
      "Epoch 23/35\n",
      "\u001b[1m506/506\u001b[0m \u001b[32m━━━━━━━━━━━━━━━━━━━━\u001b[0m\u001b[37m\u001b[0m \u001b[1m13s\u001b[0m 26ms/step - accuracy: 0.8201 - loss: 0.4974 - val_accuracy: 0.7597 - val_loss: 0.7584\n",
      "Epoch 24/35\n",
      "\u001b[1m506/506\u001b[0m \u001b[32m━━━━━━━━━━━━━━━━━━━━\u001b[0m\u001b[37m\u001b[0m \u001b[1m0s\u001b[0m 38us/step - accuracy: 0.8750 - loss: 0.4372 - val_accuracy: 0.7083 - val_loss: 0.8173\n",
      "Epoch 25/35\n",
      "\u001b[1m506/506\u001b[0m \u001b[32m━━━━━━━━━━━━━━━━━━━━\u001b[0m\u001b[37m\u001b[0m \u001b[1m13s\u001b[0m 26ms/step - accuracy: 0.8345 - loss: 0.4694 - val_accuracy: 0.7658 - val_loss: 0.7538\n",
      "Epoch 26/35\n",
      "\u001b[1m506/506\u001b[0m \u001b[32m━━━━━━━━━━━━━━━━━━━━\u001b[0m\u001b[37m\u001b[0m \u001b[1m0s\u001b[0m 34us/step - accuracy: 0.8438 - loss: 0.3539 - val_accuracy: 0.6667 - val_loss: 1.0821\n",
      "Epoch 27/35\n",
      "\u001b[1m506/506\u001b[0m \u001b[32m━━━━━━━━━━━━━━━━━━━━\u001b[0m\u001b[37m\u001b[0m \u001b[1m13s\u001b[0m 26ms/step - accuracy: 0.8379 - loss: 0.4551 - val_accuracy: 0.7764 - val_loss: 0.7153\n",
      "Epoch 28/35\n",
      "\u001b[1m506/506\u001b[0m \u001b[32m━━━━━━━━━━━━━━━━━━━━\u001b[0m\u001b[37m\u001b[0m \u001b[1m0s\u001b[0m 33us/step - accuracy: 0.9375 - loss: 0.3178 - val_accuracy: 0.7083 - val_loss: 0.6858\n",
      "Epoch 29/35\n",
      "\u001b[1m506/506\u001b[0m \u001b[32m━━━━━━━━━━━━━━━━━━━━\u001b[0m\u001b[37m\u001b[0m \u001b[1m14s\u001b[0m 26ms/step - accuracy: 0.8558 - loss: 0.3998 - val_accuracy: 0.7902 - val_loss: 0.7010\n",
      "Epoch 30/35\n",
      "\u001b[1m506/506\u001b[0m \u001b[32m━━━━━━━━━━━━━━━━━━━━\u001b[0m\u001b[37m\u001b[0m \u001b[1m0s\u001b[0m 34us/step - accuracy: 0.8438 - loss: 0.4598 - val_accuracy: 0.8750 - val_loss: 0.2919\n",
      "Epoch 31/35\n",
      "\u001b[1m506/506\u001b[0m \u001b[32m━━━━━━━━━━━━━━━━━━━━\u001b[0m\u001b[37m\u001b[0m \u001b[1m13s\u001b[0m 26ms/step - accuracy: 0.8702 - loss: 0.3631 - val_accuracy: 0.7935 - val_loss: 0.7691\n",
      "Epoch 32/35\n",
      "\u001b[1m506/506\u001b[0m \u001b[32m━━━━━━━━━━━━━━━━━━━━\u001b[0m\u001b[37m\u001b[0m \u001b[1m0s\u001b[0m 37us/step - accuracy: 0.8438 - loss: 0.3557 - val_accuracy: 0.7500 - val_loss: 1.0559\n",
      "Epoch 33/35\n",
      "\u001b[1m506/506\u001b[0m \u001b[32m━━━━━━━━━━━━━━━━━━━━\u001b[0m\u001b[37m\u001b[0m \u001b[1m13s\u001b[0m 26ms/step - accuracy: 0.8743 - loss: 0.3464 - val_accuracy: 0.7906 - val_loss: 0.7550\n",
      "Epoch 34/35\n",
      "\u001b[1m506/506\u001b[0m \u001b[32m━━━━━━━━━━━━━━━━━━━━\u001b[0m\u001b[37m\u001b[0m \u001b[1m0s\u001b[0m 27us/step - accuracy: 0.8438 - loss: 0.4680 - val_accuracy: 0.8333 - val_loss: 0.5085\n",
      "Epoch 35/35\n",
      "\u001b[1m506/506\u001b[0m \u001b[32m━━━━━━━━━━━━━━━━━━━━\u001b[0m\u001b[37m\u001b[0m \u001b[1m13s\u001b[0m 26ms/step - accuracy: 0.8830 - loss: 0.3308 - val_accuracy: 0.7759 - val_loss: 0.8213\n",
      "\u001b[1m168/168\u001b[0m \u001b[32m━━━━━━━━━━━━━━━━━━━━\u001b[0m\u001b[37m\u001b[0m \u001b[1m3s\u001b[0m 19ms/step - accuracy: 0.7814 - loss: 0.8543\n",
      "Test accuracy: 0.7786458134651184\n"
     ]
    }
   ],
   "source": [
    "learning_rate = 0.001\n",
    "scores_dr = {}\n",
    "\n",
    "for dr in [0, 0.1, 0.5]:\n",
    "    print(dr)\n",
    "    model = make_model(learning_rate=learning_rate, dropout_rate=dr)\n",
    "    history = model.fit(\n",
    "        train_generator,\n",
    "        steps_per_epoch=train_generator.samples // batch_size,\n",
    "        epochs=epochs,\n",
    "        validation_data=validation_generator,\n",
    "        validation_steps=validation_generator.samples // batch_size,\n",
    "        callbacks=[checkpoint])\n",
    "    scores_dr[dr] = history.history\n",
    "    test_loss, test_acc = model.evaluate(test_generator, steps=test_generator.samples // batch_size)\n",
    "    print('Test accuracy:', test_acc)"
   ]
  },
  {
   "cell_type": "code",
   "execution_count": 18,
   "metadata": {
    "execution": {
     "iopub.execute_input": "2024-12-30T16:25:03.596510Z",
     "iopub.status.busy": "2024-12-30T16:25:03.596188Z",
     "iopub.status.idle": "2024-12-30T16:25:03.909228Z",
     "shell.execute_reply": "2024-12-30T16:25:03.908387Z",
     "shell.execute_reply.started": "2024-12-30T16:25:03.596483Z"
    },
    "id": "Tr8djDoj-lXk",
    "outputId": "e0f4b02f-c028-4dd3-b2f6-de655d14eff0",
    "trusted": true
   },
   "outputs": [
    {
     "data": {
      "image/png": "[encoded data removed]",
      "text/plain": [
       "<Figure size 640x480 with 1 Axes>"
      ]
     },
     "metadata": {},
     "output_type": "display_data"
    }
   ],
   "source": [
    "for dr, hist in scores_dr.items():\n",
    "  if (dr in [0, 0.1, 0.5]):\n",
    "    plt.plot(hist['val_accuracy'], label=dr)\n",
    "    plt.title(\"Validation Accuracy by Dropout rate\")\n",
    "    plt.xlabel(\"Epochs\")\n",
    "    plt.ylabel(\"Accuracy\")\n",
    "    plt.legend()"
   ]
  },
  {
   "cell_type": "markdown",
   "metadata": {
    "id": "qBXHU0Io9fxm"
   },
   "source": [
    "Based on these results, at lower epochs the best **Dropout rate** is 0.1, but at higher epochs we get better results with Dropout rates of 0 and 0.1. For the final decision, we use the Test Accuracy result which was better with a **Dropout Rate of 0.1**"
   ]
  },
  {
   "cell_type": "markdown",
   "metadata": {
    "id": "HUCWI0dM9rZu"
   },
   "source": [
    "### Data Augmentation\n",
    "\n",
    "The final step of the tunning of the model would be based on data augmentation.\n",
    "\n",
    "For this we are going to include additional parameters at the moment when we use the ImageDataGenerator at the training data"
   ]
  },
  {
   "cell_type": "code",
   "execution_count": 19,
   "metadata": {
    "execution": {
     "iopub.execute_input": "2024-12-30T16:25:56.536113Z",
     "iopub.status.busy": "2024-12-30T16:25:56.535767Z",
     "iopub.status.idle": "2024-12-30T16:25:56.540160Z",
     "shell.execute_reply": "2024-12-30T16:25:56.539286Z",
     "shell.execute_reply.started": "2024-12-30T16:25:56.536086Z"
    },
    "id": "TasHDgtTldt0",
    "trusted": true
   },
   "outputs": [],
   "source": [
    "train_datagen = ImageDataGenerator(\n",
    "    rescale=1./255,\n",
    "    zoom_range=0.05,\n",
    "    rotation_range=20,    \n",
    "    horizontal_flip=True)\n"
   ]
  },
  {
   "cell_type": "code",
   "execution_count": 20,
   "metadata": {
    "execution": {
     "iopub.execute_input": "2024-12-30T16:26:00.397986Z",
     "iopub.status.busy": "2024-12-30T16:26:00.397663Z",
     "iopub.status.idle": "2024-12-30T16:26:00.924425Z",
     "shell.execute_reply": "2024-12-30T16:26:00.923564Z",
     "shell.execute_reply.started": "2024-12-30T16:26:00.397958Z"
    },
    "id": "QFpqyMD8-UGT",
    "outputId": "b6542bc8-c589-4f9b-ee76-e3f1f3b6dc0b",
    "trusted": true
   },
   "outputs": [
    {
     "name": "stdout",
     "output_type": "stream",
     "text": [
      "Found 16200 images belonging to 10 classes.\n",
      "Found 5400 images belonging to 10 classes.\n",
      "Found 5400 images belonging to 10 classes.\n"
     ]
    }
   ],
   "source": [
    "# Load and preprocess data\n",
    "train_generator = train_datagen.flow_from_directory(\n",
    "    train_dir,\n",
    "    target_size=(img_width, img_height),\n",
    "    batch_size=batch_size,\n",
    "    class_mode='categorical')\n",
    "\n",
    "test_generator = test_datagen.flow_from_directory(\n",
    "    test_dir,\n",
    "    target_size=(img_width, img_height),\n",
    "    batch_size=batch_size,\n",
    "    class_mode='categorical')\n",
    "\n",
    "validation_generator = validation_datagen.flow_from_directory(\n",
    "    val_dir,\n",
    "    target_size=(img_width, img_height),\n",
    "    batch_size=batch_size,\n",
    "    class_mode='categorical')"
   ]
  },
  {
   "cell_type": "code",
   "execution_count": 21,
   "metadata": {
    "execution": {
     "iopub.execute_input": "2024-12-30T16:26:05.465249Z",
     "iopub.status.busy": "2024-12-30T16:26:05.464963Z",
     "iopub.status.idle": "2024-12-30T16:26:05.469083Z",
     "shell.execute_reply": "2024-12-30T16:26:05.468229Z",
     "shell.execute_reply.started": "2024-12-30T16:26:05.465227Z"
    },
    "id": "Jr5KgXau-bKy",
    "trusted": true
   },
   "outputs": [],
   "source": [
    "checkpoint = keras.callbacks.ModelCheckpoint(\n",
    "    'model_v3_{epoch:02d}_{val_accuracy:.3f}.h5.keras',\n",
    "    save_best_only=True,\n",
    "    monitor='val_accuracy',\n",
    "    mode='max'\n",
    ")"
   ]
  },
  {
   "cell_type": "code",
   "execution_count": 22,
   "metadata": {
    "execution": {
     "iopub.execute_input": "2024-12-30T16:26:20.484631Z",
     "iopub.status.busy": "2024-12-30T16:26:20.484312Z",
     "iopub.status.idle": "2024-12-30T16:49:38.471463Z",
     "shell.execute_reply": "2024-12-30T16:49:38.470594Z",
     "shell.execute_reply.started": "2024-12-30T16:26:20.484600Z"
    },
    "id": "F9k7gp2w-bKz",
    "outputId": "eeed3377-9bd1-40cd-d7ac-04003b9bdece",
    "trusted": true
   },
   "outputs": [
    {
     "name": "stdout",
     "output_type": "stream",
     "text": [
      "Epoch 1/35\n",
      "\u001b[1m506/506\u001b[0m \u001b[32m━━━━━━━━━━━━━━━━━━━━\u001b[0m\u001b[37m\u001b[0m \u001b[1m81s\u001b[0m 153ms/step - accuracy: 0.3140 - loss: 1.8380 - val_accuracy: 0.5164 - val_loss: 1.3466\n",
      "Epoch 2/35\n",
      "\u001b[1m506/506\u001b[0m \u001b[32m━━━━━━━━━━━━━━━━━━━━\u001b[0m\u001b[37m\u001b[0m \u001b[1m0s\u001b[0m 462us/step - accuracy: 0.7188 - loss: 1.0743 - val_accuracy: 0.4167 - val_loss: 1.3512\n",
      "Epoch 3/35\n",
      "\u001b[1m506/506\u001b[0m \u001b[32m━━━━━━━━━━━━━━━━━━━━\u001b[0m\u001b[37m\u001b[0m \u001b[1m79s\u001b[0m 155ms/step - accuracy: 0.5103 - loss: 1.3260 - val_accuracy: 0.6023 - val_loss: 1.1174\n",
      "Epoch 4/35\n",
      "\u001b[1m506/506\u001b[0m \u001b[32m━━━━━━━━━━━━━━━━━━━━\u001b[0m\u001b[37m\u001b[0m \u001b[1m0s\u001b[0m 38us/step - accuracy: 0.5938 - loss: 1.2327 - val_accuracy: 0.5000 - val_loss: 1.3125\n",
      "Epoch 5/35\n",
      "\u001b[1m506/506\u001b[0m \u001b[32m━━━━━━━━━━━━━━━━━━━━\u001b[0m\u001b[37m\u001b[0m \u001b[1m78s\u001b[0m 153ms/step - accuracy: 0.5753 - loss: 1.1642 - val_accuracy: 0.6496 - val_loss: 0.9973\n",
      "Epoch 6/35\n",
      "\u001b[1m506/506\u001b[0m \u001b[32m━━━━━━━━━━━━━━━━━━━━\u001b[0m\u001b[37m\u001b[0m \u001b[1m0s\u001b[0m 34us/step - accuracy: 0.5938 - loss: 1.1138 - val_accuracy: 0.5000 - val_loss: 1.1354\n",
      "Epoch 7/35\n",
      "\u001b[1m506/506\u001b[0m \u001b[32m━━━━━━━━━━━━━━━━━━━━\u001b[0m\u001b[37m\u001b[0m \u001b[1m78s\u001b[0m 151ms/step - accuracy: 0.6092 - loss: 1.0788 - val_accuracy: 0.6615 - val_loss: 0.9926\n",
      "Epoch 8/35\n",
      "\u001b[1m506/506\u001b[0m \u001b[32m━━━━━━━━━━━━━━━━━━━━\u001b[0m\u001b[37m\u001b[0m \u001b[1m1s\u001b[0m 1ms/step - accuracy: 0.6250 - loss: 1.1859 - val_accuracy: 0.7083 - val_loss: 0.9140\n",
      "Epoch 9/35\n",
      "\u001b[1m506/506\u001b[0m \u001b[32m━━━━━━━━━━━━━━━━━━━━\u001b[0m\u001b[37m\u001b[0m \u001b[1m78s\u001b[0m 152ms/step - accuracy: 0.6460 - loss: 0.9937 - val_accuracy: 0.7128 - val_loss: 0.8417\n",
      "Epoch 10/35\n",
      "\u001b[1m506/506\u001b[0m \u001b[32m━━━━━━━━━━━━━━━━━━━━\u001b[0m\u001b[37m\u001b[0m \u001b[1m1s\u001b[0m 1ms/step - accuracy: 0.6250 - loss: 0.8081 - val_accuracy: 0.8750 - val_loss: 0.7210\n",
      "Epoch 11/35\n",
      "\u001b[1m506/506\u001b[0m \u001b[32m━━━━━━━━━━━━━━━━━━━━\u001b[0m\u001b[37m\u001b[0m \u001b[1m77s\u001b[0m 150ms/step - accuracy: 0.6613 - loss: 0.9443 - val_accuracy: 0.6940 - val_loss: 0.8515\n",
      "Epoch 12/35\n",
      "\u001b[1m506/506\u001b[0m \u001b[32m━━━━━━━━━━━━━━━━━━━━\u001b[0m\u001b[37m\u001b[0m \u001b[1m1s\u001b[0m 1ms/step - accuracy: 0.7500 - loss: 0.7365 - val_accuracy: 0.9167 - val_loss: 0.5197\n",
      "Epoch 13/35\n",
      "\u001b[1m506/506\u001b[0m \u001b[32m━━━━━━━━━━━━━━━━━━━━\u001b[0m\u001b[37m\u001b[0m \u001b[1m77s\u001b[0m 150ms/step - accuracy: 0.6806 - loss: 0.8809 - val_accuracy: 0.7195 - val_loss: 0.7973\n",
      "Epoch 14/35\n",
      "\u001b[1m506/506\u001b[0m \u001b[32m━━━━━━━━━━━━━━━━━━━━\u001b[0m\u001b[37m\u001b[0m \u001b[1m0s\u001b[0m 33us/step - accuracy: 0.5938 - loss: 0.9146 - val_accuracy: 0.7500 - val_loss: 0.8705\n",
      "Epoch 15/35\n",
      "\u001b[1m506/506\u001b[0m \u001b[32m━━━━━━━━━━━━━━━━━━━━\u001b[0m\u001b[37m\u001b[0m \u001b[1m77s\u001b[0m 150ms/step - accuracy: 0.6981 - loss: 0.8425 - val_accuracy: 0.6955 - val_loss: 0.8512\n",
      "Epoch 16/35\n",
      "\u001b[1m506/506\u001b[0m \u001b[32m━━━━━━━━━━━━━━━━━━━━\u001b[0m\u001b[37m\u001b[0m \u001b[1m0s\u001b[0m 34us/step - accuracy: 0.6875 - loss: 0.8070 - val_accuracy: 0.7917 - val_loss: 0.7424\n",
      "Epoch 17/35\n",
      "\u001b[1m506/506\u001b[0m \u001b[32m━━━━━━━━━━━━━━━━━━━━\u001b[0m\u001b[37m\u001b[0m \u001b[1m77s\u001b[0m 150ms/step - accuracy: 0.7089 - loss: 0.8090 - val_accuracy: 0.7480 - val_loss: 0.7294\n",
      "Epoch 18/35\n",
      "\u001b[1m506/506\u001b[0m \u001b[32m━━━━━━━━━━━━━━━━━━━━\u001b[0m\u001b[37m\u001b[0m \u001b[1m0s\u001b[0m 32us/step - accuracy: 0.7500 - loss: 0.6202 - val_accuracy: 0.7917 - val_loss: 0.5561\n",
      "Epoch 19/35\n",
      "\u001b[1m506/506\u001b[0m \u001b[32m━━━━━━━━━━━━━━━━━━━━\u001b[0m\u001b[37m\u001b[0m \u001b[1m76s\u001b[0m 149ms/step - accuracy: 0.7199 - loss: 0.7900 - val_accuracy: 0.7517 - val_loss: 0.6913\n",
      "Epoch 20/35\n",
      "\u001b[1m506/506\u001b[0m \u001b[32m━━━━━━━━━━━━━━━━━━━━\u001b[0m\u001b[37m\u001b[0m \u001b[1m0s\u001b[0m 34us/step - accuracy: 0.8125 - loss: 0.6247 - val_accuracy: 0.6667 - val_loss: 0.9170\n",
      "Epoch 21/35\n",
      "\u001b[1m506/506\u001b[0m \u001b[32m━━━━━━━━━━━━━━━━━━━━\u001b[0m\u001b[37m\u001b[0m \u001b[1m77s\u001b[0m 149ms/step - accuracy: 0.7232 - loss: 0.7645 - val_accuracy: 0.7327 - val_loss: 0.7496\n",
      "Epoch 22/35\n",
      "\u001b[1m506/506\u001b[0m \u001b[32m━━━━━━━━━━━━━━━━━━━━\u001b[0m\u001b[37m\u001b[0m \u001b[1m0s\u001b[0m 30us/step - accuracy: 0.7500 - loss: 0.7732 - val_accuracy: 0.7500 - val_loss: 0.6646\n",
      "Epoch 23/35\n",
      "\u001b[1m506/506\u001b[0m \u001b[32m━━━━━━━━━━━━━━━━━━━━\u001b[0m\u001b[37m\u001b[0m \u001b[1m77s\u001b[0m 151ms/step - accuracy: 0.7271 - loss: 0.7498 - val_accuracy: 0.7569 - val_loss: 0.6674\n",
      "Epoch 24/35\n",
      "\u001b[1m506/506\u001b[0m \u001b[32m━━━━━━━━━━━━━━━━━━━━\u001b[0m\u001b[37m\u001b[0m \u001b[1m0s\u001b[0m 28us/step - accuracy: 0.7812 - loss: 0.6106 - val_accuracy: 0.7500 - val_loss: 0.6109\n",
      "Epoch 25/35\n",
      "\u001b[1m506/506\u001b[0m \u001b[32m━━━━━━━━━━━━━━━━━━━━\u001b[0m\u001b[37m\u001b[0m \u001b[1m76s\u001b[0m 149ms/step - accuracy: 0.7320 - loss: 0.7371 - val_accuracy: 0.7481 - val_loss: 0.7142\n",
      "Epoch 26/35\n",
      "\u001b[1m506/506\u001b[0m \u001b[32m━━━━━━━━━━━━━━━━━━━━\u001b[0m\u001b[37m\u001b[0m \u001b[1m0s\u001b[0m 33us/step - accuracy: 0.6875 - loss: 0.7136 - val_accuracy: 0.8750 - val_loss: 0.4774\n",
      "Epoch 27/35\n",
      "\u001b[1m506/506\u001b[0m \u001b[32m━━━━━━━━━━━━━━━━━━━━\u001b[0m\u001b[37m\u001b[0m \u001b[1m77s\u001b[0m 151ms/step - accuracy: 0.7449 - loss: 0.7005 - val_accuracy: 0.7600 - val_loss: 0.6614\n",
      "Epoch 28/35\n",
      "\u001b[1m506/506\u001b[0m \u001b[32m━━━━━━━━━━━━━━━━━━━━\u001b[0m\u001b[37m\u001b[0m \u001b[1m0s\u001b[0m 41us/step - accuracy: 0.8125 - loss: 0.6262 - val_accuracy: 0.8333 - val_loss: 0.5010\n",
      "Epoch 29/35\n",
      "\u001b[1m506/506\u001b[0m \u001b[32m━━━━━━━━━━━━━━━━━━━━\u001b[0m\u001b[37m\u001b[0m \u001b[1m77s\u001b[0m 150ms/step - accuracy: 0.7523 - loss: 0.7016 - val_accuracy: 0.7584 - val_loss: 0.6825\n",
      "Epoch 30/35\n",
      "\u001b[1m506/506\u001b[0m \u001b[32m━━━━━━━━━━━━━━━━━━━━\u001b[0m\u001b[37m\u001b[0m \u001b[1m0s\u001b[0m 37us/step - accuracy: 0.8125 - loss: 0.8103 - val_accuracy: 0.7500 - val_loss: 0.5345\n",
      "Epoch 31/35\n",
      "\u001b[1m506/506\u001b[0m \u001b[32m━━━━━━━━━━━━━━━━━━━━\u001b[0m\u001b[37m\u001b[0m \u001b[1m76s\u001b[0m 148ms/step - accuracy: 0.7542 - loss: 0.6716 - val_accuracy: 0.7736 - val_loss: 0.6446\n",
      "Epoch 32/35\n",
      "\u001b[1m506/506\u001b[0m \u001b[32m━━━━━━━━━━━━━━━━━━━━\u001b[0m\u001b[37m\u001b[0m \u001b[1m0s\u001b[0m 35us/step - accuracy: 0.8438 - loss: 0.6158 - val_accuracy: 0.6667 - val_loss: 0.6684\n",
      "Epoch 33/35\n",
      "\u001b[1m506/506\u001b[0m \u001b[32m━━━━━━━━━━━━━━━━━━━━\u001b[0m\u001b[37m\u001b[0m \u001b[1m77s\u001b[0m 150ms/step - accuracy: 0.7532 - loss: 0.6857 - val_accuracy: 0.7759 - val_loss: 0.6350\n",
      "Epoch 34/35\n",
      "\u001b[1m506/506\u001b[0m \u001b[32m━━━━━━━━━━━━━━━━━━━━\u001b[0m\u001b[37m\u001b[0m \u001b[1m0s\u001b[0m 35us/step - accuracy: 0.6562 - loss: 0.7580 - val_accuracy: 0.8333 - val_loss: 0.4456\n",
      "Epoch 35/35\n",
      "\u001b[1m506/506\u001b[0m \u001b[32m━━━━━━━━━━━━━━━━━━━━\u001b[0m\u001b[37m\u001b[0m \u001b[1m76s\u001b[0m 149ms/step - accuracy: 0.7683 - loss: 0.6554 - val_accuracy: 0.7974 - val_loss: 0.5796\n",
      "\u001b[1m168/168\u001b[0m \u001b[32m━━━━━━━━━━━━━━━━━━━━\u001b[0m\u001b[37m\u001b[0m \u001b[1m3s\u001b[0m 18ms/step - accuracy: 0.8118 - loss: 0.5578\n",
      "Test accuracy: 0.8061755895614624\n"
     ]
    }
   ],
   "source": [
    "learning_rate = 0.0001\n",
    "dropout_rate = 0.1\n",
    "batch_size = 32\n",
    "scores_aug = {}\n",
    "\n",
    "model = make_model(learning_rate=learning_rate, dropout_rate=dropout_rate)\n",
    "history = model.fit(\n",
    "  train_generator,\n",
    "  steps_per_epoch=train_generator.samples // batch_size,\n",
    "  epochs=epochs,\n",
    "  validation_data=validation_generator,\n",
    "  validation_steps=validation_generator.samples // batch_size,\n",
    "  callbacks=[checkpoint])\n",
    "scores_aug['augment'] = history.history\n",
    "test_loss, test_acc = model.evaluate(test_generator, steps=test_generator.samples // batch_size)\n",
    "print('Test accuracy:', test_acc)"
   ]
  },
  {
   "cell_type": "code",
   "execution_count": 23,
   "metadata": {
    "execution": {
     "iopub.execute_input": "2024-12-30T16:50:12.368675Z",
     "iopub.status.busy": "2024-12-30T16:50:12.368393Z",
     "iopub.status.idle": "2024-12-30T16:50:12.629441Z",
     "shell.execute_reply": "2024-12-30T16:50:12.628725Z",
     "shell.execute_reply.started": "2024-12-30T16:50:12.368652Z"
    },
    "id": "Tr8djDoj-lXk",
    "outputId": "e0f4b02f-c028-4dd3-b2f6-de655d14eff0",
    "trusted": true
   },
   "outputs": [
    {
     "data": {
      "image/png": "[encoded data removed]",
      "text/plain": [
       "<Figure size 640x480 with 1 Axes>"
      ]
     },
     "metadata": {},
     "output_type": "display_data"
    }
   ],
   "source": [
    "for aug, hist in scores_aug.items():\n",
    "    plt.plot(hist['val_accuracy'])\n",
    "    plt.title(\"Validation Accuracy by Dropout rate\")\n",
    "    plt.xlabel(\"Epochs\")\n",
    "    plt.ylabel(\"Accuracy\")\n",
    "    plt.legend()"
   ]
  },
  {
   "cell_type": "markdown",
   "metadata": {},
   "source": [
    "We got good validation results after augmenting the data at higher epochs and got good validation accuracy"
   ]
  },
  {
   "cell_type": "markdown",
   "metadata": {},
   "source": [
    "## Final model definition\n",
    "\n",
    "We'll train once again the model with the final parameters"
   ]
  },
  {
   "cell_type": "code",
   "execution_count": 27,
   "metadata": {
    "execution": {
     "iopub.execute_input": "2024-12-30T16:52:03.448368Z",
     "iopub.status.busy": "2024-12-30T16:52:03.448086Z",
     "iopub.status.idle": "2024-12-30T16:52:03.452339Z",
     "shell.execute_reply": "2024-12-30T16:52:03.451527Z",
     "shell.execute_reply.started": "2024-12-30T16:52:03.448346Z"
    },
    "id": "TasHDgtTldt0",
    "trusted": true
   },
   "outputs": [],
   "source": [
    "train_datagen = ImageDataGenerator(\n",
    "    rescale=1./255,\n",
    "    zoom_range=0.02,\n",
    "    rotation_range=15,    \n",
    "    horizontal_flip=True)\n",
    "\n",
    "test_datagen = ImageDataGenerator(rescale=1./255)\n",
    "validation_datagen = ImageDataGenerator(rescale=1./255)\n"
   ]
  },
  {
   "cell_type": "code",
   "execution_count": 28,
   "metadata": {
    "execution": {
     "iopub.execute_input": "2024-12-30T16:52:09.451762Z",
     "iopub.status.busy": "2024-12-30T16:52:09.451463Z",
     "iopub.status.idle": "2024-12-30T16:52:09.978036Z",
     "shell.execute_reply": "2024-12-30T16:52:09.977384Z",
     "shell.execute_reply.started": "2024-12-30T16:52:09.451727Z"
    },
    "id": "YLHZcmJdgjzk",
    "outputId": "a94e24c3-6e6c-48b5-a4b2-8319e6197ce7",
    "trusted": true
   },
   "outputs": [
    {
     "name": "stdout",
     "output_type": "stream",
     "text": [
      "Found 16200 images belonging to 10 classes.\n",
      "Found 5400 images belonging to 10 classes.\n",
      "Found 5400 images belonging to 10 classes.\n"
     ]
    }
   ],
   "source": [
    "# Load and preprocess data\n",
    "train_generator = train_datagen.flow_from_directory(\n",
    "    train_dir,\n",
    "    target_size=(img_width, img_height),\n",
    "    batch_size=batch_size,\n",
    "    class_mode='categorical')\n",
    "\n",
    "test_generator = test_datagen.flow_from_directory(\n",
    "    test_dir,\n",
    "    target_size=(img_width, img_height),\n",
    "    batch_size=batch_size,\n",
    "    class_mode='categorical')\n",
    "\n",
    "validation_generator = validation_datagen.flow_from_directory(\n",
    "    val_dir,\n",
    "    target_size=(img_width, img_height),\n",
    "    batch_size=batch_size,\n",
    "    class_mode='categorical')"
   ]
  },
  {
   "cell_type": "code",
   "execution_count": 29,
   "metadata": {
    "execution": {
     "iopub.execute_input": "2024-12-30T16:52:13.463218Z",
     "iopub.status.busy": "2024-12-30T16:52:13.462925Z",
     "iopub.status.idle": "2024-12-30T16:52:13.467011Z",
     "shell.execute_reply": "2024-12-30T16:52:13.466092Z",
     "shell.execute_reply.started": "2024-12-30T16:52:13.463195Z"
    },
    "id": "Jr5KgXau-bKy",
    "trusted": true
   },
   "outputs": [],
   "source": [
    "checkpoint = keras.callbacks.ModelCheckpoint(\n",
    "    'model_vf_{epoch:02d}_{val_accuracy:.3f}.h5.keras',\n",
    "    save_best_only=True,\n",
    "    monitor='val_accuracy',\n",
    "    mode='max'\n",
    ")"
   ]
  },
  {
   "cell_type": "markdown",
   "metadata": {},
   "source": [
    "## Adding a new Layer\n",
    "\n",
    "Additional to the parameter tunning I will add a third convolutional layer block."
   ]
  },
  {
   "cell_type": "code",
   "execution_count": 30,
   "metadata": {
    "execution": {
     "iopub.execute_input": "2024-12-30T16:52:16.745324Z",
     "iopub.status.busy": "2024-12-30T16:52:16.745017Z",
     "iopub.status.idle": "2024-12-30T16:52:16.751206Z",
     "shell.execute_reply": "2024-12-30T16:52:16.750275Z",
     "shell.execute_reply.started": "2024-12-30T16:52:16.745296Z"
    },
    "trusted": true
   },
   "outputs": [],
   "source": [
    "def make_model(learning_rate, dropout_rate=0.5):\n",
    "    optimizer = Adam(learning_rate=learning_rate)\n",
    "    model = Sequential()\n",
    "\n",
    "    # First convolutional block\n",
    "    model.add(Conv2D(32, (3, 3), input_shape=(img_width, img_height, 3), activation='relu', padding='same')) \n",
    "    model.add(MaxPooling2D(pool_size=(2, 2)))\n",
    "\n",
    "    # Second convolutional block\n",
    "    model.add(Conv2D(64, (3, 3), activation='relu', padding='same')) \n",
    "    model.add(MaxPooling2D(pool_size=(2, 2)))\n",
    "\n",
    "    # Third convolutional block\n",
    "    model.add(Conv2D(128, (3, 3), activation='relu', padding='same')) \n",
    "    model.add(MaxPooling2D(pool_size=(2, 2))) \n",
    "\n",
    "    model.add(Flatten())\n",
    "    model.add(Dense(128, activation='relu'))\n",
    "    model.add(Dropout(dropout_rate))\n",
    "    model.add(Dense(num_classes, activation='softmax'))\n",
    "\n",
    "    model.compile(loss='categorical_crossentropy',\n",
    "                  optimizer=optimizer,\n",
    "                  metrics=['accuracy'])\n",
    "    return model"
   ]
  },
  {
   "cell_type": "code",
   "execution_count": 31,
   "metadata": {
    "execution": {
     "iopub.execute_input": "2024-12-30T16:52:23.942948Z",
     "iopub.status.busy": "2024-12-30T16:52:23.942530Z",
     "iopub.status.idle": "2024-12-30T17:15:33.948424Z",
     "shell.execute_reply": "2024-12-30T17:15:33.947735Z",
     "shell.execute_reply.started": "2024-12-30T16:52:23.942910Z"
    },
    "id": "F9k7gp2w-bKz",
    "outputId": "eeed3377-9bd1-40cd-d7ac-04003b9bdece",
    "trusted": true
   },
   "outputs": [
    {
     "name": "stdout",
     "output_type": "stream",
     "text": [
      "Epoch 1/35\n",
      "\u001b[1m506/506\u001b[0m \u001b[32m━━━━━━━━━━━━━━━━━━━━\u001b[0m\u001b[37m\u001b[0m \u001b[1m83s\u001b[0m 154ms/step - accuracy: 0.3494 - loss: 1.7463 - val_accuracy: 0.6019 - val_loss: 1.0497\n",
      "Epoch 2/35\n",
      "\u001b[1m506/506\u001b[0m \u001b[32m━━━━━━━━━━━━━━━━━━━━\u001b[0m\u001b[37m\u001b[0m \u001b[1m1s\u001b[0m 2ms/step - accuracy: 0.5312 - loss: 1.2911 - val_accuracy: 0.9167 - val_loss: 0.7065\n",
      "Epoch 3/35\n",
      "\u001b[1m506/506\u001b[0m \u001b[32m━━━━━━━━━━━━━━━━━━━━\u001b[0m\u001b[37m\u001b[0m \u001b[1m76s\u001b[0m 149ms/step - accuracy: 0.6157 - loss: 1.0602 - val_accuracy: 0.7262 - val_loss: 0.7629\n",
      "Epoch 4/35\n",
      "\u001b[1m506/506\u001b[0m \u001b[32m━━━━━━━━━━━━━━━━━━━━\u001b[0m\u001b[37m\u001b[0m \u001b[1m0s\u001b[0m 37us/step - accuracy: 0.6875 - loss: 0.9176 - val_accuracy: 0.6250 - val_loss: 1.0244\n",
      "Epoch 5/35\n",
      "\u001b[1m506/506\u001b[0m \u001b[32m━━━━━━━━━━━━━━━━━━━━\u001b[0m\u001b[37m\u001b[0m \u001b[1m77s\u001b[0m 150ms/step - accuracy: 0.7006 - loss: 0.8231 - val_accuracy: 0.7316 - val_loss: 0.7432\n",
      "Epoch 6/35\n",
      "\u001b[1m506/506\u001b[0m \u001b[32m━━━━━━━━━━━━━━━━━━━━\u001b[0m\u001b[37m\u001b[0m \u001b[1m0s\u001b[0m 37us/step - accuracy: 0.7500 - loss: 0.6388 - val_accuracy: 0.6667 - val_loss: 0.7793\n",
      "Epoch 7/35\n",
      "\u001b[1m506/506\u001b[0m \u001b[32m━━━━━━━━━━━━━━━━━━━━\u001b[0m\u001b[37m\u001b[0m \u001b[1m77s\u001b[0m 151ms/step - accuracy: 0.7358 - loss: 0.7282 - val_accuracy: 0.7520 - val_loss: 0.6720\n",
      "Epoch 8/35\n",
      "\u001b[1m506/506\u001b[0m \u001b[32m━━━━━━━━━━━━━━━━━━━━\u001b[0m\u001b[37m\u001b[0m \u001b[1m0s\u001b[0m 42us/step - accuracy: 0.8125 - loss: 0.5057 - val_accuracy: 0.7083 - val_loss: 0.5809\n",
      "Epoch 9/35\n",
      "\u001b[1m506/506\u001b[0m \u001b[32m━━━━━━━━━━━━━━━━━━━━\u001b[0m\u001b[37m\u001b[0m \u001b[1m76s\u001b[0m 148ms/step - accuracy: 0.7642 - loss: 0.6488 - val_accuracy: 0.7999 - val_loss: 0.5843\n",
      "Epoch 10/35\n",
      "\u001b[1m506/506\u001b[0m \u001b[32m━━━━━━━━━━━━━━━━━━━━\u001b[0m\u001b[37m\u001b[0m \u001b[1m0s\u001b[0m 28us/step - accuracy: 0.8125 - loss: 0.5054 - val_accuracy: 0.7917 - val_loss: 0.7177\n",
      "Epoch 11/35\n",
      "\u001b[1m506/506\u001b[0m \u001b[32m━━━━━━━━━━━━━━━━━━━━\u001b[0m\u001b[37m\u001b[0m \u001b[1m76s\u001b[0m 148ms/step - accuracy: 0.7936 - loss: 0.5783 - val_accuracy: 0.8064 - val_loss: 0.5500\n",
      "Epoch 12/35\n",
      "\u001b[1m506/506\u001b[0m \u001b[32m━━━━━━━━━━━━━━━━━━━━\u001b[0m\u001b[37m\u001b[0m \u001b[1m0s\u001b[0m 36us/step - accuracy: 0.8750 - loss: 0.4534 - val_accuracy: 0.7917 - val_loss: 0.5473\n",
      "Epoch 13/35\n",
      "\u001b[1m506/506\u001b[0m \u001b[32m━━━━━━━━━━━━━━━━━━━━\u001b[0m\u001b[37m\u001b[0m \u001b[1m77s\u001b[0m 149ms/step - accuracy: 0.7922 - loss: 0.5647 - val_accuracy: 0.8281 - val_loss: 0.5120\n",
      "Epoch 14/35\n",
      "\u001b[1m506/506\u001b[0m \u001b[32m━━━━━━━━━━━━━━━━━━━━\u001b[0m\u001b[37m\u001b[0m \u001b[1m0s\u001b[0m 36us/step - accuracy: 0.9375 - loss: 0.2944 - val_accuracy: 0.8750 - val_loss: 0.4305\n",
      "Epoch 15/35\n",
      "\u001b[1m506/506\u001b[0m \u001b[32m━━━━━━━━━━━━━━━━━━━━\u001b[0m\u001b[37m\u001b[0m \u001b[1m77s\u001b[0m 150ms/step - accuracy: 0.8241 - loss: 0.4885 - val_accuracy: 0.8447 - val_loss: 0.4537\n",
      "Epoch 16/35\n",
      "\u001b[1m506/506\u001b[0m \u001b[32m━━━━━━━━━━━━━━━━━━━━\u001b[0m\u001b[37m\u001b[0m \u001b[1m0s\u001b[0m 27us/step - accuracy: 0.7812 - loss: 0.8142 - val_accuracy: 0.8333 - val_loss: 0.4057\n",
      "Epoch 17/35\n",
      "\u001b[1m506/506\u001b[0m \u001b[32m━━━━━━━━━━━━━━━━━━━━\u001b[0m\u001b[37m\u001b[0m \u001b[1m77s\u001b[0m 149ms/step - accuracy: 0.8322 - loss: 0.4764 - val_accuracy: 0.8212 - val_loss: 0.5229\n",
      "Epoch 18/35\n",
      "\u001b[1m506/506\u001b[0m \u001b[32m━━━━━━━━━━━━━━━━━━━━\u001b[0m\u001b[37m\u001b[0m \u001b[1m0s\u001b[0m 37us/step - accuracy: 0.8750 - loss: 0.2794 - val_accuracy: 0.7500 - val_loss: 0.5243\n",
      "Epoch 19/35\n",
      "\u001b[1m506/506\u001b[0m \u001b[32m━━━━━━━━━━━━━━━━━━━━\u001b[0m\u001b[37m\u001b[0m \u001b[1m76s\u001b[0m 149ms/step - accuracy: 0.8421 - loss: 0.4500 - val_accuracy: 0.8517 - val_loss: 0.4343\n",
      "Epoch 20/35\n",
      "\u001b[1m506/506\u001b[0m \u001b[32m━━━━━━━━━━━━━━━━━━━━\u001b[0m\u001b[37m\u001b[0m \u001b[1m0s\u001b[0m 37us/step - accuracy: 0.7500 - loss: 0.5557 - val_accuracy: 0.9167 - val_loss: 0.3080\n",
      "Epoch 21/35\n",
      "\u001b[1m506/506\u001b[0m \u001b[32m━━━━━━━━━━━━━━━━━━━━\u001b[0m\u001b[37m\u001b[0m \u001b[1m77s\u001b[0m 149ms/step - accuracy: 0.8603 - loss: 0.3956 - val_accuracy: 0.8452 - val_loss: 0.4422\n",
      "Epoch 22/35\n",
      "\u001b[1m506/506\u001b[0m \u001b[32m━━━━━━━━━━━━━━━━━━━━\u001b[0m\u001b[37m\u001b[0m \u001b[1m0s\u001b[0m 28us/step - accuracy: 0.8750 - loss: 0.5355 - val_accuracy: 0.7917 - val_loss: 0.4197\n",
      "Epoch 23/35\n",
      "\u001b[1m506/506\u001b[0m \u001b[32m━━━━━━━━━━━━━━━━━━━━\u001b[0m\u001b[37m\u001b[0m \u001b[1m77s\u001b[0m 151ms/step - accuracy: 0.8666 - loss: 0.3753 - val_accuracy: 0.8478 - val_loss: 0.4376\n",
      "Epoch 24/35\n",
      "\u001b[1m506/506\u001b[0m \u001b[32m━━━━━━━━━━━━━━━━━━━━\u001b[0m\u001b[37m\u001b[0m \u001b[1m0s\u001b[0m 35us/step - accuracy: 0.9062 - loss: 0.2581 - val_accuracy: 0.7917 - val_loss: 0.4235\n",
      "Epoch 25/35\n",
      "\u001b[1m506/506\u001b[0m \u001b[32m━━━━━━━━━━━━━━━━━━━━\u001b[0m\u001b[37m\u001b[0m \u001b[1m76s\u001b[0m 149ms/step - accuracy: 0.8577 - loss: 0.4063 - val_accuracy: 0.8326 - val_loss: 0.5027\n",
      "Epoch 26/35\n",
      "\u001b[1m506/506\u001b[0m \u001b[32m━━━━━━━━━━━━━━━━━━━━\u001b[0m\u001b[37m\u001b[0m \u001b[1m0s\u001b[0m 28us/step - accuracy: 0.9688 - loss: 0.1626 - val_accuracy: 0.8333 - val_loss: 0.3462\n",
      "Epoch 27/35\n",
      "\u001b[1m506/506\u001b[0m \u001b[32m━━━━━━━━━━━━━━━━━━━━\u001b[0m\u001b[37m\u001b[0m \u001b[1m76s\u001b[0m 149ms/step - accuracy: 0.8781 - loss: 0.3529 - val_accuracy: 0.8521 - val_loss: 0.4398\n",
      "Epoch 28/35\n",
      "\u001b[1m506/506\u001b[0m \u001b[32m━━━━━━━━━━━━━━━━━━━━\u001b[0m\u001b[37m\u001b[0m \u001b[1m0s\u001b[0m 27us/step - accuracy: 0.8438 - loss: 0.3000 - val_accuracy: 0.7500 - val_loss: 0.6787\n",
      "Epoch 29/35\n",
      "\u001b[1m506/506\u001b[0m \u001b[32m━━━━━━━━━━━━━━━━━━━━\u001b[0m\u001b[37m\u001b[0m \u001b[1m76s\u001b[0m 149ms/step - accuracy: 0.8795 - loss: 0.3364 - val_accuracy: 0.8707 - val_loss: 0.3830\n",
      "Epoch 30/35\n",
      "\u001b[1m506/506\u001b[0m \u001b[32m━━━━━━━━━━━━━━━━━━━━\u001b[0m\u001b[37m\u001b[0m \u001b[1m0s\u001b[0m 29us/step - accuracy: 0.9688 - loss: 0.2732 - val_accuracy: 0.9167 - val_loss: 0.3426\n",
      "Epoch 31/35\n",
      "\u001b[1m506/506\u001b[0m \u001b[32m━━━━━━━━━━━━━━━━━━━━\u001b[0m\u001b[37m\u001b[0m \u001b[1m77s\u001b[0m 149ms/step - accuracy: 0.8946 - loss: 0.2962 - val_accuracy: 0.8683 - val_loss: 0.3914\n",
      "Epoch 32/35\n",
      "\u001b[1m506/506\u001b[0m \u001b[32m━━━━━━━━━━━━━━━━━━━━\u001b[0m\u001b[37m\u001b[0m \u001b[1m0s\u001b[0m 28us/step - accuracy: 0.8750 - loss: 0.2077 - val_accuracy: 0.8750 - val_loss: 0.3251\n",
      "Epoch 33/35\n",
      "\u001b[1m506/506\u001b[0m \u001b[32m━━━━━━━━━━━━━━━━━━━━\u001b[0m\u001b[37m\u001b[0m \u001b[1m77s\u001b[0m 150ms/step - accuracy: 0.8881 - loss: 0.3178 - val_accuracy: 0.8668 - val_loss: 0.4061\n",
      "Epoch 34/35\n",
      "\u001b[1m506/506\u001b[0m \u001b[32m━━━━━━━━━━━━━━━━━━━━\u001b[0m\u001b[37m\u001b[0m \u001b[1m0s\u001b[0m 28us/step - accuracy: 0.9062 - loss: 0.2291 - val_accuracy: 0.8750 - val_loss: 0.4453\n",
      "Epoch 35/35\n",
      "\u001b[1m506/506\u001b[0m \u001b[32m━━━━━━━━━━━━━━━━━━━━\u001b[0m\u001b[37m\u001b[0m \u001b[1m77s\u001b[0m 151ms/step - accuracy: 0.8941 - loss: 0.2945 - val_accuracy: 0.8703 - val_loss: 0.3914\n",
      "\u001b[1m168/168\u001b[0m \u001b[32m━━━━━━━━━━━━━━━━━━━━\u001b[0m\u001b[37m\u001b[0m \u001b[1m3s\u001b[0m 17ms/step - accuracy: 0.8809 - loss: 0.3573\n",
      "Test accuracy: 0.8772321343421936\n"
     ]
    }
   ],
   "source": [
    "learning_rate = 0.001\n",
    "dropout_rate = 0.1\n",
    "batch_size = 32\n",
    "scores = {}\n",
    "\n",
    "model = make_model(learning_rate=learning_rate, dropout_rate=dropout_rate)\n",
    "history = model.fit(\n",
    "  train_generator,\n",
    "  steps_per_epoch=train_generator.samples // batch_size,\n",
    "  epochs=epochs,\n",
    "  validation_data=validation_generator,\n",
    "  validation_steps=validation_generator.samples // batch_size,\n",
    "  callbacks=[checkpoint])\n",
    "scores['final'] = history.history\n",
    "test_loss, test_acc = model.evaluate(test_generator, steps=test_generator.samples // batch_size)\n",
    "print('Test accuracy:', test_acc)"
   ]
  },
  {
   "cell_type": "code",
   "execution_count": 32,
   "metadata": {
    "execution": {
     "iopub.execute_input": "2024-12-30T17:15:41.108197Z",
     "iopub.status.busy": "2024-12-30T17:15:41.107917Z",
     "iopub.status.idle": "2024-12-30T17:15:41.385713Z",
     "shell.execute_reply": "2024-12-30T17:15:41.384779Z",
     "shell.execute_reply.started": "2024-12-30T17:15:41.108176Z"
    },
    "trusted": true
   },
   "outputs": [],
   "source": [
    "model.save('model_final_version_lr0.001_dr0.1_augmented.h5.keras')"
   ]
  },
  {
   "cell_type": "code",
   "execution_count": 33,
   "metadata": {
    "execution": {
     "iopub.execute_input": "2024-12-30T17:15:44.531976Z",
     "iopub.status.busy": "2024-12-30T17:15:44.531645Z",
     "iopub.status.idle": "2024-12-30T17:15:44.537504Z",
     "shell.execute_reply": "2024-12-30T17:15:44.536832Z",
     "shell.execute_reply.started": "2024-12-30T17:15:44.531946Z"
    },
    "trusted": true
   },
   "outputs": [
    {
     "data": {
      "text/plain": [
       "{'AnnualCrop': 0,\n",
       " 'Forest': 1,\n",
       " 'HerbaceousVegetation': 2,\n",
       " 'Highway': 3,\n",
       " 'Industrial': 4,\n",
       " 'Pasture': 5,\n",
       " 'PermanentCrop': 6,\n",
       " 'Residential': 7,\n",
       " 'River': 8,\n",
       " 'SeaLake': 9}"
      ]
     },
     "execution_count": 33,
     "metadata": {},
     "output_type": "execute_result"
    }
   ],
   "source": [
    "class_indices = train_generator.class_indices\n",
    "class_indices"
   ]
  }
 ],
 "metadata": {
  "accelerator": "GPU",
  "colab": {
   "gpuType": "T4",
   "provenance": []
  },
  "kaggle": {
   "accelerator": "gpu",
   "dataSources": [],
   "dockerImageVersionId": 30823,
   "isGpuEnabled": true,
   "isInternetEnabled": true,
   "language": "python",
   "sourceType": "notebook"
  },
  "kernelspec": {
   "display_name": "Python 3",
   "language": "python",
   "name": "python3"
  },
  "language_info": {
   "codemirror_mode": {
    "name": "ipython",
    "version": 3
   },
   "file_extension": ".py",
   "mimetype": "text/x-python",
   "name": "python",
   "nbconvert_exporter": "python",
   "pygments_lexer": "ipython3",
   "version": "3.10.12"
  }
 },
 "nbformat": 4,
 "nbformat_minor": 4
}
