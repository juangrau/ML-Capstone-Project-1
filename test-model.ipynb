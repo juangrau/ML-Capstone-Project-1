{
 "cells": [
  {
   "cell_type": "code",
   "execution_count": 1,
   "metadata": {},
   "outputs": [
    {
     "name": "stderr",
     "output_type": "stream",
     "text": [
      "2024-12-27 14:48:33.199718: I tensorflow/core/platform/cpu_feature_guard.cc:210] This TensorFlow binary is optimized to use available CPU instructions in performance-critical operations.\n",
      "To enable the following instructions: SSE4.1 SSE4.2 AVX, in other operations, rebuild TensorFlow with the appropriate compiler flags.\n"
     ]
    }
   ],
   "source": [
    "import numpy as np\n",
    "import tensorflow as tf\n",
    "from tensorflow import keras"
   ]
  },
  {
   "cell_type": "code",
   "execution_count": 2,
   "metadata": {},
   "outputs": [
    {
     "data": {
      "text/plain": [
       "'2.17.0'"
      ]
     },
     "execution_count": 2,
     "metadata": {},
     "output_type": "execute_result"
    }
   ],
   "source": [
    "tf.__version__"
   ]
  },
  {
   "cell_type": "code",
   "execution_count": 3,
   "metadata": {},
   "outputs": [
    {
     "name": "stdout",
     "output_type": "stream",
     "text": [
      "Python 3.10.12\n"
     ]
    }
   ],
   "source": [
    "!python --version"
   ]
  },
  {
   "cell_type": "code",
   "execution_count": 4,
   "metadata": {},
   "outputs": [],
   "source": [
    "from keras.preprocessing.image import load_img\n",
    "from keras.applications.xception import preprocess_input\n",
    "import PIL"
   ]
  },
  {
   "cell_type": "code",
   "execution_count": 5,
   "metadata": {},
   "outputs": [
    {
     "data": {
      "text/plain": [
       "['AnnualCrop',\n",
       " 'Forest',\n",
       " 'HerbaceousVegetation',\n",
       " 'Highway',\n",
       " 'Industrial',\n",
       " 'Pasture',\n",
       " 'PermanentCrop',\n",
       " 'Residential',\n",
       " 'River',\n",
       " 'SeaLake']"
      ]
     },
     "execution_count": 5,
     "metadata": {},
     "output_type": "execute_result"
    }
   ],
   "source": [
    "classes = ['AnnualCrop',\n",
    " 'Forest',\n",
    " 'HerbaceousVegetation',\n",
    " 'Highway',\n",
    " 'Industrial',\n",
    " 'Pasture',\n",
    " 'PermanentCrop',\n",
    " 'Residential',\n",
    " 'River',\n",
    " 'SeaLake']\n",
    "\n",
    "classes"
   ]
  },
  {
   "cell_type": "code",
   "execution_count": 33,
   "metadata": {},
   "outputs": [],
   "source": [
    "model = keras.models.load_model('./model_vf_24_0.958.h5.keras')"
   ]
  },
  {
   "cell_type": "code",
   "execution_count": 34,
   "metadata": {},
   "outputs": [],
   "source": [
    "def get_prediction(img_url, classes):\n",
    "    img = load_img(img_url, target_size=(150, 150))\n",
    "    x = np.array(img)\n",
    "    X = np.array([x])\n",
    "    X = preprocess_input(X)\n",
    "    preds = model.predict(X)\n",
    "    return dict(zip(classes, preds[0]))\n",
    "\n",
    "    "
   ]
  },
  {
   "cell_type": "code",
   "execution_count": 40,
   "metadata": {},
   "outputs": [
    {
     "name": "stdout",
     "output_type": "stream",
     "text": [
      "\u001b[1m1/1\u001b[0m \u001b[32m━━━━━━━━━━━━━━━━━━━━\u001b[0m\u001b[37m\u001b[0m \u001b[1m0s\u001b[0m 160ms/step\n"
     ]
    },
    {
     "data": {
      "text/plain": [
       "{'AnnualCrop': 2.912262e-10,\n",
       " 'Forest': 1.7284238e-10,\n",
       " 'HerbaceousVegetation': 2.5663874e-06,\n",
       " 'Highway': 0.0033005045,\n",
       " 'Industrial': 0.45216134,\n",
       " 'Pasture': 7.4172235e-10,\n",
       " 'PermanentCrop': 2.1298106e-06,\n",
       " 'Residential': 0.54453343,\n",
       " 'River': 6.8858214e-10,\n",
       " 'SeaLake': 6.1157026e-12}"
      ]
     },
     "execution_count": 40,
     "metadata": {},
     "output_type": "execute_result"
    }
   ],
   "source": [
    "img_url = ('./Residential_1000.jpg')\n",
    "get_prediction(img_url, classes)"
   ]
  },
  {
   "cell_type": "code",
   "execution_count": null,
   "metadata": {},
   "outputs": [],
   "source": []
  },
  {
   "cell_type": "code",
   "execution_count": null,
   "metadata": {},
   "outputs": [],
   "source": []
  },
  {
   "cell_type": "code",
   "execution_count": 42,
   "metadata": {},
   "outputs": [
    {
     "name": "stdout",
     "output_type": "stream",
     "text": [
      "INFO:tensorflow:Assets written to: /tmp/tmpu3t6bzo5/assets\n"
     ]
    },
    {
     "name": "stderr",
     "output_type": "stream",
     "text": [
      "INFO:tensorflow:Assets written to: /tmp/tmpu3t6bzo5/assets\n"
     ]
    },
    {
     "name": "stdout",
     "output_type": "stream",
     "text": [
      "Saved artifact at '/tmp/tmpu3t6bzo5'. The following endpoints are available:\n",
      "\n",
      "* Endpoint 'serve'\n",
      "  args_0 (POSITIONAL_ONLY): TensorSpec(shape=(None, 150, 150, 3), dtype=tf.float32, name='input_layer')\n",
      "Output Type:\n",
      "  TensorSpec(shape=(None, 10), dtype=tf.float32, name=None)\n",
      "Captures:\n",
      "  140468723138800: TensorSpec(shape=(), dtype=tf.resource, name=None)\n",
      "  140468723144608: TensorSpec(shape=(), dtype=tf.resource, name=None)\n",
      "  140469327781680: TensorSpec(shape=(), dtype=tf.resource, name=None)\n",
      "  140469323134432: TensorSpec(shape=(), dtype=tf.resource, name=None)\n",
      "  140470823012832: TensorSpec(shape=(), dtype=tf.resource, name=None)\n",
      "  140469322939232: TensorSpec(shape=(), dtype=tf.resource, name=None)\n",
      "  140469322768176: TensorSpec(shape=(), dtype=tf.resource, name=None)\n",
      "  140468725107344: TensorSpec(shape=(), dtype=tf.resource, name=None)\n",
      "  140468725109104: TensorSpec(shape=(), dtype=tf.resource, name=None)\n",
      "  140468724717120: TensorSpec(shape=(), dtype=tf.resource, name=None)\n",
      "  140468724715712: TensorSpec(shape=(), dtype=tf.resource, name=None)\n",
      "  140468724725216: TensorSpec(shape=(), dtype=tf.resource, name=None)\n",
      "  140468724715360: TensorSpec(shape=(), dtype=tf.resource, name=None)\n",
      "  140468724309456: TensorSpec(shape=(), dtype=tf.resource, name=None)\n",
      "  140468724308576: TensorSpec(shape=(), dtype=tf.resource, name=None)\n",
      "  140468724308048: TensorSpec(shape=(), dtype=tf.resource, name=None)\n"
     ]
    },
    {
     "name": "stderr",
     "output_type": "stream",
     "text": [
      "W0000 00:00:1735335592.656211   41780 tf_tfl_flatbuffer_helpers.cc:392] Ignored output_format.\n",
      "W0000 00:00:1735335592.661618   41780 tf_tfl_flatbuffer_helpers.cc:395] Ignored drop_control_dependency.\n",
      "2024-12-27 17:39:52.673223: I tensorflow/cc/saved_model/reader.cc:83] Reading SavedModel from: /tmp/tmpu3t6bzo5\n",
      "2024-12-27 17:39:52.675238: I tensorflow/cc/saved_model/reader.cc:52] Reading meta graph with tags { serve }\n",
      "2024-12-27 17:39:52.675291: I tensorflow/cc/saved_model/reader.cc:147] Reading SavedModel debug info (if present) from: /tmp/tmpu3t6bzo5\n",
      "2024-12-27 17:39:52.710301: I tensorflow/compiler/mlir/mlir_graph_optimization_pass.cc:388] MLIR V1 optimization pass is not enabled\n",
      "2024-12-27 17:39:52.715308: I tensorflow/cc/saved_model/loader.cc:236] Restoring SavedModel bundle.\n",
      "2024-12-27 17:39:53.094602: I tensorflow/cc/saved_model/loader.cc:220] Running initialization op on SavedModel bundle at path: /tmp/tmpu3t6bzo5\n",
      "2024-12-27 17:39:53.125115: I tensorflow/cc/saved_model/loader.cc:462] SavedModel load for tags { serve }; Status: success: OK. Took 452889 microseconds.\n"
     ]
    }
   ],
   "source": [
    "converter = tf.lite.TFLiteConverter.from_keras_model(model)\n",
    "\n",
    "tflite_model = converter.convert()\n",
    "\n",
    "with open('terrain-classification.tflite', 'wb') as f_out:\n",
    "    f_out.write(tflite_model)"
   ]
  },
  {
   "cell_type": "code",
   "execution_count": 43,
   "metadata": {},
   "outputs": [],
   "source": [
    "import tensorflow.lite as tflite"
   ]
  },
  {
   "cell_type": "code",
   "execution_count": 47,
   "metadata": {},
   "outputs": [],
   "source": [
    "interpreter = tflite.Interpreter(model_path='terrain-classification.tflite')\n",
    "interpreter.allocate_tensors()\n",
    "\n",
    "input_index = interpreter.get_input_details()[0]['index']\n",
    "output_index = interpreter.get_output_details()[0]['index']"
   ]
  },
  {
   "cell_type": "code",
   "execution_count": 48,
   "metadata": {},
   "outputs": [],
   "source": [
    "img_url = './Residential_1000.jpg'\n",
    "img = load_img(img_url, target_size=(150, 150))\n",
    "x = np.array(img)\n",
    "X = np.array([x])\n",
    "X = preprocess_input(X)"
   ]
  },
  {
   "cell_type": "code",
   "execution_count": 50,
   "metadata": {},
   "outputs": [
    {
     "data": {
      "text/plain": [
       "{'AnnualCrop': 2.912257e-10,\n",
       " 'Forest': 1.72842e-10,\n",
       " 'HerbaceousVegetation': 2.5663796e-06,\n",
       " 'Highway': 0.003300501,\n",
       " 'Industrial': 0.45216253,\n",
       " 'Pasture': 7.4171896e-10,\n",
       " 'PermanentCrop': 2.129804e-06,\n",
       " 'Residential': 0.5445323,\n",
       " 'River': 6.885813e-10,\n",
       " 'SeaLake': 6.115678e-12}"
      ]
     },
     "execution_count": 50,
     "metadata": {},
     "output_type": "execute_result"
    }
   ],
   "source": [
    "interpreter.set_tensor(input_index, X)\n",
    "interpreter.invoke()\n",
    "preds = interpreter.get_tensor(output_index)\n",
    "dict(zip(classes, preds[0]))"
   ]
  },
  {
   "cell_type": "code",
   "execution_count": 51,
   "metadata": {},
   "outputs": [],
   "source": [
    "from keras_image_helper import create_preprocessor"
   ]
  },
  {
   "cell_type": "code",
   "execution_count": 58,
   "metadata": {},
   "outputs": [
    {
     "data": {
      "text/plain": [
       "{'AnnualCrop': 0.99991465,\n",
       " 'Forest': 4.3515373e-13,\n",
       " 'HerbaceousVegetation': 7.984264e-05,\n",
       " 'Highway': 3.5596227e-06,\n",
       " 'Industrial': 2.1262835e-08,\n",
       " 'Pasture': 2.4187857e-10,\n",
       " 'PermanentCrop': 1.9598576e-06,\n",
       " 'Residential': 1.8129019e-12,\n",
       " 'River': 2.2560126e-08,\n",
       " 'SeaLake': 1.1681824e-08}"
      ]
     },
     "execution_count": 58,
     "metadata": {},
     "output_type": "execute_result"
    }
   ],
   "source": [
    "preprocessor = create_preprocessor('xception', target_size=(150, 150))\n",
    "img_url = './AnnualCrop_1000.jpg'\n",
    "X = preprocessor.from_path(img_url)\n",
    "interpreter.set_tensor(input_index, X)\n",
    "interpreter.invoke()\n",
    "preds = interpreter.get_tensor(output_index)\n",
    "dict(zip(classes, preds[0]))"
   ]
  },
  {
   "cell_type": "markdown",
   "metadata": {},
   "source": [
    "# Tensorflow lite\n"
   ]
  },
  {
   "cell_type": "code",
   "execution_count": 59,
   "metadata": {},
   "outputs": [
    {
     "name": "stdout",
     "output_type": "stream",
     "text": [
      "Collecting tflite-runtime\n",
      "  Downloading tflite_runtime-2.14.0-cp310-cp310-manylinux2014_x86_64.whl.metadata (1.4 kB)\n",
      "Requirement already satisfied: numpy>=1.23.2 in /home/jgrau/anaconda3/envs/python3.10/lib/python3.10/site-packages (from tflite-runtime) (1.26.4)\n",
      "Downloading tflite_runtime-2.14.0-cp310-cp310-manylinux2014_x86_64.whl (2.4 MB)\n",
      "\u001b[2K   \u001b[90m━━━━━━━━━━━━━━━━━━━━━━━━━━━━━━━━━━━━━━━━\u001b[0m \u001b[32m2.4/2.4 MB\u001b[0m \u001b[31m4.3 MB/s\u001b[0m eta \u001b[36m0:00:00\u001b[0ma \u001b[36m0:00:01\u001b[0m\n",
      "\u001b[?25hInstalling collected packages: tflite-runtime\n",
      "Successfully installed tflite-runtime-2.14.0\n"
     ]
    }
   ],
   "source": [
    "!pip install tflite-runtime"
   ]
  },
  {
   "cell_type": "code",
   "execution_count": 5,
   "metadata": {},
   "outputs": [],
   "source": [
    "import tflite_runtime.interpreter as tflite \n",
    "from keras_image_helper import create_preprocessor"
   ]
  },
  {
   "cell_type": "code",
   "execution_count": 10,
   "metadata": {},
   "outputs": [
    {
     "data": {
      "text/plain": [
       "['AnnualCrop',\n",
       " 'Forest',\n",
       " 'HerbaceousVegetation',\n",
       " 'Highway',\n",
       " 'Industrial',\n",
       " 'Pasture',\n",
       " 'PermanentCrop',\n",
       " 'Residential',\n",
       " 'River',\n",
       " 'SeaLake']"
      ]
     },
     "execution_count": 10,
     "metadata": {},
     "output_type": "execute_result"
    }
   ],
   "source": [
    "classes = ['AnnualCrop',\n",
    " 'Forest',\n",
    " 'HerbaceousVegetation',\n",
    " 'Highway',\n",
    " 'Industrial',\n",
    " 'Pasture',\n",
    " 'PermanentCrop',\n",
    " 'Residential',\n",
    " 'River',\n",
    " 'SeaLake']\n",
    "\n",
    "classes"
   ]
  },
  {
   "cell_type": "code",
   "execution_count": 14,
   "metadata": {},
   "outputs": [],
   "source": [
    "preprocessor = create_preprocessor('xception', target_size=(150, 150))\n",
    "img_url = './AnnualCrop_1004.jpg'\n",
    "X = preprocessor.from_path(img_url)"
   ]
  },
  {
   "cell_type": "code",
   "execution_count": 15,
   "metadata": {},
   "outputs": [
    {
     "data": {
      "text/plain": [
       "{'AnnualCrop': 0.99901104,\n",
       " 'Forest': 6.1193684e-19,\n",
       " 'HerbaceousVegetation': 1.38757645e-08,\n",
       " 'Highway': 0.000988261,\n",
       " 'Industrial': 1.2046471e-14,\n",
       " 'Pasture': 3.6291554e-15,\n",
       " 'PermanentCrop': 5.1203884e-08,\n",
       " 'Residential': 3.6226745e-19,\n",
       " 'River': 5.613105e-07,\n",
       " 'SeaLake': 8.709841e-12}"
      ]
     },
     "execution_count": 15,
     "metadata": {},
     "output_type": "execute_result"
    }
   ],
   "source": [
    "# Load the TFLite model\n",
    "interpreter = tflite.Interpreter(model_path=\"./terrain-classification.tflite\") \n",
    "interpreter.allocate_tensors()\n",
    "\n",
    "# Get input and output details\n",
    "input_index = interpreter.get_input_details()[0]['index']\n",
    "output_index = interpreter.get_output_details()[0]['index']\n",
    "\n",
    "# Prepare input data\n",
    "interpreter.set_tensor(input_index, X)\n",
    "\n",
    "# Run inference\n",
    "interpreter.invoke()\n",
    "\n",
    "# Get output data\n",
    "preds = interpreter.get_tensor(output_index)\n",
    "dict(zip(classes, preds[0]))"
   ]
  }
 ],
 "metadata": {
  "kernelspec": {
   "display_name": "python3.10",
   "language": "python",
   "name": "python3"
  },
  "language_info": {
   "codemirror_mode": {
    "name": "ipython",
    "version": 3
   },
   "file_extension": ".py",
   "mimetype": "text/x-python",
   "name": "python",
   "nbconvert_exporter": "python",
   "pygments_lexer": "ipython3",
   "version": "3.10.12"
  }
 },
 "nbformat": 4,
 "nbformat_minor": 2
}
